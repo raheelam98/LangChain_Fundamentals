{
  "nbformat": 4,
  "nbformat_minor": 0,
  "metadata": {
    "colab": {
      "provenance": [],
      "authorship_tag": "ABX9TyMkAEeSForDYHf45nUWBnvs",
      "include_colab_link": true
    },
    "kernelspec": {
      "name": "python3",
      "display_name": "Python 3"
    },
    "language_info": {
      "name": "python"
    }
  },
  "cells": [
    {
      "cell_type": "markdown",
      "metadata": {
        "id": "view-in-github",
        "colab_type": "text"
      },
      "source": [
        "<a href=\"https://colab.research.google.com/github/raheelam98/LangChain_Fundamentals/blob/main/langchain_course_jupyter/section_4_re_act_agent/part1_re_act_agent_tools.ipynb\" target=\"_parent\"><img src=\"https://colab.research.google.com/assets/colab-badge.svg\" alt=\"Open In Colab\"/></a>"
      ]
    },
    {
      "cell_type": "markdown",
      "source": [
        "### **Section 5: ReAct Agent Tools**\n",
        "\n",
        "[Defining Custom Tools](https://python.langchain.com/v0.1/docs/modules/tools/custom_tools/)\n",
        "\n"
      ],
      "metadata": {
        "id": "yyU2ZeAi65vj"
      }
    },
    {
      "cell_type": "markdown",
      "source": [
        "## **Defining Tools for ReAct agent**"
      ],
      "metadata": {
        "id": "dylH2lEMZ5tv"
      }
    },
    {
      "cell_type": "code",
      "execution_count": null,
      "metadata": {
        "id": "-KpN6Wusy8hC"
      },
      "outputs": [],
      "source": [
        "# Install the required packages:\n",
        "%%capture --no-stderr\n",
        "%pip install --quiet -U python-dotenv langsmith langchain langchain_google_genai"
      ]
    },
    {
      "cell_type": "code",
      "source": [
        "import os\n",
        "from google.colab import userdata\n",
        "\n",
        "os.environ[\"LANGCHAIN_API_KEY\"] = userdata.get('LANGCHAIN_API_KEY')\n",
        "\n",
        "os.environ[\"LANGCHAIN_TRACING_V2\"] = \"true\"\n",
        "os.environ[\"LANGCHAIN_PROJECT\"] = \"ReAct Agent\""
      ],
      "metadata": {
        "id": "mSZ_rRAx7iTj"
      },
      "execution_count": null,
      "outputs": []
    },
    {
      "cell_type": "code",
      "source": [
        "# API Keys\n",
        "# Get the GEMINI API key from user data\n",
        "from google.colab import userdata\n",
        "gemini_api_key = userdata.get('GEMINI_API_KEY')"
      ],
      "metadata": {
        "id": "hUXPW-APWgLd"
      },
      "execution_count": null,
      "outputs": []
    },
    {
      "cell_type": "code",
      "source": [
        "# llm\n",
        "from langchain_google_genai import ChatGoogleGenerativeAI\n",
        "\n",
        "llm = ChatGoogleGenerativeAI(\n",
        "    model=\"gemini-1.5-flash\",\n",
        "    max_retries=2,\n",
        "    api_key=gemini_api_key\n",
        ")"
      ],
      "metadata": {
        "id": "sTgZwuPKWlEf"
      },
      "execution_count": null,
      "outputs": []
    },
    {
      "cell_type": "code",
      "source": [
        "# app/main.py\n",
        "\n",
        "from dotenv import load_dotenv\n",
        "\n",
        "load_dotenv()\n",
        "\n",
        "def get_text_length_test(text:str)-> int:\n",
        "  \"\"\"Returns the length of a text by characters\"\"\"\n",
        "  print(f\"get_text_length enter with {text=}\")\n",
        "  text = text.strip(\"'\\n\").strip(\n",
        "      '\"'\n",
        "  ) # stripping away non alphabetic character just in case\n",
        "\n",
        "  return len(text)\n"
      ],
      "metadata": {
        "id": "ZSiAuy7_8F3P"
      },
      "execution_count": null,
      "outputs": []
    },
    {
      "cell_type": "code",
      "source": [
        "print(\"ReAct Agent\")\n",
        "print(get_text_length_test(text=\"ReAct Agent\"))"
      ],
      "metadata": {
        "colab": {
          "base_uri": "https://localhost:8080/"
        },
        "id": "K94Qor_e_kc2",
        "outputId": "7f49b024-61a2-49e9-c76b-dc7fecaea2cc"
      },
      "execution_count": null,
      "outputs": [
        {
          "output_type": "stream",
          "name": "stdout",
          "text": [
            "ReAct Agent\n",
            "get_text_length enter with text='ReAct Agent'\n",
            "11\n"
          ]
        }
      ]
    },
    {
      "cell_type": "markdown",
      "source": [
        "#### **Defining Tools for ReAct agent Part1(Detail)**\n",
        "\n",
        "[LangChain Hub](https://smith.langchain.com/hub?organizationId=607e9d67-1fc3-4433-bc0c-4507b1714844)\n",
        "\n",
        "[How to create tools](https://python.langchain.com/docs/how_to/custom_tools/)"
      ],
      "metadata": {
        "id": "AVB1Rg0i_L_y"
      }
    },
    {
      "cell_type": "code",
      "source": [
        "# app/main.py\n",
        "\n",
        "from langchain.tools import tool\n",
        "from dotenv import load_dotenv\n",
        "\n",
        "load_dotenv()\n",
        "\n",
        "@tool\n",
        "def get_text_length(text:str) -> int:\n",
        "  \"\"\"Returns the length of a text by characters\"\"\"\n",
        "\n",
        "  return len(text)\n"
      ],
      "metadata": {
        "id": "yk2-9-c4_LkD"
      },
      "execution_count": null,
      "outputs": []
    },
    {
      "cell_type": "code",
      "source": [
        "print(\"\\nReAct Agent\\n\")\n",
        "tools = [get_text_length]\n",
        "\n",
        "template= \"\"\"\n",
        "Answer the following questions as best you can. You have access to the following tools:\n",
        "\n",
        "{tools}\n",
        "\n",
        "Use the following format:\n",
        "\n",
        "Question: the input question you must answer\n",
        "Thought: you should always think about what to do\n",
        "Action: the action to take, should be one of [{tool_names}]\n",
        "Action Input: the input to the action\n",
        "Observation: the result of the action\n",
        "... (this Thought/Action/Action Input/Observation can repeat N times)\n",
        "Thought: I now know the final answer\n",
        "Final Answer: the final answer to the original input question\n",
        "\n",
        "Begin!\n",
        "\n",
        "Question: {input}\n",
        "Thought:{agent_scratchpad}\n",
        "\"\"\""
      ],
      "metadata": {
        "colab": {
          "base_uri": "https://localhost:8080/"
        },
        "id": "chtrJsTD31bc",
        "outputId": "38c3f448-6327-4859-a3b4-20158e7d231b"
      },
      "execution_count": null,
      "outputs": [
        {
          "output_type": "stream",
          "name": "stdout",
          "text": [
            "\n",
            "ReAct Agent\n",
            "\n"
          ]
        }
      ]
    },
    {
      "cell_type": "markdown",
      "source": [
        "**PromptTemplate**\n",
        "\n",
        "```\n",
        "from langchain.prompts import PromptTemplate\n",
        "\n",
        "prompt = PromptTemplate.from_template(template=template).partial()\n",
        "```\n"
      ],
      "metadata": {
        "id": "vJeyghUSU-1S"
      }
    },
    {
      "cell_type": "code",
      "source": [
        "from langchain.prompts import PromptTemplate\n",
        "\n",
        "prompt = PromptTemplate.from_template(template=template).partial(\n",
        "    tools=tools,\n",
        "    tool_names= \",\".join([t.name for t in tools])\n",
        "    )\n",
        "\n",
        "# print(prompt)"
      ],
      "metadata": {
        "id": "PHjMDOWg7Rwa"
      },
      "execution_count": null,
      "outputs": []
    },
    {
      "cell_type": "markdown",
      "source": [
        "**Render the tool name and description in plain text.**\n",
        "\n",
        "```\n",
        "from langchain.tools.render import render_text_description\n",
        "\n",
        "render_text_description()\n",
        "```"
      ],
      "metadata": {
        "id": "JkdScXIuUlX_"
      }
    },
    {
      "cell_type": "code",
      "source": [
        "from langchain.prompts import PromptTemplate\n",
        "from langchain.tools.render import render_text_description\n",
        "\n",
        "prompt = PromptTemplate.from_template(template=template).partial(\n",
        "    tools=render_text_description(tools),\n",
        "    tool_names= \",\".join([t.name for t in tools])\n",
        "    )\n"
      ],
      "metadata": {
        "id": "4YsCvGcqUHXH"
      },
      "execution_count": null,
      "outputs": []
    },
    {
      "cell_type": "code",
      "source": [
        "from langchain_google_genai import ChatGoogleGenerativeAI\n",
        "# Initialize the ChatGoogleGenerativeAI model\n",
        "llm = ChatGoogleGenerativeAI(\n",
        "    model=\"gemini-1.5-flash\",  # Specify the model\n",
        "    api_key=gemini_api_key,  # Pass the API key\n",
        "    stop = [\"\\nObservation\"]\n",
        "    )"
      ],
      "metadata": {
        "id": "2ViIXE1tdYIA"
      },
      "execution_count": null,
      "outputs": []
    },
    {
      "cell_type": "code",
      "source": [
        "res = llm.invoke(\"hi\")\n",
        "print(res)"
      ],
      "metadata": {
        "colab": {
          "base_uri": "https://localhost:8080/"
        },
        "id": "uaU7nr_vD7Dk",
        "outputId": "77f18d24-cee5-47c1-ef49-fdc125219a50"
      },
      "execution_count": null,
      "outputs": [
        {
          "output_type": "stream",
          "name": "stdout",
          "text": [
            "content='Hi there! How can I help you today?' additional_kwargs={} response_metadata={'prompt_feedback': {'block_reason': 0, 'safety_ratings': []}, 'finish_reason': 'STOP', 'safety_ratings': []} id='run-8c74b00e-c168-4d59-a094-46a6d2025f06-0' usage_metadata={'input_tokens': 2, 'output_tokens': 11, 'total_tokens': 13, 'input_token_details': {'cache_read': 0}}\n"
          ]
        }
      ]
    },
    {
      "cell_type": "markdown",
      "source": [
        "ReAct prompt, LLM Reasoning Engine, **Output Parsing and Tool** Execution"
      ],
      "metadata": {
        "id": "jwbp1iDxdx0c"
      }
    },
    {
      "cell_type": "markdown",
      "source": [
        "[LangChain Expression Language (LCEL)](https://python.langchain.com/docs/concepts/lcel/)"
      ],
      "metadata": {
        "id": "McwDposjaevA"
      }
    },
    {
      "cell_type": "markdown",
      "source": [
        "#### **Defining Tools for ReAct agent - Part 1**"
      ],
      "metadata": {
        "id": "DtXz0OrkVYxa"
      }
    },
    {
      "cell_type": "code",
      "source": [
        "## Part 1 : Defining Tools for our ReAct agent\n",
        "## 28. Defining Tools for our ReAct agent\n",
        "\n",
        "from typing import Union, List\n",
        "\n",
        "from dotenv import load_dotenv\n",
        "# from langchain_openai import ChatOpenAI\n",
        "from langchain_google_genai import ChatGoogleGenerativeAI\n",
        "from langchain.prompts import PromptTemplate\n",
        "from langchain.schema import AgentAction, AgentFinish\n",
        "from langchain.tools import Tool, tool\n",
        "from langchain.tools.render import render_text_description\n",
        "\n",
        "load_dotenv()\n",
        "\n",
        "@tool\n",
        "def get_text_length(text: str) -> int:\n",
        "    \"\"\"Returns the length of a text by characters\"\"\"\n",
        "    print(f\"get_text_length enter with {text=}\")\n",
        "    text = text.strip(\"'\\n\").strip(\n",
        "        '\"'\n",
        "    )  # stripping away non alphabetic characters just in case\n",
        "\n",
        "    return len(text)\n",
        "\n",
        "def find_tool_by_name(tools: List[Tool], tool_name: str) -> Tool:\n",
        "    for tool in tools:\n",
        "        if tool.name == tool_name:\n",
        "            return tool\n",
        "    raise ValueError(f\"Tool wtih name {tool_name} not found\")\n",
        "\n",
        "\n",
        "if __name__ == \"__main__\":\n",
        "    print(\"Hello ReAct LangChain!\")\n",
        "    tools = [get_text_length]\n",
        "\n",
        "    template = \"\"\"\n",
        "    Answer the following questions as best you can. You have access to the following tools:\n",
        "\n",
        "    {tools}\n",
        "\n",
        "    Use the following format:\n",
        "\n",
        "    Question: the input question you must answer\n",
        "    Thought: you should always think about what to do\n",
        "    Action: the action to take, should be one of [{tool_names}]\n",
        "    Action Input: the input to the action\n",
        "    Observation: the result of the action\n",
        "    ... (this Thought/Action/Action Input/Observation can repeat N times)\n",
        "    Thought: I now know the final answer\n",
        "    Final Answer: the final answer to the original input question\n",
        "\n",
        "    Begin!\n",
        "\n",
        "    Question: {input}\n",
        "    Thought:\n",
        "    \"\"\"\n",
        "\n",
        "    prompt = PromptTemplate.from_template(template=template).partial(\n",
        "        tools=render_text_description(tools),\n",
        "        tool_names=\", \".join([t.name for t in tools]),\n",
        "    )\n",
        "\n",
        "    llm = ChatGoogleGenerativeAI(\n",
        "                                 model=\"gemini-1.5-flash\",  # Specify the model\n",
        "                                 api_key=gemini_api_key,  # Pass the API key\n",
        "                                 stop = [\"\\nObservation\", \"Observation\"]\n",
        "                                 )\n"
      ],
      "metadata": {
        "colab": {
          "base_uri": "https://localhost:8080/"
        },
        "id": "kHPAs3tAgJYZ",
        "outputId": "73a6bdf4-aa52-44f6-dea0-2ffe8d20ff43"
      },
      "execution_count": null,
      "outputs": [
        {
          "output_type": "stream",
          "name": "stdout",
          "text": [
            "Hello ReAct LangChain!\n"
          ]
        }
      ]
    }
  ]
}