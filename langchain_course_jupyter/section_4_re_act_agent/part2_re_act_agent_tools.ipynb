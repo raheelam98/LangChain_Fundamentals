{
  "nbformat": 4,
  "nbformat_minor": 0,
  "metadata": {
    "colab": {
      "provenance": [],
      "authorship_tag": "ABX9TyPIiU+DpiRZBJWdgaLZzT5E",
      "include_colab_link": true
    },
    "kernelspec": {
      "name": "python3",
      "display_name": "Python 3"
    },
    "language_info": {
      "name": "python"
    }
  },
  "cells": [
    {
      "cell_type": "markdown",
      "metadata": {
        "id": "view-in-github",
        "colab_type": "text"
      },
      "source": [
        "<a href=\"https://colab.research.google.com/github/raheelam98/LangChain_Fundamentals/blob/main/langchain_course_jupyter/section_4_re_act_agent/part2_re_act_agent_tools.ipynb\" target=\"_parent\"><img src=\"https://colab.research.google.com/assets/colab-badge.svg\" alt=\"Open In Colab\"/></a>"
      ]
    },
    {
      "cell_type": "markdown",
      "source": [
        "**Section 5: ReAct Agent Tools**\n",
        "\n",
        "[Defining Custom Tools](https://python.langchain.com/v0.1/docs/modules/tools/custom_tools/)"
      ],
      "metadata": {
        "id": "yyU2ZeAi65vj"
      }
    },
    {
      "cell_type": "code",
      "execution_count": 12,
      "metadata": {
        "id": "-KpN6Wusy8hC"
      },
      "outputs": [],
      "source": [
        "# Install the required packages:\n",
        "%%capture --no-stderr\n",
        "%pip install --quiet -U python-dotenv langsmith langchain langchain_google_genai"
      ]
    },
    {
      "cell_type": "code",
      "source": [
        "import os\n",
        "from google.colab import userdata\n",
        "\n",
        "os.environ[\"LANGCHAIN_API_KEY\"] = userdata.get('LANGCHAIN_API_KEY')\n",
        "\n",
        "os.environ[\"LANGCHAIN_TRACING_V2\"] = \"true\"\n",
        "os.environ[\"LANGCHAIN_PROJECT\"] = \"ReAct Agent\""
      ],
      "metadata": {
        "id": "mSZ_rRAx7iTj"
      },
      "execution_count": 13,
      "outputs": []
    },
    {
      "cell_type": "code",
      "source": [
        "# API Keys\n",
        "# Get the GEMINI API key from user data\n",
        "from google.colab import userdata\n",
        "gemini_api_key = userdata.get('GEMINI_API_KEY')"
      ],
      "metadata": {
        "id": "hUXPW-APWgLd"
      },
      "execution_count": 14,
      "outputs": []
    },
    {
      "cell_type": "code",
      "source": [
        "# llm\n",
        "from langchain_google_genai import ChatGoogleGenerativeAI\n",
        "\n",
        "llm = ChatGoogleGenerativeAI(\n",
        "    model=\"gemini-1.5-flash\",\n",
        "    max_retries=2,\n",
        "    api_key=gemini_api_key\n",
        ")"
      ],
      "metadata": {
        "id": "sTgZwuPKWlEf"
      },
      "execution_count": 15,
      "outputs": []
    },
    {
      "cell_type": "code",
      "source": [
        "# app/main.py\n",
        "\n",
        "from dotenv import load_dotenv\n",
        "\n",
        "load_dotenv()\n",
        "\n",
        "def get_text_length_test(text:str)-> int:\n",
        "  \"\"\"Returns the length of a text by characters\"\"\"\n",
        "  print(f\"get_text_length enter with {text=}\")\n",
        "  text = text.strip(\"'\\n\").strip(\n",
        "      '\"'\n",
        "  ) # stripping away non alphabetic character just in case\n",
        "\n",
        "  return len(text)\n"
      ],
      "metadata": {
        "id": "ZSiAuy7_8F3P"
      },
      "execution_count": 16,
      "outputs": []
    },
    {
      "cell_type": "code",
      "source": [
        "print(\"ReAct Agent\")\n",
        "print(get_text_length_test(text=\"ReAct Agent\"))"
      ],
      "metadata": {
        "colab": {
          "base_uri": "https://localhost:8080/"
        },
        "id": "K94Qor_e_kc2",
        "outputId": "7f49b024-61a2-49e9-c76b-dc7fecaea2cc"
      },
      "execution_count": 17,
      "outputs": [
        {
          "output_type": "stream",
          "name": "stdout",
          "text": [
            "ReAct Agent\n",
            "get_text_length enter with text='ReAct Agent'\n",
            "11\n"
          ]
        }
      ]
    },
    {
      "cell_type": "markdown",
      "source": [
        "[LangChain Hub](https://smith.langchain.com/hub?organizationId=607e9d67-1fc3-4433-bc0c-4507b1714844)\n",
        "\n",
        "[How to create tools](https://python.langchain.com/docs/how_to/custom_tools/)"
      ],
      "metadata": {
        "id": "AVB1Rg0i_L_y"
      }
    },
    {
      "cell_type": "code",
      "source": [
        "# app/main.py\n",
        "\n",
        "from langchain.tools import tool\n",
        "from dotenv import load_dotenv\n",
        "\n",
        "load_dotenv()\n",
        "\n",
        "@tool\n",
        "def get_text_length(text:str) -> int:\n",
        "  \"\"\"Returns the length of a text by characters\"\"\"\n",
        "\n",
        "  return len(text)\n"
      ],
      "metadata": {
        "id": "yk2-9-c4_LkD"
      },
      "execution_count": 18,
      "outputs": []
    },
    {
      "cell_type": "code",
      "source": [
        "print(\"\\nReAct Agent\\n\")\n",
        "tools = [get_text_length]\n",
        "\n",
        "template= \"\"\"\n",
        "Answer the following questions as best you can. You have access to the following tools:\n",
        "\n",
        "{tools}\n",
        "\n",
        "Use the following format:\n",
        "\n",
        "Question: the input question you must answer\n",
        "Thought: you should always think about what to do\n",
        "Action: the action to take, should be one of [{tool_names}]\n",
        "Action Input: the input to the action\n",
        "Observation: the result of the action\n",
        "... (this Thought/Action/Action Input/Observation can repeat N times)\n",
        "Thought: I now know the final answer\n",
        "Final Answer: the final answer to the original input question\n",
        "\n",
        "Begin!\n",
        "\n",
        "Question: {input}\n",
        "Thought:{agent_scratchpad}\n",
        "\"\"\""
      ],
      "metadata": {
        "colab": {
          "base_uri": "https://localhost:8080/"
        },
        "id": "chtrJsTD31bc",
        "outputId": "0ae9bf8f-2739-4324-8689-ad6425b63456"
      },
      "execution_count": 19,
      "outputs": [
        {
          "output_type": "stream",
          "name": "stdout",
          "text": [
            "\n",
            "ReAct Agent\n",
            "\n"
          ]
        }
      ]
    },
    {
      "cell_type": "markdown",
      "source": [
        "**PromptTemplate**\n",
        "\n",
        "```\n",
        "from langchain.prompts import PromptTemplate\n",
        "\n",
        "prompt = PromptTemplate.from_template(template=template).partial()\n",
        "```\n"
      ],
      "metadata": {
        "id": "vJeyghUSU-1S"
      }
    },
    {
      "cell_type": "code",
      "source": [
        "from langchain.prompts import PromptTemplate\n",
        "\n",
        "prompt = PromptTemplate.from_template(template=template).partial(\n",
        "    tools=tools,\n",
        "    tool_names= \",\".join([t.name for t in tools])\n",
        "    )\n",
        "\n",
        "# print(prompt)"
      ],
      "metadata": {
        "id": "PHjMDOWg7Rwa"
      },
      "execution_count": 20,
      "outputs": []
    },
    {
      "cell_type": "markdown",
      "source": [
        "**Render the tool name and description in plain text.**\n",
        "\n",
        "```\n",
        "from langchain.tools.render import render_text_description\n",
        "\n",
        "render_text_description()\n",
        "```"
      ],
      "metadata": {
        "id": "JkdScXIuUlX_"
      }
    },
    {
      "cell_type": "code",
      "source": [
        "from langchain.prompts import PromptTemplate\n",
        "from langchain.tools.render import render_text_description\n",
        "\n",
        "prompt = PromptTemplate.from_template(template=template).partial(\n",
        "    tools=render_text_description(tools),\n",
        "    tool_names= \",\".join([t.name for t in tools])\n",
        "    )\n"
      ],
      "metadata": {
        "id": "4YsCvGcqUHXH"
      },
      "execution_count": 21,
      "outputs": []
    },
    {
      "cell_type": "code",
      "source": [
        "from langchain_google_genai import ChatGoogleGenerativeAI\n",
        "# Initialize the ChatGoogleGenerativeAI model\n",
        "llm = ChatGoogleGenerativeAI(\n",
        "    model=\"gemini-1.5-flash\",  # Specify the model\n",
        "    api_key=gemini_api_key,  # Pass the API key\n",
        "    stop = [\"\\nObservation\", \"Observation\"]\n",
        "    )"
      ],
      "metadata": {
        "id": "2ViIXE1tdYIA"
      },
      "execution_count": null,
      "outputs": []
    },
    {
      "cell_type": "markdown",
      "source": [
        "ReAct prompt, LLM Reasoning Engine, **Output Parsing and Tool** Execution"
      ],
      "metadata": {
        "id": "jwbp1iDxdx0c"
      }
    },
    {
      "cell_type": "code",
      "source": [],
      "metadata": {
        "id": "7xyTwFlTeBmE"
      },
      "execution_count": null,
      "outputs": []
    },
    {
      "cell_type": "markdown",
      "source": [
        "[LangChain Expression Language (LCEL)](https://python.langchain.com/docs/concepts/lcel/)"
      ],
      "metadata": {
        "id": "McwDposjaevA"
      }
    },
    {
      "cell_type": "code",
      "source": [
        "## Part 1\n",
        "## 28. Defining Tools for our ReAct agent\n",
        "\n",
        "from typing import Union, List\n",
        "\n",
        "from dotenv import load_dotenv\n",
        "# from langchain_openai import ChatOpenAI\n",
        "from langchain_google_genai import ChatGoogleGenerativeAI\n",
        "from langchain.prompts import PromptTemplate\n",
        "from langchain.schema import AgentAction, AgentFinish\n",
        "from langchain.tools import Tool, tool\n",
        "from langchain.tools.render import render_text_description\n",
        "\n",
        "load_dotenv()\n",
        "\n",
        "@tool\n",
        "def get_text_length(text: str) -> int:\n",
        "    \"\"\"Returns the length of a text by characters\"\"\"\n",
        "    print(f\"get_text_length enter with {text=}\")\n",
        "    text = text.strip(\"'\\n\").strip(\n",
        "        '\"'\n",
        "    )  # stripping away non alphabetic characters just in case\n",
        "\n",
        "    return len(text)\n",
        "\n",
        "def find_tool_by_name(tools: List[Tool], tool_name: str) -> Tool:\n",
        "    for tool in tools:\n",
        "        if tool.name == tool_name:\n",
        "            return tool\n",
        "    raise ValueError(f\"Tool wtih name {tool_name} not found\")\n",
        "\n",
        "\n",
        "if __name__ == \"__main__\":\n",
        "    print(\"Hello ReAct LangChain!\")\n",
        "    tools = [get_text_length]\n",
        "\n",
        "    template = \"\"\"\n",
        "    Answer the following questions as best you can. You have access to the following tools:\n",
        "\n",
        "    {tools}\n",
        "\n",
        "    Use the following format:\n",
        "\n",
        "    Question: the input question you must answer\n",
        "    Thought: you should always think about what to do\n",
        "    Action: the action to take, should be one of [{tool_names}]\n",
        "    Action Input: the input to the action\n",
        "    Observation: the result of the action\n",
        "    ... (this Thought/Action/Action Input/Observation can repeat N times)\n",
        "    Thought: I now know the final answer\n",
        "    Final Answer: the final answer to the original input question\n",
        "\n",
        "    Begin!\n",
        "\n",
        "    Question: {input}\n",
        "    Thought:\n",
        "    \"\"\"\n",
        "\n",
        "    prompt = PromptTemplate.from_template(template=template).partial(\n",
        "        tools=render_text_description(tools),\n",
        "        tool_names=\", \".join([t.name for t in tools]),\n",
        "    )\n",
        "\n",
        "    llm = ChatGoogleGenerativeAI(\n",
        "                                 model=\"gemini-1.5-flash\",  # Specify the model\n",
        "                                 api_key=gemini_api_key,  # Pass the API key\n",
        "                                 stop = [\"\\nObservation\", \"Observation\"]\n",
        "                                 )\n"
      ],
      "metadata": {
        "colab": {
          "base_uri": "https://localhost:8080/"
        },
        "id": "kHPAs3tAgJYZ",
        "outputId": "73a6bdf4-aa52-44f6-dea0-2ffe8d20ff43"
      },
      "execution_count": 25,
      "outputs": [
        {
          "output_type": "stream",
          "name": "stdout",
          "text": [
            "Hello ReAct LangChain!\n"
          ]
        }
      ]
    },
    {
      "cell_type": "code",
      "source": [
        "# Part 2\n",
        "\n",
        "from typing import Union, List\n",
        "\n",
        "from dotenv import load_dotenv\n",
        "from langchain.agents.output_parsers import ReActSingleInputOutputParser\n",
        "from langchain_openai import ChatOpenAI\n",
        "from langchain.prompts import PromptTemplate\n",
        "from langchain.schema import AgentAction, AgentFinish\n",
        "from langchain.tools import Tool, tool\n",
        "from langchain.tools.render import render_text_description\n",
        "\n",
        "\n",
        "load_dotenv()\n",
        "\n",
        "\n",
        "@tool\n",
        "def get_text_length(text: str) -> int:\n",
        "    \"\"\"Returns the length of a text by characters\"\"\"\n",
        "    print(f\"get_text_length enter with {text=}\")\n",
        "    text = text.strip(\"'\\n\").strip(\n",
        "        '\"'\n",
        "    )  # stripping away non alphabetic characters just in case\n",
        "\n",
        "    return len(text)\n",
        "\n",
        "\n",
        "def find_tool_by_name(tools: List[Tool], tool_name: str) -> Tool:\n",
        "    for tool in tools:\n",
        "        if tool.name == tool_name:\n",
        "            return tool\n",
        "    raise ValueError(f\"Tool wtih name {tool_name} not found\")\n",
        "\n",
        "\n",
        "if __name__ == \"__main__\":\n",
        "    print(\"Hello ReAct LangChain!\")\n",
        "    tools = [get_text_length]\n",
        "\n",
        "    template = \"\"\"\n",
        "    Answer the following questions as best you can. You have access to the following tools:\n",
        "\n",
        "    {tools}\n",
        "\n",
        "    Use the following format:\n",
        "\n",
        "    Question: the input question you must answer\n",
        "    Thought: you should always think about what to do\n",
        "    Action: the action to take, should be one of [{tool_names}]\n",
        "    Action Input: the input to the action\n",
        "    Observation: the result of the action\n",
        "    ... (this Thought/Action/Action Input/Observation can repeat N times)\n",
        "    Thought: I now know the final answer\n",
        "    Final Answer: the final answer to the original input question\n",
        "\n",
        "    Begin!\n",
        "\n",
        "    Question: {input}\n",
        "    Thought:\n",
        "    \"\"\"\n",
        "\n",
        "    prompt = PromptTemplate.from_template(template=template).partial(\n",
        "        tools=render_text_description(tools),\n",
        "        tool_names=\", \".join([t.name for t in tools]),\n",
        "    )\n",
        "\n",
        "    llm = ChatOpenAI(temperature=0, stop= [\"\\nObservation\", \"Observation\"])\n",
        "    intermediate_steps = []\n",
        "    agent = (\n",
        "        {\n",
        "            \"input\": lambda x: x[\"input\"],\n",
        "        }\n",
        "        | prompt\n",
        "        | llm\n",
        "        | ReActSingleInputOutputParser()\n",
        "    )\n",
        "\n",
        "    agent_step: Union[AgentAction, AgentFinish] = agent.invoke(\n",
        "        {\n",
        "            \"input\": \"What is the length of 'DOG' in characters?\",\n",
        "        }\n",
        "    )\n",
        "    print(agent_step)\n",
        "\n",
        "    if isinstance(agent_step, AgentAction):\n",
        "        tool_name = agent_step.tool\n",
        "        tool_to_use = find_tool_by_name(tools, tool_name)\n",
        "        tool_input = agent_step.tool_input\n",
        "\n",
        "        observation = tool_to_use.func(str(tool_input))\n",
        "        print(f\"{observation=}\")\n",
        "\n"
      ],
      "metadata": {
        "id": "ea-F5ssQCG4t"
      },
      "execution_count": null,
      "outputs": []
    },
    {
      "cell_type": "code",
      "source": [
        "## Part 3\n",
        "\n",
        "from typing import Union, List\n",
        "from dotenv import load_dotenv\n",
        "from langchain.agents import tool\n",
        "from langchain.agents.format_scratchpad import format_log_to_str\n",
        "from langchain.agents.output_parsers import ReActSingleInputOutputParser\n",
        "from langchain_openai import ChatOpenAI\n",
        "from langchain.prompts import PromptTemplate\n",
        "from langchain.schema import AgentAction, AgentFinish\n",
        "from langchain.tools import Tool\n",
        "from langchain.tools.render import render_text_description\n",
        "\n",
        "\n",
        "load_dotenv()\n",
        "\n",
        "\n",
        "@tool\n",
        "def get_text_length(text: str) -> int:\n",
        "    \"\"\"Returns the length of a text by characters\"\"\"\n",
        "    print(f\"get_text_length enter with {text=}\")\n",
        "    text = text.strip(\"'\\n\").strip(\n",
        "        '\"'\n",
        "    )  # stripping away non-alphabetic characters just in case\n",
        "\n",
        "    return len(text)\n",
        "\n",
        "\n",
        "def find_tool_by_name(tools: List[Tool], tool_name: str) -> Tool:\n",
        "    for tool in tools:\n",
        "        if tool.name == tool_name:\n",
        "            return tool\n",
        "    raise ValueError(f\"Tool wtih name {tool_name} not found\")\n",
        "\n",
        "\n",
        "if __name__ == \"__main__\":\n",
        "    print(\"Hello ReAct LangChain!\")\n",
        "    tools = [get_text_length]\n",
        "\n",
        "    template = \"\"\"\n",
        "    Answer the following questions as best you can. You have access to the following tools:\n",
        "\n",
        "    {tools}\n",
        "\n",
        "    Use the following format:\n",
        "\n",
        "    Question: the input question you must answer\n",
        "    Thought: you should always think about what to do\n",
        "    Action: the action to take, should be one of [{tool_names}]\n",
        "    Action Input: the input to the action\n",
        "    Observation: the result of the action\n",
        "    ... (this Thought/Action/Action Input/Observation can repeat N times)\n",
        "    Thought: I now know the final answer\n",
        "    Final Answer: the final answer to the original input question\n",
        "\n",
        "    Begin!\n",
        "\n",
        "    Question: {input}\n",
        "    Thought: {agent_scratchpad}\n",
        "    \"\"\"\n",
        "\n",
        "    prompt = PromptTemplate.from_template(template=template).partial(\n",
        "        tools=render_text_description(tools),\n",
        "        tool_names=\", \".join([t.name for t in tools]),\n",
        "    )\n",
        "\n",
        "    llm = ChatOpenAI(\n",
        "        temperature=0,\n",
        "        stop= [\"\\nObservation\", \"Observation\"],\n",
        "    )\n",
        "    intermediate_steps = []\n",
        "    agent = (\n",
        "        {\n",
        "            \"input\": lambda x: x[\"input\"],\n",
        "            \"agent_scratchpad\": lambda x: format_log_to_str(x[\"agent_scratchpad\"]),\n",
        "        }\n",
        "        | prompt\n",
        "        | llm\n",
        "        | ReActSingleInputOutputParser()\n",
        "    )\n",
        "\n",
        "    agent_step: Union[AgentAction, AgentFinish] = agent.invoke(\n",
        "        {\n",
        "            \"input\": \"What is the length of the word: DOG\",\n",
        "            \"agent_scratchpad\": intermediate_steps,\n",
        "        }\n",
        "    )\n",
        "    print(agent_step)\n",
        "    if isinstance(agent_step, AgentAction):\n",
        "        tool_name = agent_step.tool\n",
        "        tool_to_use = find_tool_by_name(tools, tool_name)\n",
        "        tool_input = agent_step.tool_input\n",
        "        observation = tool_to_use.func(str(tool_input))\n",
        "        print(f\"{observation=}\")\n",
        "        intermediate_steps.append((agent_step, str(observation)))\n",
        "\n",
        "    agent_step: Union[AgentAction, AgentFinish] = agent.invoke(\n",
        "        {\n",
        "            \"input\": \"What is the length of the word: DOG\",\n",
        "            \"agent_scratchpad\": intermediate_steps,\n",
        "        }\n",
        "    )\n",
        "    print(agent_step)\n",
        "    if isinstance(agent_step, AgentFinish):\n",
        "        print(\"### AgentFinish ###\")\n",
        "        print(agent_step.return_values)\n"
      ],
      "metadata": {
        "id": "Wx-S3ry7CUt9"
      },
      "execution_count": null,
      "outputs": []
    },
    {
      "cell_type": "code",
      "source": [
        "## Part 4 a\n",
        "from typing import Dict, Any, List\n",
        "\n",
        "from langchain.callbacks.base import BaseCallbackHandler\n",
        "from langchain.schema import LLMResult\n",
        "\n",
        "\n",
        "class AgentCallbackHandler(BaseCallbackHandler):\n",
        "    def on_llm_start(\n",
        "        self, serialized: Dict[str, Any], prompts: List[str], **kwargs: Any\n",
        "    ) -> Any:\n",
        "        \"\"\"Run when LLM starts running.\"\"\"\n",
        "        print(f\"***Prompt to LLM was:***\\n{prompts[0]}\")\n",
        "        print(\"*********\")\n",
        "\n",
        "    def on_llm_end(self, response: LLMResult, **kwargs: Any) -> Any:\n",
        "        \"\"\"Run when LLM ends running.\"\"\"\n",
        "        print(f\"***LLM Response:***\\n{response.generations[0][0].text}\")\n",
        "        print(\"*********\")\n",
        "\n"
      ],
      "metadata": {
        "id": "GhwEZ9McCuoy"
      },
      "execution_count": null,
      "outputs": []
    },
    {
      "cell_type": "code",
      "source": [
        "## Part 4 b\n",
        "\n",
        "from typing import Union, List\n",
        "import re\n",
        "from dotenv import load_dotenv\n",
        "from langchain.agents import tool\n",
        "from langchain.agents.format_scratchpad import format_log_to_str\n",
        "from langchain.agents.output_parsers import ReActSingleInputOutputParser\n",
        "from langchain_openai import ChatOpenAI\n",
        "from langchain.prompts import PromptTemplate\n",
        "from langchain.schema import AgentAction, AgentFinish\n",
        "from langchain.tools import Tool\n",
        "from langchain.tools.render import render_text_description\n",
        "\n",
        "from callbacks import AgentCallbackHandler\n",
        "\n",
        "\n",
        "load_dotenv()\n",
        "\n",
        "\n",
        "@tool\n",
        "def get_text_length(text: str) -> int:\n",
        "    \"\"\"Returns the length of a text by characters\"\"\"\n",
        "    print(f\"get_text_length enter with {text=}\")\n",
        "    text = text.strip(\"'\\n\").strip(\n",
        "        '\"'\n",
        "    )  # stripping away non alphabetic characters just in case\n",
        "\n",
        "    return len(text)\n",
        "\n",
        "\n",
        "def find_tool_by_name(tools: List[Tool], tool_name: str) -> Tool:\n",
        "    for tool in tools:\n",
        "        if tool.name == tool_name:\n",
        "            return tool\n",
        "    raise ValueError(f\"Tool wtih name {tool_name} not found\")\n",
        "\n",
        "\n",
        "if __name__ == \"__main__\":\n",
        "    print(\"Hello ReAct LangChain!\")\n",
        "    tools = [get_text_length]\n",
        "\n",
        "    template = \"\"\"\n",
        "    Answer the following questions as best you can. You have access to the following tools:\n",
        "\n",
        "    {tools}\n",
        "\n",
        "    Use the following format:\n",
        "\n",
        "    Question: the input question you must answer\n",
        "    Thought: you should always think about what to do\n",
        "    Action: the action to take, should be one of [{tool_names}]\n",
        "    Action Input: the input to the action\n",
        "    Observation: the result of the action\n",
        "    ... (this Thought/Action/Action Input/Observation can repeat N times)\n",
        "    Thought: I now know the final answer\n",
        "    Final Answer: the final answer to the original input question\n",
        "\n",
        "    Begin!\n",
        "\n",
        "    Question: {input}\n",
        "    Thought: {agent_scratchpad}\n",
        "    \"\"\"\n",
        "\n",
        "    prompt = PromptTemplate.from_template(template=template).partial(\n",
        "        tools=render_text_description(tools),\n",
        "        tool_names=\", \".join([t.name for t in tools]),\n",
        "    )\n",
        "\n",
        "    llm = ChatOpenAI(\n",
        "        temperature=0,\n",
        "        stop=[\"\\nObservation\", \"Observation\"],\n",
        "        callbacks=[AgentCallbackHandler()],\n",
        "    )\n",
        "    intermediate_steps = []\n",
        "    agent = (\n",
        "        {\n",
        "            \"input\": lambda x: x[\"input\"],\n",
        "            \"agent_scratchpad\": lambda x: format_log_to_str(x[\"agent_scratchpad\"]),\n",
        "        }\n",
        "        | prompt\n",
        "        | llm\n",
        "        | ReActSingleInputOutputParser()\n",
        "    )\n",
        "\n",
        "    agent_step = \"\"\n",
        "    while not isinstance(agent_step, AgentFinish):\n",
        "        agent_step: Union[AgentAction, AgentFinish] = agent.invoke(\n",
        "            {\n",
        "                \"input\": \"What is the length of the word: DOG\",\n",
        "                \"agent_scratchpad\": intermediate_steps,\n",
        "            }\n",
        "        )\n",
        "        print(agent_step)\n",
        "\n",
        "        if isinstance(agent_step, AgentAction):\n",
        "            tool_name = agent_step.tool\n",
        "            tool_to_use = find_tool_by_name(tools, tool_name)\n",
        "            tool_input = agent_step.tool_input\n",
        "\n",
        "            observation = tool_to_use.func(str(tool_input))\n",
        "            print(f\"{observation=}\")\n",
        "            intermediate_steps.append((agent_step, str(observation)))\n",
        "\n",
        "    if isinstance(agent_step, AgentFinish):\n",
        "        print(agent_step.return_values)\n"
      ],
      "metadata": {
        "id": "8v080PFBCyyu"
      },
      "execution_count": null,
      "outputs": []
    }
  ]
}