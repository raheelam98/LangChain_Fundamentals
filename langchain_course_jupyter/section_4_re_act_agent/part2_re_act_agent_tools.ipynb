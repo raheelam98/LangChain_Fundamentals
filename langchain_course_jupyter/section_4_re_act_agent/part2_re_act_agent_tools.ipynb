{
  "nbformat": 4,
  "nbformat_minor": 0,
  "metadata": {
    "colab": {
      "provenance": [],
      "authorship_tag": "ABX9TyPs7lZjn1lLkN9olU8OYG1g",
      "include_colab_link": true
    },
    "kernelspec": {
      "name": "python3",
      "display_name": "Python 3"
    },
    "language_info": {
      "name": "python"
    }
  },
  "cells": [
    {
      "cell_type": "markdown",
      "metadata": {
        "id": "view-in-github",
        "colab_type": "text"
      },
      "source": [
        "<a href=\"https://colab.research.google.com/github/raheelam98/LangChain_Fundamentals/blob/main/langchain_course_jupyter/section_4_re_act_agent/part2_re_act_agent_tools.ipynb\" target=\"_parent\"><img src=\"https://colab.research.google.com/assets/colab-badge.svg\" alt=\"Open In Colab\"/></a>"
      ]
    },
    {
      "cell_type": "markdown",
      "source": [
        "**Section 5: ReAct Agent Tools**\n",
        "\n",
        "[Defining Custom Tools](https://python.langchain.com/v0.1/docs/modules/tools/custom_tools/)"
      ],
      "metadata": {
        "id": "yyU2ZeAi65vj"
      }
    },
    {
      "cell_type": "code",
      "execution_count": 1,
      "metadata": {
        "id": "-KpN6Wusy8hC"
      },
      "outputs": [],
      "source": [
        "# Install the required packages:\n",
        "%%capture --no-stderr\n",
        "%pip install --quiet -U python-dotenv langsmith"
      ]
    },
    {
      "cell_type": "code",
      "source": [
        "import os\n",
        "from google.colab import userdata\n",
        "\n",
        "os.environ[\"LANGCHAIN_API_KEY\"] = userdata.get('LANGCHAIN_API_KEY')\n",
        "\n",
        "os.environ[\"LANGCHAIN_TRACING_V2\"] = \"true\"\n",
        "os.environ[\"LANGCHAIN_PROJECT\"] = \"ReAct Agent\""
      ],
      "metadata": {
        "id": "mSZ_rRAx7iTj"
      },
      "execution_count": 2,
      "outputs": []
    },
    {
      "cell_type": "code",
      "source": [
        "# app/main.py\n",
        "\n",
        "from dotenv import load_dotenv\n",
        "\n",
        "load_dotenv()\n",
        "\n",
        "def get_text_length(text:str)-> int:\n",
        "  \"\"\"Returns the length of a text by characters\"\"\"\n",
        "  print(f\"get_text_length enter with {text=}\")\n",
        "  text = text.strip(\"'\\n\").strip(\n",
        "      '\"'\n",
        "  ) # stripping away non alphabetic character just in case\n",
        "\n",
        "  return len(text)\n"
      ],
      "metadata": {
        "id": "ZSiAuy7_8F3P"
      },
      "execution_count": 3,
      "outputs": []
    },
    {
      "cell_type": "code",
      "source": [
        "print(\"ReAct Agent\")\n",
        "print(get_text_length(text=\"ReAct Agent\"))"
      ],
      "metadata": {
        "colab": {
          "base_uri": "https://localhost:8080/"
        },
        "id": "K94Qor_e_kc2",
        "outputId": "2da9836b-ecf6-410a-da2f-0c0b5a2c2a92"
      },
      "execution_count": 4,
      "outputs": [
        {
          "output_type": "stream",
          "name": "stdout",
          "text": [
            "ReAct Agent\n",
            "get_text_length enter with text='ReAct Agent'\n",
            "11\n"
          ]
        }
      ]
    },
    {
      "cell_type": "markdown",
      "source": [
        "[LangChain Hub](https://smith.langchain.com/hub?organizationId=607e9d67-1fc3-4433-bc0c-4507b1714844)"
      ],
      "metadata": {
        "id": "AVB1Rg0i_L_y"
      }
    },
    {
      "cell_type": "code",
      "source": [],
      "metadata": {
        "id": "yk2-9-c4_LkD"
      },
      "execution_count": null,
      "outputs": []
    }
  ]
}