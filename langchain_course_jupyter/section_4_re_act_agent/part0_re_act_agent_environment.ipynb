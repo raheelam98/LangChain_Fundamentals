{ 
  "nbformat": 4,
  "nbformat_minor": 0,
  "metadata": {
    "colab": {
      "provenance": [],
      "name": "part0_re_act_agent_environment.ipynb",
      "authorship_tag": "ABX9TyOJvioZWraZoMd6sOdqlqCB",
      "include_colab_link": true
    },
    "kernelspec": {
      "name": "python3",
      "display_name": "Python 3"
    },
    "language_info": {
      "name": "python"
    }
  },
  "cells": [
    {
      "cell_type": "markdown",
      "metadata": {
        "id": "view-in-github",
        "colab_type": "text"
      },
      "source": [
        "<a href=\"https://colab.research.google.com/github/raheelam98/LangChain_Fundamentals/blob/main/langchain_course_jupyter/section_4_re_act_agent/part0_re_act_agent_environment.ipynb\" target=\"_parent\"><img src=\"https://colab.research.google.com/assets/colab-badge.svg\" alt=\"Open In Colab\"/></a>"
      ]
    },
    {
      "cell_type": "markdown",
      "source": [
        "**Section 4: ReAct Agent**"
      ],
      "metadata": {
        "id": "yyU2ZeAi65vj"
      }
    },
    {
      "cell_type": "code",
      "execution_count": null,
      "metadata": {
        "id": "-KpN6Wusy8hC"
      },
      "outputs": [],
      "source": [
        "# Install the required packages:\n",
        "%%capture --no-stderr\n",
        "%pip install --quiet -U python-dotenv langsmith"
      ]
    },
    {
      "cell_type": "code",
      "source": [
        "import os\n",
        "from google.colab import userdata\n",
        "\n",
        "os.environ[\"LANGCHAIN_API_KEY\"] = userdata.get('LANGCHAIN_API_KEY')\n",
        "\n",
        "os.environ[\"LANGCHAIN_TRACING_V2\"] = \"true\"\n",
        "os.environ[\"LANGCHAIN_PROJECT\"] = \"ReAct Agent\""
      ],
      "metadata": {
        "id": "mSZ_rRAx7iTj"
      },
      "execution_count": null,
      "outputs": []
    },
    {
      "cell_type": "code",
      "source": [
        "# app/main.py\n",
        "\n",
        "from dotenv import load_dotenv\n",
        "\n",
        "load_dotenv()\n",
        "\n",
        "def get_text_length(text:str)-> int:\n",
        "  \"\"\"Returns the length of a text by characters\"\"\"\n",
        "\n",
        "  return len(text)\n"
      ],
      "metadata": {
        "id": "ZSiAuy7_8F3P"
      },
      "execution_count": null,
      "outputs": []
    },
    {
      "cell_type": "code",
      "source": [
        "print(\"ReAct Agent\")\n",
        "print(get_text_length(text=\"ReAct Agent\"))"
      ],
      "metadata": {
        "colab": {
          "base_uri": "https://localhost:8080/"
        },
        "id": "K94Qor_e_kc2",
        "outputId": "0f5bdbea-34c8-48b6-fdb6-17cbcd81af3a"
      },
      "execution_count": null,
      "outputs": [
        {
          "output_type": "stream",
          "name": "stdout",
          "text": [
            "ReAct Agent\n",
            "11\n"
          ]
        }
      ]
    }
  ]
}
