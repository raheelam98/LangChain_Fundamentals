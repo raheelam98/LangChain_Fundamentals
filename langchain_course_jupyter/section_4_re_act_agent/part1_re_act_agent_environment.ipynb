{
  "nbformat": 4,
  "nbformat_minor": 0,
  "metadata": {
    "colab": {
      "provenance": [],
      "authorship_tag": "ABX9TyMQ9M/a5H/Ck3sYa5zo0ODW",
      "include_colab_link": true
    },
    "kernelspec": {
      "name": "python3",
      "display_name": "Python 3"
    },
    "language_info": {
      "name": "python"
    }
  },
  "cells": [
    {
      "cell_type": "markdown",
      "metadata": {
        "id": "view-in-github",
        "colab_type": "text"
      },
      "source": [
        "<a href=\"https://colab.research.google.com/github/raheelam98/LangChain_Fundamentals/blob/main/langchain_course_jupyter/section_4_re_act_agent/part1_re_act_agent_environment.ipynb\" target=\"_parent\"><img src=\"https://colab.research.google.com/assets/colab-badge.svg\" alt=\"Open In Colab\"/></a>"
      ]
    },
    {
      "cell_type": "markdown",
      "source": [
        "**Section 5: ReAct Agent**"
      ],
      "metadata": {
        "id": "yyU2ZeAi65vj"
      }
    },
    {
      "cell_type": "code",
      "execution_count": null,
      "metadata": {
        "id": "-KpN6Wusy8hC"
      },
      "outputs": [],
      "source": [
        "# Install the required packages:\n",
        "%%capture --no-stderr\n",
        "# %pip install -U  langsmith # check\n",
        "# %pip install --quiet -U  langchain_google_genai langchain_core langchain langgraph   python-dotenv langsmith\n",
        "\n",
        "%pip install --quiet -U python-dotenv langsmith"
      ]
    },
    {
      "cell_type": "code",
      "source": [
        "import os\n",
        "from google.colab import userdata\n",
        "\n",
        "os.environ[\"LANGCHAIN_API_KEY\"] = userdata.get('LANGCHAIN_API_KEY')\n",
        "\n",
        "os.environ[\"LANGCHAIN_TRACING_V2\"] = \"true\"\n",
        "os.environ[\"LANGCHAIN_PROJECT\"] = \"ReAct Agent\""
      ],
      "metadata": {
        "id": "mSZ_rRAx7iTj"
      },
      "execution_count": null,
      "outputs": []
    }
  ]
}