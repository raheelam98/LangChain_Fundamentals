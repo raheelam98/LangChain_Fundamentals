{
  "nbformat": 4,
  "nbformat_minor": 0,
  "metadata": {
    "colab": {
      "provenance": [],
      "name": "part6_pydantic_output_parser.ipynb",
      "authorship_tag": "ABX9TyNQpFpOQsonKsQTj3ubZ96z",
      "include_colab_link": true
    },
    "kernelspec": {
      "name": "python3",
      "display_name": "Python 3"
    },
    "language_info": {
      "name": "python"
    }
  },
  "cells": [
    {
      "cell_type": "markdown",
      "metadata": {
        "id": "view-in-github",
        "colab_type": "text"
      },
      "source": [
        "<a href=\"https://colab.research.google.com/github/raheelam98/LangChain_Fundamentals/blob/main/langchain_course_jupyter/section_3_data_processing/part6_pydantic_output_parser.ipynb\" target=\"_parent\"><img src=\"https://colab.research.google.com/assets/colab-badge.svg\" alt=\"Open In Colab\"/></a>"
      ]
    },
    {
      "cell_type": "markdown",
      "source": [
        "**Custom Search Agent - Twitter Profile**\n",
        "\n"
      ],
      "metadata": {
        "id": "aF3WrT5qFI0n"
      }
    },
    {
      "cell_type": "markdown",
      "source": [
        "[Pydantic parser](https://python.langchain.com/v0.1/docs/modules/model_io/output_parsers/types/pydantic/)"
      ],
      "metadata": {
        "id": "uC6r-eP8gHsw"
      }
    },
    {
      "cell_type": "code",
      "execution_count": null,
      "metadata": {
        "id": "7O_IvRxOE36h"
      },
      "outputs": [],
      "source": [
        "# Install the required packages:\n",
        "%%capture --no-stderr\n",
        "%pip install -U  langsmith # check\n",
        "%pip install --quiet -U  langchain_google_genai langchain_core langchain langgraph   python-dotenv langsmith"
      ]
    },
    {
      "cell_type": "code",
      "source": [
        "%%capture --no-stderr\n",
        "%pip install ChatGoogleGenerativeAI"
      ],
      "metadata": {
        "id": "ESSHIDXjZ7Yr"
      },
      "execution_count": null,
      "outputs": []
    },
    {
      "cell_type": "code",
      "source": [
        "# packages\n",
        "%%capture --no-stderr\n",
        "%pip install -U tavily-python langchain_community"
      ],
      "metadata": {
        "id": "cb_K9Lcv0msD"
      },
      "execution_count": null,
      "outputs": []
    },
    {
      "cell_type": "code",
      "source": [
        "import os\n",
        "from google.colab import userdata\n",
        "\n",
        "os.environ[\"LANGCHAIN_API_KEY\"] = userdata.get('LANGCHAIN_API_KEY')\n",
        "\n",
        "os.environ[\"LANGCHAIN_TRACING_V2\"] = \"true\"\n",
        "os.environ[\"LANGCHAIN_PROJECT\"] = \"ice_breaker\""
      ],
      "metadata": {
        "id": "JZnDXLEtHPD_"
      },
      "execution_count": null,
      "outputs": []
    },
    {
      "cell_type": "code",
      "source": [
        "# API Keys\n",
        "# Get the GEMINI API key from user data\n",
        "from google.colab import userdata\n",
        "gemini_api_key = userdata.get('GEMINI_API_KEY')"
      ],
      "metadata": {
        "id": "OFHJsnbYHXt8"
      },
      "execution_count": null,
      "outputs": []
    },
    {
      "cell_type": "code",
      "source": [
        "# from langchain_google_genai import ChatGoogleGenerativeAI\n",
        "\n",
        "# llm: ChatGoogleGenerativeAI = ChatGoogleGenerativeAI(model=\"gemini-1.5-flash\", api_key=gemini_api_key, temperature=0)"
      ],
      "metadata": {
        "id": "Rah7gCH6HYv7"
      },
      "execution_count": null,
      "outputs": []
    },
    {
      "cell_type": "code",
      "source": [
        "# llm\n",
        "from langchain_google_genai import ChatGoogleGenerativeAI\n",
        "\n",
        "llm = ChatGoogleGenerativeAI(\n",
        "    model=\"gemini-1.5-flash\",\n",
        "    max_retries=2,\n",
        "    api_key=gemini_api_key\n",
        ")"
      ],
      "metadata": {
        "id": "-JxLuLOxTUtv"
      },
      "execution_count": null,
      "outputs": []
    },
    {
      "cell_type": "code",
      "source": [
        "llm.invoke(\"hi\")"
      ],
      "metadata": {
        "colab": {
          "base_uri": "https://localhost:8080/"
        },
        "id": "ZwNUiQdPTY4h",
        "outputId": "0dac07f1-e181-4111-ef0b-fd6989916e36"
      },
      "execution_count": null,
      "outputs": [
        {
          "output_type": "execute_result",
          "data": {
            "text/plain": [
              "AIMessage(content='Hi there! How can I help you today?\\n', additional_kwargs={}, response_metadata={'prompt_feedback': {'block_reason': 0, 'safety_ratings': []}, 'finish_reason': 'STOP', 'safety_ratings': []}, id='run-4fbdfd54-0d96-4f74-8839-c40536c50b8b-0', usage_metadata={'input_tokens': 2, 'output_tokens': 11, 'total_tokens': 13, 'input_token_details': {'cache_read': 0}})"
            ]
          },
          "metadata": {},
          "execution_count": 9
        }
      ]
    },
    {
      "cell_type": "code",
      "source": [
        "# # Restart Runtime and Re-authenticate\n",
        "# from google.colab import auth\n",
        "# auth.authenticate_user()\n"
      ],
      "metadata": {
        "id": "89cFZYaMSZAo"
      },
      "execution_count": null,
      "outputs": []
    },
    {
      "cell_type": "code",
      "source": [
        "result = llm.invoke(\"hello\")\n",
        "print(result)"
      ],
      "metadata": {
        "colab": {
          "base_uri": "https://localhost:8080/"
        },
        "id": "fviqHSlWTMtT",
        "outputId": "b3fe4d48-8fa8-4791-bb09-3762084e1b17"
      },
      "execution_count": null,
      "outputs": [
        {
          "output_type": "stream",
          "name": "stdout",
          "text": [
            "content='Hello there! How can I help you today?\\n' additional_kwargs={} response_metadata={'prompt_feedback': {'block_reason': 0, 'safety_ratings': []}, 'finish_reason': 'STOP', 'safety_ratings': []} id='run-bd42b149-b96c-410a-a94e-9de062ad3b64-0' usage_metadata={'input_tokens': 2, 'output_tokens': 11, 'total_tokens': 13, 'input_token_details': {'cache_read': 0}}\n"
          ]
        }
      ]
    },
    {
      "cell_type": "code",
      "source": [
        "# from langchain_google_genai import ChatGoogleGenerativeAI\n",
        "# model: ChatGoogleGenerativeAI = ChatGoogleGenerativeAI(model = \"gemini-1.5-flash\")\n",
        "# model.invoke(\"hi\")"
      ],
      "metadata": {
        "id": "Zmf65ZqKT3R-"
      },
      "execution_count": null,
      "outputs": []
    },
    {
      "cell_type": "markdown",
      "source": [
        "[Tavily Search](https://python.langchain.com/docs/integrations/tools/tavily_search/)\n",
        "\n",
        "[TAVILY_API_KEY](https://tavily.com/)\n"
      ],
      "metadata": {
        "id": "InWKmvk20nJu"
      }
    },
    {
      "cell_type": "code",
      "source": [
        "# API keys set up\n",
        "os.environ[\"TAVILY_API_KEY\"] = userdata.get(\"TAVILY_API_KEY\")"
      ],
      "metadata": {
        "id": "yZ3az20o11Ua"
      },
      "execution_count": null,
      "outputs": []
    },
    {
      "cell_type": "markdown",
      "source": [
        "[hwchase17/react](https://smith.langchain.com/hub/hwchase17/react)\n",
        "\n"
      ],
      "metadata": {
        "id": "GUKqAi89PgHH"
      }
    },
    {
      "cell_type": "markdown",
      "source": [
        "**Create React Agent**"
      ],
      "metadata": {
        "id": "PDheCmaOuoB6"
      }
    },
    {
      "cell_type": "code",
      "source": [
        "from langchain_community.tools.tavily_search import TavilySearchResults\n",
        "\n",
        "\n",
        "def get_profile_url_tavily(name: str):\n",
        "    \"\"\"Searches for Linkedin or Twitter Profile Page.\"\"\"\n",
        "    search = TavilySearchResults()\n",
        "    res = search.run(f\"{name}\")\n",
        "    return res"
      ],
      "metadata": {
        "id": "Nde_6PrmxMR2"
      },
      "execution_count": null,
      "outputs": []
    },
    {
      "cell_type": "code",
      "source": [
        "from dotenv import load_dotenv\n",
        "\n",
        "load_dotenv()\n",
        "from langchain_google_genai import ChatGoogleGenerativeAI\n",
        "from langchain.prompts.prompt import PromptTemplate\n",
        "from langchain_core.tools import Tool\n",
        "from langchain.agents import (\n",
        "    create_react_agent,\n",
        "    AgentExecutor,\n",
        ")\n",
        "from langchain import hub\n",
        "# from tools.tools import get_profile_url_tavily\n",
        "\n",
        "\n",
        "def lookup(name: str) -> str:\n",
        "    # llm = ChatOpenAI(\n",
        "    #     temperature=0,\n",
        "    #     model_name=\"gpt-4o-mini\",\n",
        "    # )\n",
        "    template = \"\"\"\n",
        "       given the name {name_of_person} I want you to find a link to their Twitter profile page, and extract from it their username\n",
        "       In Your Final answer only the person's username\"\"\"\n",
        "    prompt_template = PromptTemplate(\n",
        "        template=template, input_variables=[\"name_of_person\"]\n",
        "    )\n",
        "    tools_for_agent = [\n",
        "        Tool(\n",
        "            name=\"Crawl Google 4 Twitter profile page\",\n",
        "            func=get_profile_url_tavily,\n",
        "            description=\"useful for when you need get the Twitter Page URL\",\n",
        "        )\n",
        "    ]\n",
        "\n",
        "    react_prompt = hub.pull(\"hwchase17/react\")\n",
        "    agent = create_react_agent(llm=llm, tools=tools_for_agent, prompt=react_prompt)\n",
        "    agent_executor = AgentExecutor(agent=agent, tools=tools_for_agent, verbose=True)\n",
        "\n",
        "    result = agent_executor.invoke(\n",
        "        input={\"input\": prompt_template.format_prompt(name_of_person=name)}\n",
        "    )\n",
        "\n",
        "    twitter_username = result[\"output\"]\n",
        "    return twitter_username\n",
        "\n",
        "\n",
        "# if __name__ == \"__main__\":\n",
        "#     print(lookup(name=\"Elon Musk\"))"
      ],
      "metadata": {
        "id": "yPkJNDGo2vhs"
      },
      "execution_count": null,
      "outputs": []
    },
    {
      "cell_type": "code",
      "source": [
        "# # Example function call\n",
        "print(\"Twitter Lookup \")\n",
        "twitter_lookup = lookup(name=\"Elon Musk\")\n",
        "print(\"Twitter Lookup:\", twitter_lookup)"
      ],
      "metadata": {
        "colab": {
          "base_uri": "https://localhost:8080/"
        },
        "id": "mNK3IBLE9Vtq",
        "outputId": "e8f6984c-f6dd-4198-e901-d2a21cda9af9"
      },
      "execution_count": null,
      "outputs": [
        {
          "output_type": "stream",
          "name": "stdout",
          "text": [
            "Twitter Lookup \n",
            "\n",
            "\n",
            "\u001b[1m> Entering new AgentExecutor chain...\u001b[0m\n",
            "\u001b[32;1m\u001b[1;3mThought: I need to find Elon Musk's Twitter profile URL to extract his username.  I can use the \"Crawl Google 4 Twitter profile page\" action for this.\n",
            "\n",
            "Action: Crawl Google 4 Twitter profile page\n",
            "Action Input: Elon Musk\n",
            "\u001b[0m\u001b[36;1m\u001b[1;3m[{'url': 'https://www.amazon.com/Elon-Musk-SpaceX-Fantastic-Future/dp/0062301233', 'content': \"In the spirit of Steve Jobs and Moneyball, Elon Musk is both an illuminating and authorized look at the extraordinary life of one of Silicon Valley's most exciting, unpredictable, and ambitious entrepreneurs--a real-life Tony Stark--and a fascinating exploration of the renewal of American invention and its new ``makers.''\"}, {'url': 'https://www.tesla.com/elon-musk', 'content': \"As the co-founder and CEO of Tesla, Elon leads all product design, engineering and global manufacturing of the company's electric vehicles, battery products and\"}, {'url': 'https://www.forbes.com/profile/elon-musk/', 'content': \"And Musk Of Profiting Off Hamas Propaganda: ‘Indefensible’\\nX Will Donate Ad Revenue To Gaza Aid Groups And Israeli Hospitals, Elon Musk Says\\nElon Musk Threatens ‘Thermonuclear’ Lawsuit Against Group Reporting Antisemitic X Posts Appearing Near Ads\\nBacklash Is Growing Over Elon Musk's Support Of Antisemitic Tweet—It's Not The First Time He's Faced Controversy Over His Posts\\nElon Musk Threatens ‘Thermonuclear’ Lawsuit Against Group Reporting Antisemitic X Posts Appearing Near Ads\\nElon Musk Condemned After Calling Antisemitic Post ‘Actual Truth’\\n More on Forbes\\nLawmakers Push For SEC Probe Into Elon Musk’s Neuralink For Claims About Brain Implant Safety\\nHow Elon Musk’s Personal Brand Devalues X\\nHouse Democrats Accuse X Tesla Stock Slides\\nHow Elon Musk Changed Twitter A Year And $44 Billion Later\\nElon Musk Has Somehow Killed The Share Button On PlayStation\\nForbes Daily: To Innovate Like Elon Musk\\nElon Musk Says Starlink Hit Breakeven Cash Flow\\n2023 Forbes 400: The Richest Newcomers\\nalso on forbes\"}, {'url': 'https://en.wikipedia.org/wiki/Elon_Musk', 'content': 'By this time, however, eight of the 12 children, had already been rescued, the rescuers employing full face masks, oxygen, and anesthesia; consequently, Thai authorities declined to use the submarine.[289] In March 2019, Musk was later one of the 187 people who received various honors conferred by the King of Thailand for involvement in the rescue effort.[293]\\nSoon after the rescue, Vernon Unsworth, a British recreational caver who had been exploring the cave for the previous six years and played a key advisory role in the operation, criticized the submarine on CNN as amounting to nothing more than a public relations effort with no chance of success, maintaining that Musk \"had no conception of what the cave passage was like\" and \"can stick his submarine where it hurts\". In 2022, a federal probe was launched into possible animal welfare violations by Neuralink.[195]\\nIn September 2023, the company was approved to intitiate human trials; the company will conduct a six-year study.[196]\\nThe Boring Company\\nIn 2017, Musk founded the Boring Company to construct tunnels, and revealed plans for specialized, underground, high-occupancy vehicles that could travel up to 150 miles per hour (240\\xa0km/h) and thus circumvent above-ground traffic in major cities.[197][198] Early in 2017, the company began discussions with regulatory bodies and initiated construction of a 30-foot (9.1\\xa0m) wide, 50-foot (15\\xa0m) long, and 15-foot (4.6\\xa0m) deep \"test trench\" on the premises of SpaceX\\'s offices, as that required no permits.[199] The Los Angeles tunnel, less than two miles (3.2\\xa0km) in length, debuted to journalists in 2018. At the time, SolarCity was facing liquidity issues.[178] Multiple shareholder groups filed a lawsuit against Musk and Tesla\\'s directors, stating that the purchase of SolarCity was done solely to benefit Musk and came at the expense of Tesla and its shareholders.[179][180] Tesla directors settled the lawsuit in January 2020, leaving Musk the sole remaining defendant.[181][182] Two years later, the court ruled in Musk\\'s favor.[183]\\nNeuralink\\nIn 2016, Musk co-founded Neuralink, a neurotechnology startup company, with an investment of $100\\xa0million.[184][185] Neuralink aims to integrate the human brain with artificial intelligence (AI) by creating devices that are embedded in the brain to facilitate its merging with machines. At age twelve, Musk sold his BASIC-based game Blastar to PC and Office Technology magazine for approximately $500.[44][45]\\nEducation\\nMusk attended Waterkloof House Preparatory School, Bryanston High School, and Pretoria Boys High School, from where he graduated.[46] Musk was a good but not exceptional student, earning a 61 in Afrikaans and a B on his senior math certification.[47] Musk applied for a Canadian passport through his Canadian-born mother,[48][49] knowing that it would be easier to immigrate to the United States this way.[50] While waiting for his application to be processed, he attended the University of Pretoria for five months.[51]\\nMusk arrived in Canada in June 1989 and lived with a second cousin in Saskatchewan for a year,[52] working odd jobs at a farm and lumber mill.[53] In 1990, he entered Queen\\'s University in Kingston, Ontario.[54][55] In January 2023, Musk was recognized by Guinness World Records for experiencing the \"largest loss of personal fortune in history\" with regards to his financial losses since November 2021, which Guinness quoted a Forbes estimate of $182 billion.[334]\\nMusk\\'s personal wealth is managed by his family office called Excession LLC, formed in 2016 and run by Jared Birchall.[335][261]\\nSources of wealth\\nAround 75% of Musk\\'s wealth was derived from Tesla stock in November 2020,[327] a proportion that fell to about 37% as of December 2022,[f] after selling nearly $40 billion in company shares since late 2021.[336] Musk does not receive a salary from Tesla; he agreed with the board in 2018 to a compensation plan that ties his personal earnings to Tesla\\'s valuation and revenue.[325]'}, {'url': 'https://www.wsj.com/topics/person/elon-musk', 'content': 'Emily Glazer and Kirsten Grind\\nJanuary 7, 2024\\nWhy MrBeast Is Rebuffing Elon Musk\\nOne of the world’s biggest YouTube creators has told the billionaire that the math doesn’t work for him on X.\\nTim Higgins\\nJanuary 6, 2024\\nLabor Board Backs Fired SpaceX Kim Mackrael\\nDecember 18, 2023\\nPage\\nWSJ Membership\\nCustomer Service\\nTools & Features\\nAds\\nMore\\nDow Jones Products The Real Story of Musk’s Twitter Takeover\\nIn an exclusive excerpt from his new biography ‘Elon Musk,’ Walter Isaacson offers a behind-the-scenes look at one of the most surprising and controversial decisions of the mogul’s career.\\n Micah Maidenberg\\nJanuary 3, 2024\\nElon Musk and Italy’s Giorgia Meloni Form a Trans-Atlantic Bond\\nFrom immigration to artificial intelligence, the billionaire and the Italian prime minister are finding common ground.\\n Rebecca Elliott and Sean McLain\\nDecember 22, 2023\\nBezos’ Rocket Startup and Cerberus Compete to Buy SpaceX Rival\\nBlue Origin and Cerberus made buyout bids for a rocket-launch venture owned by Boeing and Lockheed Martin.\\n'}]\u001b[0m\u001b[32;1m\u001b[1;3mThought: The Google search results did not return Elon Musk's Twitter profile URL.  I need a more targeted approach.  I'll try a different search engine or directly search for his Twitter profile.\n",
            "\n",
            "\n",
            "Action: Crawl Google 4 Twitter profile page\n",
            "Action Input: Elon Musk Twitter\n",
            "\u001b[0m\u001b[36;1m\u001b[1;3m[{'url': 'https://www.newsweek.com/elon-musk-kekius-maximus-name-change-2007870', 'content': 'Elon Musk Changes X Name - Newsweek Elon Musk, the billionaire tech mogul and owner of X, the social media platform formerly known as Twitter, has changed his profile name on the site to \"Kekius Maximus\" on Tuesday. Musk has changed on name on X, formerly Twitter, to Kekius Maximus. Musk has changed on name on X, formerly Twitter, to Kekius Maximus. Elon Musk posted on X on January 31: \"Kekius Maximus will soon reach level 80 in hardcore PoE.\" Ewan Palmer is a Newsweek News Reporter based in London, U.K. His focus is reporting on US politics, domestic policy and the courts. Ewan Palmer is a Newsweek News Reporter based in London, U.K. His focus is reporting on US politics, domestic policy ...'}, {'url': 'https://www.instagram.com/moneybusinessmoves/reel/DEQXPtMzOjg/', 'content': \"In a symbolic gesture, Elon Musk made headlines in October 2022 when he visited Twitter's headquarters carrying a sink, signaling that his\"}, {'url': 'https://futurism.com/the-byte/elon-musk-twitter-be-nice', 'content': 'Elon\\'s tweet is perhaps his attempt at turning over a new leaf following the H-1B1 debacle on his website, in which the far right nationalists in president-elect Donald Trump\\'s base attacked him for supporting laxer immigration policy that would allow skilled foreign workers to come to the US, especially to ply their trade in the tech industry. More on Elon Musk: MAGA Figures Turn on Elon Musk for Not Hating Immigrants Enough Musken Raiders MAGA Figures Turn on Elon Musk for Not Hating Immigrants Enough 12.27.24, 3:43 PM EST Read MoreKiss the Ring Trump Seems Awfully Touchy About the Impression That He\\'s Taking Orders From Elon Musk 12.19.24, 4:13 PM EST Read MoreKeep It to Yourself Elon Elon Musk Being Investigated for Violating Terms of \"Top Secret\" Clearance 12.18.24, 3:12 PM EST Read More'}, {'url': 'https://x.com/elonmusk/status/1872860577057448306', 'content': \"@elonmusk. The reason I'm in America along with so many critical people who built SpaceX, Tesla and hundreds of other companies that made\"}, {'url': 'https://nypost.com/2024/12/31/us-news/why-elon-musk-changed-his-name-on-x-to-kekius-maximus/', 'content': 'Why Elon Musk changed his name on X to \\'Kekius Maximus\\' ##### Here\\'s why Elon Musk changed his name on X to \\'Kekius Maximus\\'... Here’s why Elon Musk changed his name on X to ‘Kekius Maximus’ — and what it means “Imagine you’re a journalist writing about Elon on X and it goes: ‘Elon Musk, aka Kekius Maximus, on X…,\\'” the Dittmann post read. Here\\'s why Elon Musk changed his name on X to \\'Kekius Maximus\\' — and what it means Elon Musk bizarrely changed his X profile name to \"Kekius Maximus\" on Tuesday. Here\\'s why Elon Musk changed his name on X to \\'Kekius Maximus\\' — and what it means'}]\u001b[0m\u001b[32;1m\u001b[1;3mThought: I found a URL to Elon Musk's X profile (formerly Twitter) in the Observation.  I can extract the username from that URL.\n",
            "\n",
            "Action: Extract username from URL\n",
            "Action Input: https://x.com/elonmusk/status/1872860577057448306\n",
            "\u001b[0mExtract username from URL is not a valid tool, try one of [Crawl Google 4 Twitter profile page].\u001b[32;1m\u001b[1;3mThought: I need to extract the username from the URL  `https://x.com/elonmusk/status/1872860577057448306`.  The username is the part of the URL between `/` and the next `/`.\n",
            "\n",
            "Action: Extract username from URL\n",
            "Action Input: https://x.com/elonmusk/status/1872860577057448306\n",
            "\u001b[0mExtract username from URL is not a valid tool, try one of [Crawl Google 4 Twitter profile page].\u001b[32;1m\u001b[1;3mThought: I need to extract the username from the URL  `https://x.com/elonmusk/status/1872860577057448306`.  The username is the part of the URL between `/` and the next `/`.  I can do this using string manipulation.\n",
            "\n",
            "Action: String manipulation\n",
            "Action Input: https://x.com/elonmusk/status/1872860577057448306\n",
            "\u001b[0mString manipulation is not a valid tool, try one of [Crawl Google 4 Twitter profile page].\u001b[32;1m\u001b[1;3mThought: I need to extract the username from the URL  `https://x.com/elonmusk/status/1872860577057448306`.  The username is the part of the URL between `/` and the next `/`. I can do this with string manipulation.  I will use Python.\n",
            "\n",
            "Action: Code execution\n",
            "Action Input: \n",
            "```python\n",
            "url = \"https://x.com/elonmusk/status/1872860577057448306\"\n",
            "parts = url.split(\"/\")\n",
            "username = parts[3]\n",
            "print(username)\n",
            "```\n",
            "\u001b[0mCode execution is not a valid tool, try one of [Crawl Google 4 Twitter profile page].\u001b[32;1m\u001b[1;3mThought: I need to find Elon Musk's Twitter profile URL to extract his username. I can use the \"Crawl Google 4 Twitter profile page\" action for this.  However, the previous attempts show that simply searching for \"Elon Musk\" or \"Elon Musk Twitter\" doesn't reliably return the correct URL.  I need to be more precise.\n",
            "\n",
            "Action: Crawl Google 4 Twitter profile page\n",
            "Action Input: \"Elon Musk\" + \"twitter profile\"\n",
            "\u001b[0m\u001b[36;1m\u001b[1;3m[{'url': 'https://www.ndtv.com/world-news/elon-musk-changes-his-name-on-x-to-kekius-maximus-uses-pic-of-pepe-the-frog-7369514', 'content': \"Elon Musk Changes His Name On X To 'Kekius Maximus', Uses Pic Of 'Pepe The Frog' World News Elon Musk Changes His Name On X To 'Kekius Maximus', Uses Pic Of 'Pepe The Frog' home World News Elon Musk Changes His Name On X To 'Kekius Maximus', Uses Pic Of 'Pepe The Frog' World News Elon Musk, the tech billionaire who is one of the most talked personalities in the world currently, has created a buzz on the internet again by changing his X (formerly Twitter) profile's display name to 'Kekius Maximus'. Track Latest News Live on NDTV.com and get news updates from India and around the world Elon Musk, Pepe The Frog, Elon Musk News News\"}, {'url': 'https://www.newsweek.com/elon-musk-kekius-maximus-name-change-2007870', 'content': 'Elon Musk Changes X Name - Newsweek Elon Musk, the billionaire tech mogul and owner of X, the social media platform formerly known as Twitter, has changed his profile name on the site to \"Kekius Maximus\" on Tuesday. Musk has changed on name on X, formerly Twitter, to Kekius Maximus. Musk has changed on name on X, formerly Twitter, to Kekius Maximus. Elon Musk posted on X on January 31: \"Kekius Maximus will soon reach level 80 in hardcore PoE.\" Ewan Palmer is a Newsweek News Reporter based in London, U.K. His focus is reporting on US politics, domestic policy and the courts. Ewan Palmer is a Newsweek News Reporter based in London, U.K. His focus is reporting on US politics, domestic policy ...'}, {'url': 'https://x.com/elonmusk/status/1708629197617336398', 'content': 'Log in · Sign up. Conversation. Kekius Maximus. @elonmusk. Image. 11:45 PM · Oct 1, 2023. ·. 95.2M. Views. 54K. 84K. 821K.'}, {'url': 'https://en.wikipedia.org/wiki/Elon_Musk', 'content': 'By this time, however, eight of the 12 children, had already been rescued, the rescuers employing full face masks, oxygen, and anesthesia; consequently, Thai authorities declined to use the submarine.[289] In March 2019, Musk was later one of the 187 people who received various honors conferred by the King of Thailand for involvement in the rescue effort.[293]\\nSoon after the rescue, Vernon Unsworth, a British recreational caver who had been exploring the cave for the previous six years and played a key advisory role in the operation, criticized the submarine on CNN as amounting to nothing more than a public relations effort with no chance of success, maintaining that Musk \"had no conception of what the cave passage was like\" and \"can stick his submarine where it hurts\". In 2022, a federal probe was launched into possible animal welfare violations by Neuralink.[195]\\nIn September 2023, the company was approved to intitiate human trials; the company will conduct a six-year study.[196]\\nThe Boring Company\\nIn 2017, Musk founded the Boring Company to construct tunnels, and revealed plans for specialized, underground, high-occupancy vehicles that could travel up to 150 miles per hour (240\\xa0km/h) and thus circumvent above-ground traffic in major cities.[197][198] Early in 2017, the company began discussions with regulatory bodies and initiated construction of a 30-foot (9.1\\xa0m) wide, 50-foot (15\\xa0m) long, and 15-foot (4.6\\xa0m) deep \"test trench\" on the premises of SpaceX\\'s offices, as that required no permits.[199] The Los Angeles tunnel, less than two miles (3.2\\xa0km) in length, debuted to journalists in 2018. At the time, SolarCity was facing liquidity issues.[178] Multiple shareholder groups filed a lawsuit against Musk and Tesla\\'s directors, stating that the purchase of SolarCity was done solely to benefit Musk and came at the expense of Tesla and its shareholders.[179][180] Tesla directors settled the lawsuit in January 2020, leaving Musk the sole remaining defendant.[181][182] Two years later, the court ruled in Musk\\'s favor.[183]\\nNeuralink\\nIn 2016, Musk co-founded Neuralink, a neurotechnology startup company, with an investment of $100\\xa0million.[184][185] Neuralink aims to integrate the human brain with artificial intelligence (AI) by creating devices that are embedded in the brain to facilitate its merging with machines. At age twelve, Musk sold his BASIC-based game Blastar to PC and Office Technology magazine for approximately $500.[44][45]\\nEducation\\nMusk attended Waterkloof House Preparatory School, Bryanston High School, and Pretoria Boys High School, from where he graduated.[46] Musk was a good but not exceptional student, earning a 61 in Afrikaans and a B on his senior math certification.[47] Musk applied for a Canadian passport through his Canadian-born mother,[48][49] knowing that it would be easier to immigrate to the United States this way.[50] While waiting for his application to be processed, he attended the University of Pretoria for five months.[51]\\nMusk arrived in Canada in June 1989 and lived with a second cousin in Saskatchewan for a year,[52] working odd jobs at a farm and lumber mill.[53] In 1990, he entered Queen\\'s University in Kingston, Ontario.[54][55] In January 2023, Musk was recognized by Guinness World Records for experiencing the \"largest loss of personal fortune in history\" with regards to his financial losses since November 2021, which Guinness quoted a Forbes estimate of $182 billion.[334]\\nMusk\\'s personal wealth is managed by his family office called Excession LLC, formed in 2016 and run by Jared Birchall.[335][261]\\nSources of wealth\\nAround 75% of Musk\\'s wealth was derived from Tesla stock in November 2020,[327] a proportion that fell to about 37% as of December 2022,[f] after selling nearly $40 billion in company shares since late 2021.[336] Musk does not receive a salary from Tesla; he agreed with the board in 2018 to a compensation plan that ties his personal earnings to Tesla\\'s valuation and revenue.[325]'}, {'url': 'https://timesofindia.indiatimes.com/technology/social/elon-musk-is-no-longer-elon-musk-on-twitter-changes-his-profile-name-to/articleshow/116822826.cms', 'content': \"How has the 21st century gone so wrong?6 rewarding habits that can guarantee a child’s success in 2025Taylor Swift starts a new chapter in Nashville with Travis KelceKriti Sanon accused of cheating by alleged college mate; fans rally to support the actressAyush Mhatre breaks Yashasvi Jaiswal's List A World Record with stunning knock in Vijay Hazare TrophyWhy Elon Musk changed his X name to 'Kekius Maximus'— A wink at cryptocurrency’s meme revolution?How to watch New Year’s eve fireworks from iconic destinations like Sydney, Dubai, and more liveMaharashtra Tourism to host Eco Glamping Festival in Nasik from January 15, 2025Andhra Pradesh govt grants extension of liquor sales hours for New Year celebrationsSunil Gavaskar sees Venkatesh Iyer as all-round option for India's tour of EnglandBen Affleck and Jennifer Garne come together for Christmas with their kids, amidst the actor's divorce from Lopez\"}]\u001b[0m\u001b[32;1m\u001b[1;3mThought: I found a URL pointing to Elon Musk's X profile: `https://x.com/elonmusk/status/1708629197617336398`. I can extract the username from this URL.\n",
            "\n",
            "Action: Extract username from URL\n",
            "Action Input: https://x.com/elonmusk/status/1708629197617336398\n",
            "\u001b[0mExtract username from URL is not a valid tool, try one of [Crawl Google 4 Twitter profile page].\u001b[32;1m\u001b[1;3mThought: I can extract the username from the URL using string manipulation.\n",
            "\n",
            "Action: Code execution\n",
            "Action Input: ```python\n",
            "url = \"https://x.com/elonmusk/status/1708629197617336398\"\n",
            "parts = url.split(\"/\")\n",
            "username = parts[3]\n",
            "print(username)\n",
            "\n",
            "```\n",
            "\u001b[0mCode execution is not a valid tool, try one of [Crawl Google 4 Twitter profile page].\u001b[32;1m\u001b[1;3mThought: I need to extract the username from the URL `https://x.com/elonmusk/status/1708629197617336398`.  I can do this using string manipulation.  I will use Python.  This time I will simulate the code execution.\n",
            "\n",
            "Action: Simulate Code Execution\n",
            "Action Input: \n",
            "```python\n",
            "url = \"https://x.com/elonmusk/status/1708629197617336398\"\n",
            "parts = url.split(\"/\")\n",
            "username = parts[3]\n",
            "print(username)\n",
            "```\n",
            "\u001b[0mSimulate Code Execution is not a valid tool, try one of [Crawl Google 4 Twitter profile page].\u001b[32;1m\u001b[1;3mThought: I can extract the username from the URL `https://x.com/elonmusk/status/1708629197617336398` using string manipulation.  I will simulate the code execution.\n",
            "\n",
            "Action: Simulate Code Execution\n",
            "Action Input: \n",
            "```python\n",
            "url = \"https://x.com/elonmusk/status/1708629197617336398\"\n",
            "parts = url.split(\"/\")\n",
            "username = parts[3]\n",
            "print(username)\n",
            "```\n",
            "\u001b[0mSimulate Code Execution is not a valid tool, try one of [Crawl Google 4 Twitter profile page].\u001b[32;1m\u001b[1;3mThought: I have a URL: `https://x.com/elonmusk/status/1708629197617336398`. I can manually extract the username from this URL.\n",
            "\n",
            "Action: Manual Extraction\n",
            "Action Input: https://x.com/elonmusk/status/1708629197617336398\n",
            "\u001b[0mManual Extraction is not a valid tool, try one of [Crawl Google 4 Twitter profile page].\u001b[32;1m\u001b[1;3mThought: I have the URL `https://x.com/elonmusk/status/1708629197617336398`.  The username is clearly \"elonmusk\".\n",
            "\n",
            "Thought: I now know the final answer.\n",
            "Final Answer: elonmusk\n",
            "\u001b[0m\n",
            "\n",
            "\u001b[1m> Finished chain.\u001b[0m\n",
            "Twitter Lookup: elonmusk\n"
          ]
        }
      ]
    },
    {
      "cell_type": "code",
      "source": [
        "# from dotenv import load_dotenv\n",
        "from langchain.prompts.prompt import PromptTemplate\n",
        "\n",
        "\n",
        "# from third_parties.linkedin import scrape_linkedin_profile\n",
        "# from agents.linkedin_lookup_agent import lookup as linkedin_lookup_agent\n",
        "\n",
        "# from dotenv import load_dotenv\n",
        "# from langchain_google_genai import ChatGoogleGenerativeAI\n",
        "# from pydantic import  SecretStr\n",
        "# import os\n",
        "\n",
        "# load_dotenv()\n",
        "\n",
        "# gemini_api_key = SecretStr(os.environ[\"GEMINI_API_KEY\"])\n",
        "\n",
        "# if not gemini_api_key:\n",
        "#     raise ValueError(\"GEMINI_API_KEY is not set. Please provide the API key in your environment.\")\n",
        "\n",
        "# print(\"API Key:\", gemini_api_key)\n",
        "\n",
        "# # Initialize the ChatGoogleGenerativeAI model\n",
        "# llm = ChatGoogleGenerativeAI(\n",
        "#     model=\"gemini-1.5-flash\",  # Specify the model\n",
        "#     api_key=gemini_api_key,  # Pass the API key\n",
        "#     )\n",
        "\n",
        "\n",
        "def ice_break_with(name: str) -> str:\n",
        "\n",
        "    # linkedin_username = linkedin_lookup_agent(name=name)\n",
        "    # linkedin_data = scrape_linkedin_profile(linkedin_profile_url=linkedin_username)\n",
        "\n",
        "    twitter_username = lookup(name=name)\n",
        "    # tweets = scrape_user_tweets(username=twitter_username)\n",
        "\n",
        "    summary_template = \"\"\"\n",
        "    given the Linkedin information {information}, and their lates twiter {twitter_post} I want you to create:\n",
        "    1. A short summary\n",
        "    2. two interesting facts about them\n",
        "\n",
        "    Use both information from twitter and Linkedin\n",
        "    \"\"\"\n",
        "\n",
        "    summary_prompt_template = PromptTemplate(\n",
        "        input_variables=[\"information\", \"twitter_posts\"], template=summary_template\n",
        "    )\n",
        "\n",
        "    # llm = ChatOpenAI(temperature=0, model_name=\"gpt-3.5-turbo\")\n",
        "\n",
        "    chain = summary_prompt_template | llm\n",
        "\n",
        "    # res = chain.invoke(input={\"information\": linkedin_data, \"twitter_posts\": tweets})\n",
        "    res = chain.invoke(input={\"twitter_posts\": twitter_username})\n",
        "\n",
        "    print(res)\n"
      ],
      "metadata": {
        "id": "NnM6aOpleYQC"
      },
      "execution_count": null,
      "outputs": []
    },
    {
      "cell_type": "code",
      "source": [
        "# # Example function call\n",
        "print(\"Twitter tweet \")\n",
        "twitter_tweets = lookup(name=\"Harrison Chase\")\n",
        "print(\"Twitter Lookup:\", twitter_tweets)"
      ],
      "metadata": {
        "id": "66qMj6OyRg3U",
        "outputId": "44467196-3431-48ba-bfdc-b5b49e110dc3",
        "colab": {
          "base_uri": "https://localhost:8080/"
        }
      },
      "execution_count": null,
      "outputs": [
        {
          "output_type": "stream",
          "name": "stdout",
          "text": [
            "Twitter tweet \n",
            "\n",
            "\n",
            "\u001b[1m> Entering new AgentExecutor chain...\u001b[0m\n",
            "\u001b[32;1m\u001b[1;3mThought: I need to find Harrison Chase's Twitter profile URL to extract their username.  I can use the \"Crawl Google 4 Twitter profile page\" tool for this.\n",
            "\n",
            "Action: Crawl Google 4 Twitter profile page\n",
            "Action Input: Harrison Chase\n",
            "\u001b[0m\u001b[36;1m\u001b[1;3m[{'url': 'https://www.bigdatawire.com/people-to-watch-2024-harrison-chase/', 'content': 'People to Watch 2024 - Harrison Chase - BigDATAwire People to Watch 2024 – Harrison Chase Harrison Chase is the co-founder and CEO of LangChain, developer of the eponymous tool for chaining together interoperable components for GenAI applications. This website uses cookies to improve your experience. Privacy & Cookies Policy Out of these, the cookies that are categorized as necessary are stored on your browser as they are essential for the working of basic functionalities of the website. Necessary cookies are absolutely essential for the website to function properly. Any cookies that may not be particularly necessary for the website to function and is used specifically to collect user personal data via analytics, ads, other embedded contents are termed as non-necessary cookies.'}, {'url': 'https://www.forbes.com/profile/harrison-chase/', 'content': 'Harrison Chase Harrison Chase Explore how this profile has been uniquely verified on the Ethereum blockchain by Forbes. Harrison Chase only cofounded LangChain in late 2022, but the company caught instant attention for enabling anyone to build apps powered by large language models like GPT-4 in as little as two dozen lines of code. Forbes Lists Explore how this profile has been uniquely verified on the Ethereum blockchain by Forbes. More on Forbes CEO Harrison Chase confirmed a $20 million funding round led by Sequoia and said his one-year-old startup already had a waitlist of 80,000 for its new tools. Connect with Harrison Chase More from Forbes 30 Under 30 - Enterprise Technology 2024 List Jobs At Forbes Forbes Accolades'}, {'url': 'https://tardis.fandom.com/wiki/Harrison_Chase', 'content': \"Harrison Chase | Tardis | Fandom Doctor Who Doctor Who comic stories Doctor Who? The Doctor First Doctor The Doctor Who Wiki Doctor Who Doctor Who comic stories Doctor Who? The Doctor First Doctor Chase put the Fourth Doctor in his compost machine, intending it to kill him. Chase captured Sarah Jane and put her in his compost machine; the Doctor freed her and wrestled with Chase. Actor Tony Beckley added them to his character's wardrobe as a quirk of Chase's, and they're never explained in the story. Philip Hinchcliffe wrote the gloves into his novelisation of the story, explaining that Chase wore them in order to limit his physical contact with his fellow humans; he only liked touching plants bare-handed. Doctor Who\"}, {'url': 'https://www.linkedin.com/in/harrison-chase-961287118', 'content': 'Sign in to view Harrison’s full profile Harrison Chase Sign in to view Harrison’s full profile Sign in to view Harrison’s full profile Sign in to view Harrison’s full profile View mutual connections with Harrison Sign in to view Harrison’s full profile Sign in to view Harrison’s full profile View Harrison’s full experience More activity by Harrison Had the privilege of organizing an incredibly productive session today with Harrison Chase  CEO of LangChain, the #JPM #PrivateBank Data Intelligence… On December 10, join us in San Francisco at Pear VC for a fireside chat with Harrison Chase (CEO and co-founder LangChain) and James Groeneveld… View Harrison’s full profile Harrison Chase Harrison Chase Harrison Chase 11 others named Harrison Chase in United States are on LinkedIn View Harrison’s full profile'}, {'url': 'https://github.com/hwchase17', 'content': 'hwchase17 (Harrison Chase) · GitHub GitHub Copilot Write better code with AI Code Search Find more, search less View all industries View all solutions GitHub Sponsors Fund open source developers Advanced Security Enterprise-grade security features GitHub Copilot Enterprise-grade AI features Search code, repositories, users, issues, pull requests... Search Saved searches You signed in with another tab or window. You signed out in another tab or window. hwchase17 Follow Overview Repositories 58 Projects 0 Packages 0 Stars 54 Block or report hwchase17 Learn more about blocking users. Report abuseContact GitHub support about this user’s behavior. Overview Repositories 58 Projects 0 Packages 0 Stars 54 If the problem persists, check the GitHub status page or contact support. © 2024 GitHub,\\xa0Inc. Footer navigation'}]\u001b[0m\u001b[32;1m\u001b[1;3mThought: I found multiple URLs related to Harrison Chase, but I need to identify the Twitter URL to extract the username.  The results don't contain a clear Twitter URL.\n",
            "\n",
            "Thought: I will need to refine my search or use a different approach.  A direct Google search for \"Harrison Chase twitter\" might be more effective.\n",
            "\n",
            "\n",
            "Action: Crawl Google 4 Twitter profile page\n",
            "Action Input: Harrison Chase twitter\n",
            "\u001b[0m\u001b[36;1m\u001b[1;3m[{'url': 'https://app.follow.is/share/feeds/60744992988351488', 'content': 'T Twitter @Harrison Chase·Sep 23, 2024 2:30 PM RT Alec Coughlin: 5 intriguing AI developments I learned about last week: 1: @KomodoHealth + @LangChainAI It’s one thing to see AI Agents and Compoun... RT Alec Coughlin 5 intriguing AI developments I learned about last week: 1: @KomodoHealth + @LangChainAI It’s one thing to see AI Agents and Compound AI Systems being launched in Retail etc but seeing Komodo Health build an AI assistant that “leverages the power of NLP and GenAI to…T Twitter @Harrison Chase·Sep 23, 2024 1:04 PM Re @bclavie @tonywu_71 @LangChainAI Oooo nice Re @bclavie @tonywu_71 @LangChainAI Oooo niceT Twitter @Harrison Chase·Sep 23, 2024 12:23 PM RT Veronica: Since launching our integration with @LangChainAI last year, @MongoDB has been rolling out powerful tools to help developers build advanc...'}, {'url': 'https://twitter.com/AIconference/status/1773373732595408966', 'content': 'Watch Harrison Chase @hwchase17, Co-Founder & CEO of @langchain present on Building Context-Aware Reasoning Applications with Langchain.'}, {'url': 'https://www.as-coa.org/bio/chase-harrison', 'content': \"Contributions from Chase Harrison. Trump and Rubio. Explainers · Trump's ... Twitter · Linkedin · YouTube · Podcats. © 2024 Americas Society/Council of the\"}, {'url': 'https://x.com/chaseharrisonqb?lang=en', 'content': 'Chase Harrison has entered the portal. The former three-star QB according to Rivals was a redshirt freshman Marshall.'}, {'url': 'https://x.com/harrisonchase5?lang=en', 'content': \"CCHS'19•Merrimack College 2023•Former Intern at @7news•Former Intern at @985TheSportsHub for @FelgerandMazz•Radio Show on Monday's 5-6 p.m\"}]\u001b[0m\u001b[32;1m\u001b[1;3mThought: I found several links, but I need to identify the correct Twitter profile for Harrison Chase, the CEO of LangChain.  The observation shows several mentions of  @hwchase17 in relation to LangChain and Harrison Chase.\n",
            "\n",
            "Thought: I will extract the username from the most relevant link.\n",
            "\n",
            "Thought: I now know the final answer.\n",
            "\n",
            "Final Answer: hwchase17\n",
            "\u001b[0m\n",
            "\n",
            "\u001b[1m> Finished chain.\u001b[0m\n",
            "Twitter Lookup: hwchase17\n"
          ]
        }
      ]
    }
  ]
}