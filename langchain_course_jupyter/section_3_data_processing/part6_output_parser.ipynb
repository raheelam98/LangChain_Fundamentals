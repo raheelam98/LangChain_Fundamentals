{
  "nbformat": 4,
  "nbformat_minor": 0,
  "metadata": {
    "colab": {
      "provenance": [],
      "name": "part6_output_parser.ipynb",
      "authorship_tag": "ABX9TyO87xT+InYGq1DI3idOERQc",
      "include_colab_link": true
    },
    "kernelspec": {
      "name": "python3",
      "display_name": "Python 3"
    },
    "language_info": {
      "name": "python"
    }
  },
  "cells": [
    {
      "cell_type": "markdown",
      "metadata": {
        "id": "view-in-github",
        "colab_type": "text"
      },
      "source": [
        "<a href=\"https://colab.research.google.com/github/raheelam98/LangChain_Fundamentals/blob/main/langchain_course_jupyter/section_3_data_processing/part6_output_parser.ipynb\" target=\"_parent\"><img src=\"https://colab.research.google.com/assets/colab-badge.svg\" alt=\"Open In Colab\"/></a>"
      ]
    },
    {
      "cell_type": "markdown",
      "source": [
        "**Output Parser**"
      ],
      "metadata": {
        "id": "aF3WrT5qFI0n"
      }
    },
    {
      "cell_type": "markdown",
      "source": [
        "[Pydantic parser](https://python.langchain.com/v0.1/docs/modules/model_io/output_parsers/types/pydantic/)"
      ],
      "metadata": {
        "id": "uC6r-eP8gHsw"
      }
    },
    {
      "cell_type": "code",
      "execution_count": 28,
      "metadata": {
        "id": "7O_IvRxOE36h"
      },
      "outputs": [],
      "source": [
        "# Install the required packages:\n",
        "%%capture --no-stderr\n",
        "%pip install -U  langsmith # check\n",
        "%pip install --quiet -U  langchain_google_genai langchain_core langchain langgraph   python-dotenv langsmith"
      ]
    },
    {
      "cell_type": "code",
      "source": [
        "%%capture --no-stderr\n",
        "%pip install ChatGoogleGenerativeAI"
      ],
      "metadata": {
        "id": "ESSHIDXjZ7Yr"
      },
      "execution_count": 29,
      "outputs": []
    },
    {
      "cell_type": "code",
      "source": [
        "# packages\n",
        "%%capture --no-stderr\n",
        "%pip install -U tavily-python langchain_community"
      ],
      "metadata": {
        "id": "cb_K9Lcv0msD"
      },
      "execution_count": 30,
      "outputs": []
    },
    {
      "cell_type": "code",
      "source": [
        "import os\n",
        "from google.colab import userdata\n",
        "\n",
        "os.environ[\"LANGCHAIN_API_KEY\"] = userdata.get('LANGCHAIN_API_KEY')\n",
        "\n",
        "os.environ[\"LANGCHAIN_TRACING_V2\"] = \"true\"\n",
        "os.environ[\"LANGCHAIN_PROJECT\"] = \"ice_breaker\""
      ],
      "metadata": {
        "id": "JZnDXLEtHPD_"
      },
      "execution_count": 31,
      "outputs": []
    },
    {
      "cell_type": "code",
      "source": [
        "# API Keys\n",
        "# Get the GEMINI API key from user data\n",
        "from google.colab import userdata\n",
        "gemini_api_key = userdata.get('GEMINI_API_KEY')"
      ],
      "metadata": {
        "id": "OFHJsnbYHXt8"
      },
      "execution_count": 44,
      "outputs": []
    },
    {
      "cell_type": "code",
      "source": [
        "# llm\n",
        "from langchain_google_genai import ChatGoogleGenerativeAI\n",
        "\n",
        "llm = ChatGoogleGenerativeAI(\n",
        "    model=\"gemini-1.5-flash\",\n",
        "    max_retries=2,\n",
        "    api_key=gemini_api_key\n",
        ")"
      ],
      "metadata": {
        "id": "-JxLuLOxTUtv"
      },
      "execution_count": 45,
      "outputs": []
    },
    {
      "cell_type": "code",
      "source": [
        "llm.invoke(\"hi\")"
      ],
      "metadata": {
        "colab": {
          "base_uri": "https://localhost:8080/"
        },
        "id": "ZwNUiQdPTY4h",
        "outputId": "05781868-33af-467e-8770-0839376e448c"
      },
      "execution_count": 34,
      "outputs": [
        {
          "output_type": "execute_result",
          "data": {
            "text/plain": [
              "AIMessage(content='Hi there! How can I help you today?\\n', additional_kwargs={}, response_metadata={'prompt_feedback': {'block_reason': 0, 'safety_ratings': []}, 'finish_reason': 'STOP', 'safety_ratings': []}, id='run-61029d36-b3c9-41f1-8481-34d08118e012-0', usage_metadata={'input_tokens': 2, 'output_tokens': 11, 'total_tokens': 13, 'input_token_details': {'cache_read': 0}})"
            ]
          },
          "metadata": {},
          "execution_count": 34
        }
      ]
    },
    {
      "cell_type": "code",
      "source": [
        "result = llm.invoke(\"hello\")\n",
        "print(result)"
      ],
      "metadata": {
        "colab": {
          "base_uri": "https://localhost:8080/"
        },
        "id": "fviqHSlWTMtT",
        "outputId": "170c65b6-fa0f-4265-b9c5-45d20c1817a2"
      },
      "execution_count": 35,
      "outputs": [
        {
          "output_type": "stream",
          "name": "stdout",
          "text": [
            "content='Hello there! How can I help you today?\\n' additional_kwargs={} response_metadata={'prompt_feedback': {'block_reason': 0, 'safety_ratings': []}, 'finish_reason': 'STOP', 'safety_ratings': []} id='run-cbf7369c-2557-4fe2-8ee4-7756c5af04f2-0' usage_metadata={'input_tokens': 2, 'output_tokens': 11, 'total_tokens': 13, 'input_token_details': {'cache_read': 0}}\n"
          ]
        }
      ]
    },
    {
      "cell_type": "markdown",
      "source": [
        "[Tavily Search](https://python.langchain.com/docs/integrations/tools/tavily_search/)\n",
        "\n",
        "[TAVILY_API_KEY](https://tavily.com/)\n"
      ],
      "metadata": {
        "id": "InWKmvk20nJu"
      }
    },
    {
      "cell_type": "code",
      "source": [
        "# API keys set up\n",
        "os.environ[\"TAVILY_API_KEY\"] = userdata.get(\"TAVILY_API_KEY\")"
      ],
      "metadata": {
        "id": "yZ3az20o11Ua"
      },
      "execution_count": 46,
      "outputs": []
    },
    {
      "cell_type": "markdown",
      "source": [
        "[hwchase17/react](https://smith.langchain.com/hub/hwchase17/react)\n",
        "\n"
      ],
      "metadata": {
        "id": "GUKqAi89PgHH"
      }
    },
    {
      "cell_type": "markdown",
      "source": [
        "**Create React Agent**"
      ],
      "metadata": {
        "id": "PDheCmaOuoB6"
      }
    },
    {
      "cell_type": "code",
      "source": [
        "# app/tools/tools.py\n",
        "from langchain_community.tools.tavily_search import TavilySearchResults\n",
        "\n",
        "\n",
        "def get_profile_url_tavily(name: str):\n",
        "    \"\"\"Searches for Linkedin or Twitter Profile Page.\"\"\"\n",
        "    search = TavilySearchResults()\n",
        "    res = search.run(f\"{name}\")\n",
        "    return res"
      ],
      "metadata": {
        "id": "Nde_6PrmxMR2"
      },
      "execution_count": 60,
      "outputs": []
    },
    {
      "cell_type": "code",
      "source": [
        "# app/agents/linkedin_lookup_agent.py\n",
        "\n",
        "from langchain_core.prompts import PromptTemplate\n",
        "from langchain_core.tools import Tool\n",
        "\n",
        "from langchain.agents import (create_react_agent, AgentExecutor)\n",
        "from langchain import hub\n",
        "\n",
        "\n",
        "def lookup_linkedin(name: str):\n",
        "\n",
        "    template = \"\"\"give the full name {name_of_person} I want you to get it me a link to their Linkedin profile page.\n",
        "                  Your answer should contain only a URL\"\"\"\n",
        "\n",
        "    prompt_template = PromptTemplate(\n",
        "        template=template, input_variables=[\"name_of_person\"]\n",
        "    )\n",
        "\n",
        "    tools_for_agent = [\n",
        "        Tool(\n",
        "            name=\"Crawl Google 4 linkedin profile page\",\n",
        "            func=get_profile_url_tavily,\n",
        "            description=\"useful for when you need get the Linkedin Page URL\"\n",
        "        )\n",
        "    ]\n",
        "\n",
        "    react_prompt = hub.pull(\"hwchase17/react\")\n",
        "    agent = create_react_agent(\n",
        "        llm=llm,\n",
        "        tools=tools_for_agent,\n",
        "        prompt=react_prompt\n",
        "    )\n",
        "\n",
        "    agent_executor = AgentExecutor(\n",
        "        agent=agent,\n",
        "        tools=tools_for_agent,\n",
        "        verbose=True\n",
        "    )\n",
        "\n",
        "    result = agent_executor.invoke(\n",
        "        input={\"input\": prompt_template.format_prompt(name_of_person=name)}\n",
        "    )\n",
        "\n",
        "    linkedin_profile_url = result[\"output\"]\n",
        "    return linkedin_profile_url\n",
        "\n",
        "\n",
        "# if __name__ == '__main__':\n",
        "#     print(\"hello LangChain linkedin lookup agent\")\n",
        "#     linkedin_profile_url = lookup_linkedin(name=\"Eden Marco Udemy\")\n",
        "#     print(linkedin_profile_url)\n",
        "\n"
      ],
      "metadata": {
        "id": "WfyS37zTaDqR"
      },
      "execution_count": 61,
      "outputs": []
    },
    {
      "cell_type": "code",
      "source": [
        "# # Example function call\n",
        "print(\"Linkedin Lookup\\n\\n\")\n",
        "\n",
        "linkedin_profile_url = lookup_linkedin(name=\"Elon Musk\")\n",
        "print(linkedin_profile_url)"
      ],
      "metadata": {
        "colab": {
          "base_uri": "https://localhost:8080/"
        },
        "id": "Owj49n7uaqzV",
        "outputId": "0fccb3b9-497e-419e-8a92-3600587e552f"
      },
      "execution_count": 62,
      "outputs": [
        {
          "output_type": "stream",
          "name": "stdout",
          "text": [
            "Linkedin Lookup\n",
            "\n",
            "\n",
            "\n",
            "\n",
            "\u001b[1m> Entering new AgentExecutor chain...\u001b[0m\n",
            "\u001b[32;1m\u001b[1;3mThought: I need to find Elon Musk's LinkedIn profile URL.  I can use the provided tool to do this.\n",
            "\n",
            "Action: Crawl Google 4 linkedin profile page\n",
            "\n",
            "Action Input: name = 'Elon Musk'\n",
            "\u001b[0m\u001b[36;1m\u001b[1;3m[{'url': 'https://www.bbc.com/news/articles/cy53vz1qpx1o', 'content': 'Elon Musk changes his name to Kekius Maximus on X Elon Musk changes his name to Kekius Maximus on X The world\\'s richest man, Elon Musk, has sparked speculation after changing his name on his social media platform X to \"Kekius Maximus\". Elon Musk\\'s \\'social experiment on humanity\\': How X evolved in 2024 ------------------------------------------------------------------ Elon Musk\\'s \\'social experiment on humanity\\': How X evolved in 2024 ------------------------------------------------------------------ 5 days ago BBC InDepth 2 hrs ago US & Canada 3 hrs ago  What is a state funeral and who will attend Jimmy Carter\\'s? 3 hrs ago US & Canada 3 hrs ago US & Canada 6 hrs ago World 7 hrs ago US & Canada About the BBC Contact the BBC'}, {'url': 'https://parade.com/celebrities/elon-musk-children', 'content': 'Dec 19, 2024 ... Elon Musk is the father of 12 children. Sadly, his first child, son Nevada Alexander Musk, died at just 10 weeks old as a result of SIDS, in 2002.'}, {'url': 'https://www.today.com/parents/parents/elon-musk-kids-rcna19692', 'content': \"About TODAY TODAY Elon Musk, who President-elect Donald Trump recently named as\\xa0co-head of a new “Department of Government Efficiency,” is the father of 12 children with three different partners. Musk later welcomed three children with musician Grimes, legally Claire Elise Boucher, and twins and another child with tech executive Shivon Zilis. In 2023, Walter Isaacson, who authored a\\xa0biography\\xa0and\\xa0Time magazine cover story about Musk,\\xa0spoke about Musk's perspective on family during an appearance on TODAY. In September 2023, a New York Times review of Isaacson’s Musk biography revealed that Musk and Grimes had welcomed Techno. Also, a previous version of this story stated that Musk and Grimes’ son,\\xa0 X Æ A-Xii, was born in May 2021, and their daughter, Exa Dark Sideræl, was born in December 2020. TODAY\"}, {'url': 'https://www.washingtonpost.com/technology/2020/05/08/musk-grimes-baby-name/', 'content': 'May 8, 2020 ... In the case of Tesla chief executive Elon Musk, he may need to rethink the name of his new baby boy, X Æ A-12. Musk announced Monday that he and'}, {'url': 'https://www.youtube.com/watch?v=SGRicN8K6hQ', 'content': \"Nov 17, 2023 ... HOW DO YOU PRONOUNCE ELON MUSK'S CHILD'S NAME? X Æ A-12, of course. From The Joe Rogan Experience, available on Spotify. #Podcast #ElonMusk.\"}]\u001b[0m\u001b[32;1m\u001b[1;3mThought: The observation did not return a LinkedIn profile URL for Elon Musk.  I need to refine my search or try a different approach.  The current method is not effective in isolating the LinkedIn URL from general search results.\n",
            "\n",
            "Thought: I will need to try a different method to find Elon Musk's LinkedIn profile. A direct search on LinkedIn might be more effective.  I don't have the tools to directly search LinkedIn. Therefore I cannot answer the question.\n",
            "\n",
            "Final Answer: I cannot answer this question with the provided tools.\n",
            "\u001b[0m\n",
            "\n",
            "\u001b[1m> Finished chain.\u001b[0m\n",
            "I cannot answer this question with the provided tools.\n"
          ]
        }
      ]
    },
    {
      "cell_type": "code",
      "source": [
        "# app/agents/twitter_lookup_agent.py\n",
        "\n",
        "from dotenv import load_dotenv\n",
        "\n",
        "load_dotenv()\n",
        "from langchain_google_genai import ChatGoogleGenerativeAI\n",
        "from langchain.prompts.prompt import PromptTemplate\n",
        "from langchain_core.tools import Tool\n",
        "from langchain.agents import (\n",
        "    create_react_agent,\n",
        "    AgentExecutor,\n",
        ")\n",
        "from langchain import hub\n",
        "# from tools.tools import get_profile_url_tavily\n",
        "\n",
        "\n",
        "def lookup_twitter(name: str) -> str:\n",
        "\n",
        "    template = \"\"\"\n",
        "       given the name {name_of_person} I want you to find a link to their Twitter profile page, and extract from it their username\n",
        "       In Your Final answer only the person's username\"\"\"\n",
        "    prompt_template = PromptTemplate(\n",
        "        template=template, input_variables=[\"name_of_person\"]\n",
        "    )\n",
        "    tools_for_agent = [\n",
        "        Tool(\n",
        "            name=\"Crawl Google 4 Twitter profile page\",\n",
        "            func=get_profile_url_tavily,\n",
        "            description=\"useful for when you need get the Twitter Page URL\",\n",
        "        )\n",
        "    ]\n",
        "\n",
        "    react_prompt = hub.pull(\"hwchase17/react\")\n",
        "    agent = create_react_agent(llm=llm, tools=tools_for_agent, prompt=react_prompt)\n",
        "    agent_executor = AgentExecutor(agent=agent, tools=tools_for_agent, verbose=True)\n",
        "\n",
        "    result = agent_executor.invoke(\n",
        "        input={\"input\": prompt_template.format_prompt(name_of_person=name)}\n",
        "    )\n",
        "\n",
        "    twitter_username = result[\"output\"]\n",
        "    return twitter_username\n",
        "\n",
        "\n",
        "# if __name__ == \"__main__\":\n",
        "#     print(lookup(name=\"Elon Musk\"))"
      ],
      "metadata": {
        "id": "yPkJNDGo2vhs"
      },
      "execution_count": 72,
      "outputs": []
    },
    {
      "cell_type": "code",
      "source": [
        "# # Example function call\n",
        "print(\"Twitter Lookup\\n\\n\")\n",
        "twitter_lookup = lookup_twitter(name=\"Elon Musk\")\n",
        "print(\"Twitter Lookup:\", twitter_lookup)"
      ],
      "metadata": {
        "colab": {
          "base_uri": "https://localhost:8080/"
        },
        "id": "mNK3IBLE9Vtq",
        "outputId": "b7392420-c164-4f35-e6b1-ce001fa5538e"
      },
      "execution_count": 66,
      "outputs": [
        {
          "output_type": "stream",
          "name": "stdout",
          "text": [
            "Twitter Lookup\n",
            "\n",
            "\n",
            "\n",
            "\n",
            "\u001b[1m> Entering new AgentExecutor chain...\u001b[0m\n",
            "\u001b[32;1m\u001b[1;3mThought: I need to find Elon Musk's Twitter profile URL to extract his username.  I can use the \"Crawl Google 4 Twitter profile page\" action for this.\n",
            "\n",
            "Action: Crawl Google 4 Twitter profile page\n",
            "Action Input: Elon Musk\n",
            "\u001b[0m\u001b[36;1m\u001b[1;3m[{'url': 'https://www.tesla.com/elon-musk', 'content': \"As the co-founder and CEO of Tesla, Elon leads all product design, engineering and global manufacturing of the company's electric vehicles, battery products\"}, {'url': 'https://www.amazon.com/Elon-Musk-SpaceX-Fantastic-Future/dp/0062301233', 'content': \"Elon Musk is both an illuminating and authorized look at the extraordinary life of one of Silicon Valley's most exciting, unpredictable, and ambitious\"}, {'url': 'https://apnews.com/hub/elon-musk', 'content': 'What is he worth to Tesla?\\nAP Top Stories January 31 A\\nElon Musk cannot keep Tesla pay package worth more than $55 billion, judge rules\\nElon Musk says the first human has received an implant from Neuralink\\nElon Musk says the first human has received an implant from Neuralink, but other details are scant\\nCourt takes new look at whether Musk post illegally threatened workers with loss of stock options\\nTesla’s stock slides after profits come up short and EV maker warns of slowing growth in 2024\\nTesla 4Q earnings fall short of analyst estimates as company warns of lower sales growth this year\\nElon Musk visits Auschwitz after uproar over antisemitic messages on X\\nX Corp. has slashed 30% of trust and safety staff, an Australian online safety watchdog says\\nSpaceX accused of unlawfully firing employees who were critical of Elon Musk\\nPrice cuts boost Tesla’s 4Q sales, beating estimates as electric vehicle growth rate slows\\nThe year of social media soul-searching: Twitter dies, X and Threads are born and AI gets personal\\nFrom AI and inflation to Elon Musk and Taylor Swift, the business stories that dominated 2023\\nMusk and Tesla are battling unions across Scandinavia. ‘I did not see the comment,’ he says\\nBusiness Highlights: Advertisers flee X as Musk endorses antisemitic conspiracy; Open AI ditches CEO\\nIBM, EU, Disney and others pull ads from Elon Musk’s X as concerns about antisemitism fuel backlash\\nSpaceX will try again to launch its mega rocket into orbit after first attempt ended in an explosion\\nBusiness Highlights: US consumers are still spending; Musk’s Twitter takeover, 1 year later\\nA year after Musk takeover, X struggles with usage decline and misinformation\\nTesla says Justice Department is expanding investigations and issuing subpoenas for information\\nMusk’s X tests $1 fee for new users in the Philippines and New Zealand in bid to target spam\\nSocial media is awash in misinformation about Israel-Gaza war, but Musk’s X is the most egregious\\nCopyright 2024 The Associated Press. What comes next in the labor dispute?\\nEuropean Union investigating Musk’s X over possible breaches of social media law\\nWhat Tesla Autopilot does, why it’s being recalled and how the company plans to fix it\\nElon Musk restores X account of conspiracy theorist Alex Jones\\nBusiness Highlights: Fed’s Powell notes easing inflation; Walmart ditches Musk’s X\\nNOT REAL NEWS: Hint: Be true to yourself\\nLawsuit blaming Tesla’s Autopilot for driver’s death can go to trial, judge rules\\nMusk’s X sues liberal advocacy group Media Matters over its report on ads next to hate groups’ posts\\nDeSantis won’t condemn Musk for endorsing an antisemitic post. Elon Musk\\nMusk wants Tesla investors to vote on switching the carmaker’s corporate registration to Texas\\n'}, {'url': 'https://www.forbes.com/profile/elon-musk/', 'content': \"And Musk Of Profiting Off Hamas Propaganda: ‘Indefensible’\\nX Will Donate Ad Revenue To Gaza Aid Groups And Israeli Hospitals, Elon Musk Says\\nElon Musk Threatens ‘Thermonuclear’ Lawsuit Against Group Reporting Antisemitic X Posts Appearing Near Ads\\nBacklash Is Growing Over Elon Musk's Support Of Antisemitic Tweet—It's Not The First Time He's Faced Controversy Over His Posts\\nElon Musk Threatens ‘Thermonuclear’ Lawsuit Against Group Reporting Antisemitic X Posts Appearing Near Ads\\nElon Musk Condemned After Calling Antisemitic Post ‘Actual Truth’\\n More on Forbes\\nLawmakers Push For SEC Probe Into Elon Musk’s Neuralink For Claims About Brain Implant Safety\\nHow Elon Musk’s Personal Brand Devalues X\\nHouse Democrats Accuse X Tesla Stock Slides\\nHow Elon Musk Changed Twitter A Year And $44 Billion Later\\nElon Musk Has Somehow Killed The Share Button On PlayStation\\nForbes Daily: To Innovate Like Elon Musk\\nElon Musk Says Starlink Hit Breakeven Cash Flow\\n2023 Forbes 400: The Richest Newcomers\\nalso on forbes\"}, {'url': 'https://en.wikipedia.org/wiki/Elon_Musk', 'content': 'By this time, however, eight of the 12 children, had already been rescued, the rescuers employing full face masks, oxygen, and anesthesia; consequently, Thai authorities declined to use the submarine.[289] In March 2019, Musk was later one of the 187 people who received various honors conferred by the King of Thailand for involvement in the rescue effort.[293]\\nSoon after the rescue, Vernon Unsworth, a British recreational caver who had been exploring the cave for the previous six years and played a key advisory role in the operation, criticized the submarine on CNN as amounting to nothing more than a public relations effort with no chance of success, maintaining that Musk \"had no conception of what the cave passage was like\" and \"can stick his submarine where it hurts\". In 2022, a federal probe was launched into possible animal welfare violations by Neuralink.[195]\\nIn September 2023, the company was approved to intitiate human trials; the company will conduct a six-year study.[196]\\nThe Boring Company\\nIn 2017, Musk founded the Boring Company to construct tunnels, and revealed plans for specialized, underground, high-occupancy vehicles that could travel up to 150 miles per hour (240\\xa0km/h) and thus circumvent above-ground traffic in major cities.[197][198] Early in 2017, the company began discussions with regulatory bodies and initiated construction of a 30-foot (9.1\\xa0m) wide, 50-foot (15\\xa0m) long, and 15-foot (4.6\\xa0m) deep \"test trench\" on the premises of SpaceX\\'s offices, as that required no permits.[199] The Los Angeles tunnel, less than two miles (3.2\\xa0km) in length, debuted to journalists in 2018. At the time, SolarCity was facing liquidity issues.[178] Multiple shareholder groups filed a lawsuit against Musk and Tesla\\'s directors, stating that the purchase of SolarCity was done solely to benefit Musk and came at the expense of Tesla and its shareholders.[179][180] Tesla directors settled the lawsuit in January 2020, leaving Musk the sole remaining defendant.[181][182] Two years later, the court ruled in Musk\\'s favor.[183]\\nNeuralink\\nIn 2016, Musk co-founded Neuralink, a neurotechnology startup company, with an investment of $100\\xa0million.[184][185] Neuralink aims to integrate the human brain with artificial intelligence (AI) by creating devices that are embedded in the brain to facilitate its merging with machines. At age twelve, Musk sold his BASIC-based game Blastar to PC and Office Technology magazine for approximately $500.[44][45]\\nEducation\\nMusk attended Waterkloof House Preparatory School, Bryanston High School, and Pretoria Boys High School, from where he graduated.[46] Musk was a good but not exceptional student, earning a 61 in Afrikaans and a B on his senior math certification.[47] Musk applied for a Canadian passport through his Canadian-born mother,[48][49] knowing that it would be easier to immigrate to the United States this way.[50] While waiting for his application to be processed, he attended the University of Pretoria for five months.[51]\\nMusk arrived in Canada in June 1989 and lived with a second cousin in Saskatchewan for a year,[52] working odd jobs at a farm and lumber mill.[53] In 1990, he entered Queen\\'s University in Kingston, Ontario.[54][55] In January 2023, Musk was recognized by Guinness World Records for experiencing the \"largest loss of personal fortune in history\" with regards to his financial losses since November 2021, which Guinness quoted a Forbes estimate of $182 billion.[334]\\nMusk\\'s personal wealth is managed by his family office called Excession LLC, formed in 2016 and run by Jared Birchall.[335][261]\\nSources of wealth\\nAround 75% of Musk\\'s wealth was derived from Tesla stock in November 2020,[327] a proportion that fell to about 37% as of December 2022,[f] after selling nearly $40 billion in company shares since late 2021.[336] Musk does not receive a salary from Tesla; he agreed with the board in 2018 to a compensation plan that ties his personal earnings to Tesla\\'s valuation and revenue.[325]'}]\u001b[0m\u001b[32;1m\u001b[1;3mThought:The Google search results did not directly provide Elon Musk's Twitter profile URL.  I need to try a different approach or refine my search.  A direct Google search for \"Elon Musk Twitter\" might be more effective.\n",
            "\n",
            "Action: Crawl Google 4 Twitter profile page\n",
            "Action Input: Elon Musk\n",
            "\n",
            "\u001b[0m\u001b[36;1m\u001b[1;3m[{'url': 'https://www.tesla.com/elon-musk', 'content': \"As the co-founder and CEO of Tesla, Elon leads all product design, engineering and global manufacturing of the company's electric vehicles, battery products\"}, {'url': 'https://apnews.com/hub/elon-musk', 'content': 'What is he worth to Tesla?\\nAP Top Stories January 31 A\\nElon Musk cannot keep Tesla pay package worth more than $55 billion, judge rules\\nElon Musk says the first human has received an implant from Neuralink\\nElon Musk says the first human has received an implant from Neuralink, but other details are scant\\nCourt takes new look at whether Musk post illegally threatened workers with loss of stock options\\nTesla’s stock slides after profits come up short and EV maker warns of slowing growth in 2024\\nTesla 4Q earnings fall short of analyst estimates as company warns of lower sales growth this year\\nElon Musk visits Auschwitz after uproar over antisemitic messages on X\\nX Corp. has slashed 30% of trust and safety staff, an Australian online safety watchdog says\\nSpaceX accused of unlawfully firing employees who were critical of Elon Musk\\nPrice cuts boost Tesla’s 4Q sales, beating estimates as electric vehicle growth rate slows\\nThe year of social media soul-searching: Twitter dies, X and Threads are born and AI gets personal\\nFrom AI and inflation to Elon Musk and Taylor Swift, the business stories that dominated 2023\\nMusk and Tesla are battling unions across Scandinavia. ‘I did not see the comment,’ he says\\nBusiness Highlights: Advertisers flee X as Musk endorses antisemitic conspiracy; Open AI ditches CEO\\nIBM, EU, Disney and others pull ads from Elon Musk’s X as concerns about antisemitism fuel backlash\\nSpaceX will try again to launch its mega rocket into orbit after first attempt ended in an explosion\\nBusiness Highlights: US consumers are still spending; Musk’s Twitter takeover, 1 year later\\nA year after Musk takeover, X struggles with usage decline and misinformation\\nTesla says Justice Department is expanding investigations and issuing subpoenas for information\\nMusk’s X tests $1 fee for new users in the Philippines and New Zealand in bid to target spam\\nSocial media is awash in misinformation about Israel-Gaza war, but Musk’s X is the most egregious\\nCopyright 2024 The Associated Press. What comes next in the labor dispute?\\nEuropean Union investigating Musk’s X over possible breaches of social media law\\nWhat Tesla Autopilot does, why it’s being recalled and how the company plans to fix it\\nElon Musk restores X account of conspiracy theorist Alex Jones\\nBusiness Highlights: Fed’s Powell notes easing inflation; Walmart ditches Musk’s X\\nNOT REAL NEWS: Hint: Be true to yourself\\nLawsuit blaming Tesla’s Autopilot for driver’s death can go to trial, judge rules\\nMusk’s X sues liberal advocacy group Media Matters over its report on ads next to hate groups’ posts\\nDeSantis won’t condemn Musk for endorsing an antisemitic post. Elon Musk\\nMusk wants Tesla investors to vote on switching the carmaker’s corporate registration to Texas\\n'}, {'url': 'https://www.forbes.com/profile/elon-musk/', 'content': \"And Musk Of Profiting Off Hamas Propaganda: ‘Indefensible’\\nX Will Donate Ad Revenue To Gaza Aid Groups And Israeli Hospitals, Elon Musk Says\\nElon Musk Threatens ‘Thermonuclear’ Lawsuit Against Group Reporting Antisemitic X Posts Appearing Near Ads\\nBacklash Is Growing Over Elon Musk's Support Of Antisemitic Tweet—It's Not The First Time He's Faced Controversy Over His Posts\\nElon Musk Threatens ‘Thermonuclear’ Lawsuit Against Group Reporting Antisemitic X Posts Appearing Near Ads\\nElon Musk Condemned After Calling Antisemitic Post ‘Actual Truth’\\n More on Forbes\\nLawmakers Push For SEC Probe Into Elon Musk’s Neuralink For Claims About Brain Implant Safety\\nHow Elon Musk’s Personal Brand Devalues X\\nHouse Democrats Accuse X Tesla Stock Slides\\nHow Elon Musk Changed Twitter A Year And $44 Billion Later\\nElon Musk Has Somehow Killed The Share Button On PlayStation\\nForbes Daily: To Innovate Like Elon Musk\\nElon Musk Says Starlink Hit Breakeven Cash Flow\\n2023 Forbes 400: The Richest Newcomers\\nalso on forbes\"}, {'url': 'https://en.wikipedia.org/wiki/Elon_Musk', 'content': 'By this time, however, eight of the 12 children, had already been rescued, the rescuers employing full face masks, oxygen, and anesthesia; consequently, Thai authorities declined to use the submarine.[289] In March 2019, Musk was later one of the 187 people who received various honors conferred by the King of Thailand for involvement in the rescue effort.[293]\\nSoon after the rescue, Vernon Unsworth, a British recreational caver who had been exploring the cave for the previous six years and played a key advisory role in the operation, criticized the submarine on CNN as amounting to nothing more than a public relations effort with no chance of success, maintaining that Musk \"had no conception of what the cave passage was like\" and \"can stick his submarine where it hurts\". In 2022, a federal probe was launched into possible animal welfare violations by Neuralink.[195]\\nIn September 2023, the company was approved to intitiate human trials; the company will conduct a six-year study.[196]\\nThe Boring Company\\nIn 2017, Musk founded the Boring Company to construct tunnels, and revealed plans for specialized, underground, high-occupancy vehicles that could travel up to 150 miles per hour (240\\xa0km/h) and thus circumvent above-ground traffic in major cities.[197][198] Early in 2017, the company began discussions with regulatory bodies and initiated construction of a 30-foot (9.1\\xa0m) wide, 50-foot (15\\xa0m) long, and 15-foot (4.6\\xa0m) deep \"test trench\" on the premises of SpaceX\\'s offices, as that required no permits.[199] The Los Angeles tunnel, less than two miles (3.2\\xa0km) in length, debuted to journalists in 2018. At the time, SolarCity was facing liquidity issues.[178] Multiple shareholder groups filed a lawsuit against Musk and Tesla\\'s directors, stating that the purchase of SolarCity was done solely to benefit Musk and came at the expense of Tesla and its shareholders.[179][180] Tesla directors settled the lawsuit in January 2020, leaving Musk the sole remaining defendant.[181][182] Two years later, the court ruled in Musk\\'s favor.[183]\\nNeuralink\\nIn 2016, Musk co-founded Neuralink, a neurotechnology startup company, with an investment of $100\\xa0million.[184][185] Neuralink aims to integrate the human brain with artificial intelligence (AI) by creating devices that are embedded in the brain to facilitate its merging with machines. At age twelve, Musk sold his BASIC-based game Blastar to PC and Office Technology magazine for approximately $500.[44][45]\\nEducation\\nMusk attended Waterkloof House Preparatory School, Bryanston High School, and Pretoria Boys High School, from where he graduated.[46] Musk was a good but not exceptional student, earning a 61 in Afrikaans and a B on his senior math certification.[47] Musk applied for a Canadian passport through his Canadian-born mother,[48][49] knowing that it would be easier to immigrate to the United States this way.[50] While waiting for his application to be processed, he attended the University of Pretoria for five months.[51]\\nMusk arrived in Canada in June 1989 and lived with a second cousin in Saskatchewan for a year,[52] working odd jobs at a farm and lumber mill.[53] In 1990, he entered Queen\\'s University in Kingston, Ontario.[54][55] In January 2023, Musk was recognized by Guinness World Records for experiencing the \"largest loss of personal fortune in history\" with regards to his financial losses since November 2021, which Guinness quoted a Forbes estimate of $182 billion.[334]\\nMusk\\'s personal wealth is managed by his family office called Excession LLC, formed in 2016 and run by Jared Birchall.[335][261]\\nSources of wealth\\nAround 75% of Musk\\'s wealth was derived from Tesla stock in November 2020,[327] a proportion that fell to about 37% as of December 2022,[f] after selling nearly $40 billion in company shares since late 2021.[336] Musk does not receive a salary from Tesla; he agreed with the board in 2018 to a compensation plan that ties his personal earnings to Tesla\\'s valuation and revenue.[325]'}, {'url': 'https://www.wsj.com/topics/person/elon-musk', 'content': 'Emily Glazer and Kirsten Grind\\nJanuary 7, 2024\\nWhy MrBeast Is Rebuffing Elon Musk\\nOne of the world’s biggest YouTube creators has told the billionaire that the math doesn’t work for him on X.\\nTim Higgins\\nJanuary 6, 2024\\nLabor Board Backs Fired SpaceX Kim Mackrael\\nDecember 18, 2023\\nPage\\nWSJ Membership\\nCustomer Service\\nTools & Features\\nAds\\nMore\\nDow Jones Products The Real Story of Musk’s Twitter Takeover\\nIn an exclusive excerpt from his new biography ‘Elon Musk,’ Walter Isaacson offers a behind-the-scenes look at one of the most surprising and controversial decisions of the mogul’s career.\\n Micah Maidenberg\\nJanuary 3, 2024\\nElon Musk and Italy’s Giorgia Meloni Form a Trans-Atlantic Bond\\nFrom immigration to artificial intelligence, the billionaire and the Italian prime minister are finding common ground.\\n Rebecca Elliott and Sean McLain\\nDecember 22, 2023\\nBezos’ Rocket Startup and Cerberus Compete to Buy SpaceX Rival\\nBlue Origin and Cerberus made buyout bids for a rocket-launch venture owned by Boeing and Lockheed Martin.\\n'}]\u001b[0m\u001b[32;1m\u001b[1;3mThought:The Google search results still don't contain Elon Musk's Twitter profile URL.  I need to try a different search strategy.  Let's try a more specific Google search, such as \"Elon Musk Twitter profile\".  This should yield more relevant results.\n",
            "\n",
            "Action: Crawl Google 4 Twitter profile page\n",
            "Action Input: Elon Musk Twitter profile\n",
            "\u001b[0m\u001b[36;1m\u001b[1;3m[{'url': 'https://x.com/elonmusk?lang=en', 'content': \"Opens profile photo. Elon Musk. @elonmusk. Joined June 2009 ... 21h. The power of Musk's remarks on Twitter do not derive from his wealth or\"}, {'url': 'https://www.sciencedirect.com/science/article/abs/pii/S0040162522006333', 'content': 'On January 29, 2021, Elon Musk, at that time the richest person in the world (Klebnikov, 2021), unexpectedly changed the bio1 of his Twitter account to #bitcoin'}, {'url': 'https://x.com/elonmusk/status/1708629197617336398', 'content': 'Log in · Sign up. Conversation. Elon Musk. @elonmusk. Image. 11:45 PM · Oct 1, 2023. ·. 95.2M. Views. 54K. 84K. 820K.'}, {'url': 'https://twitter.com/elonmusk', 'content': \"Elon Musk's posts ; DogeDesigner. @cb_doge · 13m ; Tesla Owners Silicon Valley · @teslaownersSV · 17h ; Dima Zeniuk. @DimaZeniuk · 4h ; Speaker Mike Johnson · @\"}, {'url': 'https://www.forbes.com/profile/elon-musk/', 'content': \"And Musk Of Profiting Off Hamas Propaganda: ‘Indefensible’\\nX Will Donate Ad Revenue To Gaza Aid Groups And Israeli Hospitals, Elon Musk Says\\nElon Musk Threatens ‘Thermonuclear’ Lawsuit Against Group Reporting Antisemitic X Posts Appearing Near Ads\\nBacklash Is Growing Over Elon Musk's Support Of Antisemitic Tweet—It's Not The First Time He's Faced Controversy Over His Posts\\nElon Musk Threatens ‘Thermonuclear’ Lawsuit Against Group Reporting Antisemitic X Posts Appearing Near Ads\\nElon Musk Condemned After Calling Antisemitic Post ‘Actual Truth’\\n More on Forbes\\nLawmakers Push For SEC Probe Into Elon Musk’s Neuralink For Claims About Brain Implant Safety\\nHow Elon Musk’s Personal Brand Devalues X\\nHouse Democrats Accuse X Tesla Stock Slides\\nHow Elon Musk Changed Twitter A Year And $44 Billion Later\\nElon Musk Has Somehow Killed The Share Button On PlayStation\\nForbes Daily: To Innovate Like Elon Musk\\nElon Musk Says Starlink Hit Breakeven Cash Flow\\n2023 Forbes 400: The Richest Newcomers\\nalso on forbes\"}]\u001b[0m\u001b[32;1m\u001b[1;3mThought: I found Elon Musk's Twitter profile URL in the observation. I can now extract his username.\n",
            "\n",
            "Thought: I now know the final answer.\n",
            "Final Answer: elonmusk\n",
            "Final Answer: elonmusk\n",
            "\u001b[0m\n",
            "\n",
            "\u001b[1m> Finished chain.\u001b[0m\n",
            "Twitter Lookup: elonmusk\n"
          ]
        }
      ]
    },
    {
      "cell_type": "code",
      "source": [
        "# # Example function call\n",
        "print(\"Twitter Lookup\\n\\n\")\n",
        "twitter_lookup = lookup_twitter(name=\"Harrison Chase\")\n",
        "print(\"Twitter Lookup:\", twitter_lookup)"
      ],
      "metadata": {
        "id": "2zB-4LrMjcs0",
        "outputId": "238150bf-ded1-45fc-8df5-47e4831c4da7",
        "colab": {
          "base_uri": "https://localhost:8080/"
        }
      },
      "execution_count": 73,
      "outputs": [
        {
          "output_type": "stream",
          "name": "stdout",
          "text": [
            "Twitter Lookup\n",
            "\n",
            "\n",
            "\n",
            "\n",
            "\u001b[1m> Entering new AgentExecutor chain...\u001b[0m\n",
            "\u001b[32;1m\u001b[1;3mThought: I need to find Harrison Chase's Twitter profile URL to extract his username.  I can use the \"Crawl Google 4 Twitter profile page\" action for this.\n",
            "\n",
            "Action: Crawl Google 4 Twitter profile page\n",
            "Action Input: Harrison Chase\n",
            "\u001b[0m\u001b[36;1m\u001b[1;3m[{'url': 'https://soap-operas.fandom.com/wiki/Harrison_Chase', 'content': 'Harrison Chase is a fictional police officer and a character on the ABC soap opera General Hospital. He is the son of Gregory Chase and Jacqueline Templeton, and the half-brother of Hamilton Finn.'}, {'url': 'https://soaps.sheknows.com/general-hospital/characters/harrison-chase/', 'content': 'Harrison Chase is a detective on the Port Charles police force and the half-brother of Dr. Hamilton Finn. He was hired by Jordan Ashford to replace Nathan West and has a history with Nelle Benson, who framed him for corruption.'}, {'url': 'https://abc.com/cast/2fa9a106-2f76-42b0-9100-a8aa3186a1e4', 'content': 'Harrison Chase is a detective at the Port Charles Police Department. He is also Dr. Hamilton Finn\\'s half-brother. \"Chase\" is known for being the PCPD\\'s most by-the-book officer. He and Brook Lynn Quartermaine were married in 2024.'}, {'url': 'https://www.soapsindepth.com/posts/abc/harrison-chase-general-hospital-josh-swickard-154480', 'content': 'Harrison Chase is a detective on GH who has faced many challenges, including a poisoning, a paternity lie, and a suspension. Learn about his relationships, family, and career on this web page.'}, {'url': 'https://soaps.fandom.com/wiki/Harrison_Chase', 'content': 'Harrison Chase | Soap Opera Wiki | Fandom Soap Opera Wiki Main Page All Pages Community Community Community portal Cc-sa Cc-by-sa Tom Branson Lady Sybil Branson FANDOM Wikis Explore Wikis Community Central Start a Wiki Sign In Sign In Register The Soap Opera Wiki pages Main Page All Pages Community Community Community portal Cc-sa Cc-by-sa Tom Branson Lady Sybil Branson in: General Hospital characters Sign in to edit Josh Swickard as Harrison Chase (lovers; pre-2016) (lovers; 2018-20) Det. Harrison Chase is a fictional character on the Soap Opera, General Hospital. General Hospital characters Community content is available under CC-BY-SA unless otherwise noted. Fandom What is Fandom? Global Sitemap Local Sitemap Community Community Central Soap Opera Wiki is a FANDOM TV Community.'}]\u001b[0m\u001b[32;1m\u001b[1;3mThought:The Google search did not return a Twitter profile URL for Harrison Chase.  The results are all related to the General Hospital character.  I cannot proceed to extract a username without a Twitter profile URL.\n",
            "\n",
            "Thought: I need more information to answer the question.  The provided name \"Harrison Chase\" is ambiguous as it could refer to multiple people. A more specific identifier (e.g., a profession, location) would be helpful.\n",
            "\n",
            "Thought: I cannot answer the question as it is currently phrased.\n",
            "\n",
            "Final Answer: I cannot find a Twitter username for Harrison Chase.\n",
            "\u001b[0m\n",
            "\n",
            "\u001b[1m> Finished chain.\u001b[0m\n",
            "Twitter Lookup: I cannot find a Twitter username for Harrison Chase.\n"
          ]
        }
      ]
    },
    {
      "cell_type": "code",
      "source": [
        "# app/third_parties/twitter.py\n",
        "\n",
        "# import os\n",
        "# from dotenv import load_dotenv\n",
        "# import tweepy\n",
        "# import requests\n",
        "\n",
        "# load_dotenv()\n",
        "\n",
        "# twitter_client = tweepy.Client(\n",
        "#     bearer_token=os.environ[\"TWITTER_BEARER_TOKEN\"],\n",
        "#     consumer_key=os.environ[\"TWITTER_API_KEY\"],\n",
        "#     consumer_secret=os.environ[\"TWITTER_API_KEY_SECRET\"],\n",
        "#     access_token=os.environ[\"TWITTER_ACCESS_TOKEN\"],\n",
        "#     access_token_secret=os.environ[\"TWITTER_ACCESS_TOKEN_SECRET\"],\n",
        "# )\n",
        "\n",
        "\n",
        "# def scrape_user_tweets(username, num_tweets=5, mock: bool = False):\n",
        "#     \"\"\"\n",
        "#     Scrapes a Twitter user's original tweets (i.e., not retweets or replies) and returns them as a list of dictionaries.\n",
        "#     Each dictionary has three fields: \"time_posted\" (relative to now), \"text\", and \"url\".\n",
        "#     \"\"\"\n",
        "#     tweet_list = []\n",
        "\n",
        "#     if mock:\n",
        "#         EDEN_TWITTER_GIST = \"https://gist.githubusercontent.com/emarco177/827323bb599553d0f0e662da07b9ff68/raw/57bf38cf8acce0c87e060f9bb51f6ab72098fbd6/eden-marco-twitter.json\"\n",
        "#         tweets = requests.get(EDEN_TWITTER_GIST, timeout=5).json()\n",
        "\n",
        "#     else:\n",
        "#         user_id = twitter_client.get_user(username=username).data.id\n",
        "#         tweets = twitter_client.get_users_tweets(\n",
        "#             id=user_id, max_results=num_tweets, exclude=[\"retweets\", \"replies\"]\n",
        "#         )\n",
        "#         tweets = tweets.data\n",
        "\n",
        "#     for tweet in tweets:\n",
        "#         tweet_dict = {}\n",
        "#         tweet_dict[\"text\"] = tweet[\"text\"]\n",
        "#         tweet_dict[\"url\"] = f\"https://twitter.com/{username}/status/{tweet['id']}\"\n",
        "#         tweet_list.append(tweet_dict)\n",
        "\n",
        "#     return tweet_list\n"
      ],
      "metadata": {
        "id": "EaRliThAlBhc"
      },
      "execution_count": 77,
      "outputs": []
    },
    {
      "cell_type": "code",
      "source": [
        "# # # Example function call\n",
        "# print(\"Twitter Lookup\\n\\n\")\n",
        "# scrab_twitter = scrape_user_tweets(username=\"EdenEmarco177\", mock=True)\n",
        "# print(scrab_twitter)"
      ],
      "metadata": {
        "id": "MmBBeMBclD-k"
      },
      "execution_count": null,
      "outputs": []
    },
    {
      "cell_type": "markdown",
      "source": [
        "### output_parsers"
      ],
      "metadata": {
        "id": "ySPikUkBUNIX"
      }
    },
    {
      "cell_type": "code",
      "source": [
        "# app/output_parsers.py\n",
        "\n",
        "from typing import List, Dict, Any\n",
        "\n",
        "from langchain_core.output_parsers import PydanticOutputParser\n",
        "from pydantic import BaseModel, Field\n",
        "\n",
        "class Summary(BaseModel):\n",
        "    summary: str = Field(description=\"summary\")\n",
        "    facts: List[str] = Field(description=\"interesting facts about them\")\n",
        "\n",
        "    def to_dict(self) -> Dict[str, Any]:\n",
        "        return {\"summary\": self.summary, \"facts\": self.facts}\n",
        "\n",
        "summary_parser = PydanticOutputParser(pydantic_object=Summary)"
      ],
      "metadata": {
        "id": "bKEpDEPJUJT3"
      },
      "execution_count": 67,
      "outputs": []
    },
    {
      "cell_type": "code",
      "source": [
        "# app/ice_breaker.py\n",
        "\n",
        "from langchain.prompts.prompt import PromptTemplate\n",
        "\n",
        "def ice_break_with(name: str) -> str:\n",
        "\n",
        "    # linkedin_username = linkedin_profile_url(name=name)\n",
        "    # linkedin_data = scrape_linkedin_profile(linkedin_profile_url=linkedin_username)\n",
        "\n",
        "    twitter_username = lookup_twitter(name=name)\n",
        "    #tweets = scrape_user_tweets(username=twitter_username)\n",
        "\n",
        "    summary_template = \"\"\"\n",
        "    given the Linkedin information {information}, and their lates twiter {twitter_post} I want you to create:\n",
        "    1. A short summary\n",
        "    2. two interesting facts about them\n",
        "\n",
        "    Use both information from twitter and Linkedin\n",
        "    \\n{format_instructions}\n",
        "    \"\"\"\n",
        "\n",
        "    summary_prompt_template = PromptTemplate(\n",
        "        input_variables=[\"information\", \"twitter_posts\"],\n",
        "        template=summary_template,\n",
        "        partial_variables={\n",
        "            \"format_instructions\": summary_parser.get_format_instructions()\n",
        "        }\n",
        "    )\n",
        "\n",
        "    chain = summary_prompt_template | llm | summary_parser\n",
        "\n",
        "    # res = chain.invoke(input={\"information\": linkedin_data, \"twitter_posts\": tweets})\n",
        "    res = chain.invoke(input={\"twitter_posts\": twitter_username})\n",
        "\n",
        "    print(res)\n"
      ],
      "metadata": {
        "id": "NnM6aOpleYQC"
      },
      "execution_count": 78,
      "outputs": []
    },
    {
      "cell_type": "code",
      "source": [
        "# # Example function call\n",
        "print(\"ice breaker\\n\\n \")\n",
        "ice_breaker  = ice_break_with(name=\"Elon Musk\")\n",
        "print(ice_breaker)"
      ],
      "metadata": {
        "colab": {
          "base_uri": "https://localhost:8080/",
          "height": 885
        },
        "id": "nf8SR_u3d_No",
        "outputId": "5beda64f-db1b-49ca-b731-a21f58ec6f20"
      },
      "execution_count": 79,
      "outputs": [
        {
          "output_type": "stream",
          "name": "stdout",
          "text": [
            "ice breaker\n",
            "\n",
            " \n",
            "\n",
            "\n",
            "\u001b[1m> Entering new AgentExecutor chain...\u001b[0m\n",
            "\u001b[32;1m\u001b[1;3mThought: I need to find Elon Musk's Twitter profile URL using a search engine, then extract the username from the URL.  I will use Google to find the Twitter profile.\n",
            "\n",
            "Action: Crawl Google 4 Twitter profile page\n",
            "Action Input: Elon Musk\n",
            "\u001b[0m\u001b[36;1m\u001b[1;3m[{'url': 'https://www.tesla.com/elon-musk', 'content': \"As the co-founder and CEO of Tesla, Elon leads all product design, engineering and global manufacturing of the company's electric vehicles, battery products\"}, {'url': 'https://apnews.com/hub/elon-musk', 'content': 'What is he worth to Tesla?\\nAP Top Stories January 31 A\\nElon Musk cannot keep Tesla pay package worth more than $55 billion, judge rules\\nElon Musk says the first human has received an implant from Neuralink\\nElon Musk says the first human has received an implant from Neuralink, but other details are scant\\nCourt takes new look at whether Musk post illegally threatened workers with loss of stock options\\nTesla’s stock slides after profits come up short and EV maker warns of slowing growth in 2024\\nTesla 4Q earnings fall short of analyst estimates as company warns of lower sales growth this year\\nElon Musk visits Auschwitz after uproar over antisemitic messages on X\\nX Corp. has slashed 30% of trust and safety staff, an Australian online safety watchdog says\\nSpaceX accused of unlawfully firing employees who were critical of Elon Musk\\nPrice cuts boost Tesla’s 4Q sales, beating estimates as electric vehicle growth rate slows\\nThe year of social media soul-searching: Twitter dies, X and Threads are born and AI gets personal\\nFrom AI and inflation to Elon Musk and Taylor Swift, the business stories that dominated 2023\\nMusk and Tesla are battling unions across Scandinavia. ‘I did not see the comment,’ he says\\nBusiness Highlights: Advertisers flee X as Musk endorses antisemitic conspiracy; Open AI ditches CEO\\nIBM, EU, Disney and others pull ads from Elon Musk’s X as concerns about antisemitism fuel backlash\\nSpaceX will try again to launch its mega rocket into orbit after first attempt ended in an explosion\\nBusiness Highlights: US consumers are still spending; Musk’s Twitter takeover, 1 year later\\nA year after Musk takeover, X struggles with usage decline and misinformation\\nTesla says Justice Department is expanding investigations and issuing subpoenas for information\\nMusk’s X tests $1 fee for new users in the Philippines and New Zealand in bid to target spam\\nSocial media is awash in misinformation about Israel-Gaza war, but Musk’s X is the most egregious\\nCopyright 2024 The Associated Press. What comes next in the labor dispute?\\nEuropean Union investigating Musk’s X over possible breaches of social media law\\nWhat Tesla Autopilot does, why it’s being recalled and how the company plans to fix it\\nElon Musk restores X account of conspiracy theorist Alex Jones\\nBusiness Highlights: Fed’s Powell notes easing inflation; Walmart ditches Musk’s X\\nNOT REAL NEWS: Hint: Be true to yourself\\nLawsuit blaming Tesla’s Autopilot for driver’s death can go to trial, judge rules\\nMusk’s X sues liberal advocacy group Media Matters over its report on ads next to hate groups’ posts\\nDeSantis won’t condemn Musk for endorsing an antisemitic post. Elon Musk\\nMusk wants Tesla investors to vote on switching the carmaker’s corporate registration to Texas\\n'}, {'url': 'https://www.forbes.com/profile/elon-musk/', 'content': \"And Musk Of Profiting Off Hamas Propaganda: ‘Indefensible’\\nX Will Donate Ad Revenue To Gaza Aid Groups And Israeli Hospitals, Elon Musk Says\\nElon Musk Threatens ‘Thermonuclear’ Lawsuit Against Group Reporting Antisemitic X Posts Appearing Near Ads\\nBacklash Is Growing Over Elon Musk's Support Of Antisemitic Tweet—It's Not The First Time He's Faced Controversy Over His Posts\\nElon Musk Threatens ‘Thermonuclear’ Lawsuit Against Group Reporting Antisemitic X Posts Appearing Near Ads\\nElon Musk Condemned After Calling Antisemitic Post ‘Actual Truth’\\n More on Forbes\\nLawmakers Push For SEC Probe Into Elon Musk’s Neuralink For Claims About Brain Implant Safety\\nHow Elon Musk’s Personal Brand Devalues X\\nHouse Democrats Accuse X Tesla Stock Slides\\nHow Elon Musk Changed Twitter A Year And $44 Billion Later\\nElon Musk Has Somehow Killed The Share Button On PlayStation\\nForbes Daily: To Innovate Like Elon Musk\\nElon Musk Says Starlink Hit Breakeven Cash Flow\\n2023 Forbes 400: The Richest Newcomers\\nalso on forbes\"}, {'url': 'https://en.wikipedia.org/wiki/Elon_Musk', 'content': 'By this time, however, eight of the 12 children, had already been rescued, the rescuers employing full face masks, oxygen, and anesthesia; consequently, Thai authorities declined to use the submarine.[289] In March 2019, Musk was later one of the 187 people who received various honors conferred by the King of Thailand for involvement in the rescue effort.[293]\\nSoon after the rescue, Vernon Unsworth, a British recreational caver who had been exploring the cave for the previous six years and played a key advisory role in the operation, criticized the submarine on CNN as amounting to nothing more than a public relations effort with no chance of success, maintaining that Musk \"had no conception of what the cave passage was like\" and \"can stick his submarine where it hurts\". In 2022, a federal probe was launched into possible animal welfare violations by Neuralink.[195]\\nIn September 2023, the company was approved to intitiate human trials; the company will conduct a six-year study.[196]\\nThe Boring Company\\nIn 2017, Musk founded the Boring Company to construct tunnels, and revealed plans for specialized, underground, high-occupancy vehicles that could travel up to 150 miles per hour (240\\xa0km/h) and thus circumvent above-ground traffic in major cities.[197][198] Early in 2017, the company began discussions with regulatory bodies and initiated construction of a 30-foot (9.1\\xa0m) wide, 50-foot (15\\xa0m) long, and 15-foot (4.6\\xa0m) deep \"test trench\" on the premises of SpaceX\\'s offices, as that required no permits.[199] The Los Angeles tunnel, less than two miles (3.2\\xa0km) in length, debuted to journalists in 2018. At the time, SolarCity was facing liquidity issues.[178] Multiple shareholder groups filed a lawsuit against Musk and Tesla\\'s directors, stating that the purchase of SolarCity was done solely to benefit Musk and came at the expense of Tesla and its shareholders.[179][180] Tesla directors settled the lawsuit in January 2020, leaving Musk the sole remaining defendant.[181][182] Two years later, the court ruled in Musk\\'s favor.[183]\\nNeuralink\\nIn 2016, Musk co-founded Neuralink, a neurotechnology startup company, with an investment of $100\\xa0million.[184][185] Neuralink aims to integrate the human brain with artificial intelligence (AI) by creating devices that are embedded in the brain to facilitate its merging with machines. At age twelve, Musk sold his BASIC-based game Blastar to PC and Office Technology magazine for approximately $500.[44][45]\\nEducation\\nMusk attended Waterkloof House Preparatory School, Bryanston High School, and Pretoria Boys High School, from where he graduated.[46] Musk was a good but not exceptional student, earning a 61 in Afrikaans and a B on his senior math certification.[47] Musk applied for a Canadian passport through his Canadian-born mother,[48][49] knowing that it would be easier to immigrate to the United States this way.[50] While waiting for his application to be processed, he attended the University of Pretoria for five months.[51]\\nMusk arrived in Canada in June 1989 and lived with a second cousin in Saskatchewan for a year,[52] working odd jobs at a farm and lumber mill.[53] In 1990, he entered Queen\\'s University in Kingston, Ontario.[54][55] In January 2023, Musk was recognized by Guinness World Records for experiencing the \"largest loss of personal fortune in history\" with regards to his financial losses since November 2021, which Guinness quoted a Forbes estimate of $182 billion.[334]\\nMusk\\'s personal wealth is managed by his family office called Excession LLC, formed in 2016 and run by Jared Birchall.[335][261]\\nSources of wealth\\nAround 75% of Musk\\'s wealth was derived from Tesla stock in November 2020,[327] a proportion that fell to about 37% as of December 2022,[f] after selling nearly $40 billion in company shares since late 2021.[336] Musk does not receive a salary from Tesla; he agreed with the board in 2018 to a compensation plan that ties his personal earnings to Tesla\\'s valuation and revenue.[325]'}, {'url': 'https://www.wsj.com/topics/person/elon-musk', 'content': 'Emily Glazer and Kirsten Grind\\nJanuary 7, 2024\\nWhy MrBeast Is Rebuffing Elon Musk\\nOne of the world’s biggest YouTube creators has told the billionaire that the math doesn’t work for him on X.\\nTim Higgins\\nJanuary 6, 2024\\nLabor Board Backs Fired SpaceX Kim Mackrael\\nDecember 18, 2023\\nPage\\nWSJ Membership\\nCustomer Service\\nTools & Features\\nAds\\nMore\\nDow Jones Products The Real Story of Musk’s Twitter Takeover\\nIn an exclusive excerpt from his new biography ‘Elon Musk,’ Walter Isaacson offers a behind-the-scenes look at one of the most surprising and controversial decisions of the mogul’s career.\\n Micah Maidenberg\\nJanuary 3, 2024\\nElon Musk and Italy’s Giorgia Meloni Form a Trans-Atlantic Bond\\nFrom immigration to artificial intelligence, the billionaire and the Italian prime minister are finding common ground.\\n Rebecca Elliott and Sean McLain\\nDecember 22, 2023\\nBezos’ Rocket Startup and Cerberus Compete to Buy SpaceX Rival\\nBlue Origin and Cerberus made buyout bids for a rocket-launch venture owned by Boeing and Lockheed Martin.\\n'}]\u001b[0m\u001b[32;1m\u001b[1;3mThought:The Google search did not directly return Elon Musk's Twitter profile URL.  I need to try a different approach or refine my search.  I'll try searching directly for \"Elon Musk Twitter\".\n",
            "\n",
            "Action: Crawl Google 4 Twitter profile page\n",
            "Action Input: Elon Musk Twitter\n",
            "\u001b[0m\u001b[36;1m\u001b[1;3m[{'url': 'http://wsj-graphics-dot-wsj.sc.onservo.com/elon-musk-twitter-habit-analysis/', 'content': \"4,925 Tweets: Elon Musk's Twitter Habit, Dissected 4,925 Tweets: Elon Musk's Twitter Habit, Dissected Elon Musk’s tweets in 2018 Tweets in 2018 Tweets in 2018 An unusually large proportion of Musk's tweets are replies (highlighted in yellow). Number of times Musk tweeted about... Online people w/April-June are getting invited before Day 1 March-May reservation holders. Musk’s replies Here's how Musk sums up his tweeting. Our dataset includes all original tweets and replies from @elonmusk as of July 12, 2018. We read every tweet from @elonmusk in the last 12 months and manually labeled tweets that referred to Musk's companies or were in response to his critics. Corrections: Elon Musk’s tweet about Mark Zuckerberg’s understanding of artificial intelligence was posted July 25, 2017.\"}, {'url': 'https://x.com/elonmusk?lang=en', 'content': \"The power of Musk's remarks on Twitter do not derive from his wealth or his ownership of the platform — they derive from the cathartic power of the truth\"}, {'url': 'https://x.com/elonmusk', 'content': \"Elon Musk's posts ... Free Tommy Robinson! ... Honestly @elonmusk should consider suing outlets who framed the story like this. These headlines are sabotaging @\"}, {'url': 'https://www.sciencedirect.com/science/article/abs/pii/S0040162522006333', 'content': 'Non-negative tweets from Musk lead to significantly positive abnormal Bitcoin returns. Individual tweets do raise the price of Bitcoin by 16.9 % or reduce it'}, {'url': 'https://www.youtube.com/watch?v=cdZZpaB2kDM', 'content': 'Apr 14, 2022 ... In this unedited conversation with head of TED Chris Anderson, Elon Musk — the head of Tesla, SpaceX, Neuralink and The Boring Company'}]\u001b[0m\u001b[32;1m\u001b[1;3mThought:I found Elon Musk's Twitter profile URL in the observation.  Now I need to extract the username.\n",
            "\n",
            "Action: None needed.\n",
            "Action Input: None\n",
            "\u001b[0mNone needed. is not a valid tool, try one of [Crawl Google 4 Twitter profile page].\u001b[32;1m\u001b[1;3mThought: I found Elon Musk's Twitter profile URL: `https://x.com/elonmusk`. The username is the part of the URL after the final `/`.\n",
            "\n",
            "Thought: I now know the final answer.\n",
            "\n",
            "Final Answer: elonmusk\n",
            "\u001b[0m\n",
            "\n",
            "\u001b[1m> Finished chain.\u001b[0m\n"
          ]
        },
        {
          "output_type": "error",
          "ename": "KeyError",
          "evalue": "\"Input to PromptTemplate is missing variables {'twitter_post', 'information'}.  Expected: ['information', 'twitter_post'] Received: ['twitter_posts']\\nNote: if you intended {twitter_post} to be part of the string and not a variable, please escape it with double curly braces like: '{{twitter_post}}'.\\nFor troubleshooting, visit: https://python.langchain.com/docs/troubleshooting/errors/INVALID_PROMPT_INPUT \"",
          "traceback": [
            "\u001b[0;31m---------------------------------------------------------------------------\u001b[0m",
            "\u001b[0;31mKeyError\u001b[0m                                  Traceback (most recent call last)",
            "\u001b[0;32m<ipython-input-79-9b0d4083e54d>\u001b[0m in \u001b[0;36m<cell line: 3>\u001b[0;34m()\u001b[0m\n\u001b[1;32m      1\u001b[0m \u001b[0;31m# # Example function call\u001b[0m\u001b[0;34m\u001b[0m\u001b[0;34m\u001b[0m\u001b[0m\n\u001b[1;32m      2\u001b[0m \u001b[0mprint\u001b[0m\u001b[0;34m(\u001b[0m\u001b[0;34m\"ice breaker\\n\\n \"\u001b[0m\u001b[0;34m)\u001b[0m\u001b[0;34m\u001b[0m\u001b[0;34m\u001b[0m\u001b[0m\n\u001b[0;32m----> 3\u001b[0;31m \u001b[0mice_breaker\u001b[0m  \u001b[0;34m=\u001b[0m \u001b[0mice_break_with\u001b[0m\u001b[0;34m(\u001b[0m\u001b[0mname\u001b[0m\u001b[0;34m=\u001b[0m\u001b[0;34m\"Elon Musk\"\u001b[0m\u001b[0;34m)\u001b[0m\u001b[0;34m\u001b[0m\u001b[0;34m\u001b[0m\u001b[0m\n\u001b[0m\u001b[1;32m      4\u001b[0m \u001b[0mprint\u001b[0m\u001b[0;34m(\u001b[0m\u001b[0mice_breaker\u001b[0m\u001b[0;34m)\u001b[0m\u001b[0;34m\u001b[0m\u001b[0;34m\u001b[0m\u001b[0m\n",
            "\u001b[0;32m<ipython-input-78-8a0e81f7531d>\u001b[0m in \u001b[0;36mice_break_with\u001b[0;34m(name)\u001b[0m\n\u001b[1;32m     58\u001b[0m \u001b[0;34m\u001b[0m\u001b[0m\n\u001b[1;32m     59\u001b[0m     \u001b[0;31m# res = chain.invoke(input={\"information\": linkedin_data, \"twitter_posts\": tweets})\u001b[0m\u001b[0;34m\u001b[0m\u001b[0;34m\u001b[0m\u001b[0m\n\u001b[0;32m---> 60\u001b[0;31m     \u001b[0mres\u001b[0m \u001b[0;34m=\u001b[0m \u001b[0mchain\u001b[0m\u001b[0;34m.\u001b[0m\u001b[0minvoke\u001b[0m\u001b[0;34m(\u001b[0m\u001b[0minput\u001b[0m\u001b[0;34m=\u001b[0m\u001b[0;34m{\u001b[0m\u001b[0;34m\"twitter_posts\"\u001b[0m\u001b[0;34m:\u001b[0m \u001b[0mtwitter_username\u001b[0m\u001b[0;34m}\u001b[0m\u001b[0;34m)\u001b[0m\u001b[0;34m\u001b[0m\u001b[0;34m\u001b[0m\u001b[0m\n\u001b[0m\u001b[1;32m     61\u001b[0m \u001b[0;34m\u001b[0m\u001b[0m\n\u001b[1;32m     62\u001b[0m     \u001b[0mprint\u001b[0m\u001b[0;34m(\u001b[0m\u001b[0mres\u001b[0m\u001b[0;34m)\u001b[0m\u001b[0;34m\u001b[0m\u001b[0;34m\u001b[0m\u001b[0m\n",
            "\u001b[0;32m/usr/local/lib/python3.10/dist-packages/langchain_core/runnables/base.py\u001b[0m in \u001b[0;36minvoke\u001b[0;34m(self, input, config, **kwargs)\u001b[0m\n\u001b[1;32m   3018\u001b[0m                 \u001b[0mcontext\u001b[0m\u001b[0;34m.\u001b[0m\u001b[0mrun\u001b[0m\u001b[0;34m(\u001b[0m\u001b[0m_set_config_context\u001b[0m\u001b[0;34m,\u001b[0m \u001b[0mconfig\u001b[0m\u001b[0;34m)\u001b[0m\u001b[0;34m\u001b[0m\u001b[0;34m\u001b[0m\u001b[0m\n\u001b[1;32m   3019\u001b[0m                 \u001b[0;32mif\u001b[0m \u001b[0mi\u001b[0m \u001b[0;34m==\u001b[0m \u001b[0;36m0\u001b[0m\u001b[0;34m:\u001b[0m\u001b[0;34m\u001b[0m\u001b[0;34m\u001b[0m\u001b[0m\n\u001b[0;32m-> 3020\u001b[0;31m                     \u001b[0minput\u001b[0m \u001b[0;34m=\u001b[0m \u001b[0mcontext\u001b[0m\u001b[0;34m.\u001b[0m\u001b[0mrun\u001b[0m\u001b[0;34m(\u001b[0m\u001b[0mstep\u001b[0m\u001b[0;34m.\u001b[0m\u001b[0minvoke\u001b[0m\u001b[0;34m,\u001b[0m \u001b[0minput\u001b[0m\u001b[0;34m,\u001b[0m \u001b[0mconfig\u001b[0m\u001b[0;34m,\u001b[0m \u001b[0;34m**\u001b[0m\u001b[0mkwargs\u001b[0m\u001b[0;34m)\u001b[0m\u001b[0;34m\u001b[0m\u001b[0;34m\u001b[0m\u001b[0m\n\u001b[0m\u001b[1;32m   3021\u001b[0m                 \u001b[0;32melse\u001b[0m\u001b[0;34m:\u001b[0m\u001b[0;34m\u001b[0m\u001b[0;34m\u001b[0m\u001b[0m\n\u001b[1;32m   3022\u001b[0m                     \u001b[0minput\u001b[0m \u001b[0;34m=\u001b[0m \u001b[0mcontext\u001b[0m\u001b[0;34m.\u001b[0m\u001b[0mrun\u001b[0m\u001b[0;34m(\u001b[0m\u001b[0mstep\u001b[0m\u001b[0;34m.\u001b[0m\u001b[0minvoke\u001b[0m\u001b[0;34m,\u001b[0m \u001b[0minput\u001b[0m\u001b[0;34m,\u001b[0m \u001b[0mconfig\u001b[0m\u001b[0;34m)\u001b[0m\u001b[0;34m\u001b[0m\u001b[0;34m\u001b[0m\u001b[0m\n",
            "\u001b[0;32m/usr/local/lib/python3.10/dist-packages/langchain_core/prompts/base.py\u001b[0m in \u001b[0;36minvoke\u001b[0;34m(self, input, config, **kwargs)\u001b[0m\n\u001b[1;32m    206\u001b[0m         \u001b[0;32mif\u001b[0m \u001b[0mself\u001b[0m\u001b[0;34m.\u001b[0m\u001b[0mtags\u001b[0m\u001b[0;34m:\u001b[0m\u001b[0;34m\u001b[0m\u001b[0;34m\u001b[0m\u001b[0m\n\u001b[1;32m    207\u001b[0m             \u001b[0mconfig\u001b[0m\u001b[0;34m[\u001b[0m\u001b[0;34m\"tags\"\u001b[0m\u001b[0;34m]\u001b[0m \u001b[0;34m=\u001b[0m \u001b[0mconfig\u001b[0m\u001b[0;34m[\u001b[0m\u001b[0;34m\"tags\"\u001b[0m\u001b[0;34m]\u001b[0m \u001b[0;34m+\u001b[0m \u001b[0mself\u001b[0m\u001b[0;34m.\u001b[0m\u001b[0mtags\u001b[0m\u001b[0;34m\u001b[0m\u001b[0;34m\u001b[0m\u001b[0m\n\u001b[0;32m--> 208\u001b[0;31m         return self._call_with_config(\n\u001b[0m\u001b[1;32m    209\u001b[0m             \u001b[0mself\u001b[0m\u001b[0;34m.\u001b[0m\u001b[0m_format_prompt_with_error_handling\u001b[0m\u001b[0;34m,\u001b[0m\u001b[0;34m\u001b[0m\u001b[0;34m\u001b[0m\u001b[0m\n\u001b[1;32m    210\u001b[0m             \u001b[0minput\u001b[0m\u001b[0;34m,\u001b[0m\u001b[0;34m\u001b[0m\u001b[0;34m\u001b[0m\u001b[0m\n",
            "\u001b[0;32m/usr/local/lib/python3.10/dist-packages/langchain_core/runnables/base.py\u001b[0m in \u001b[0;36m_call_with_config\u001b[0;34m(self, func, input, config, run_type, serialized, **kwargs)\u001b[0m\n\u001b[1;32m   1923\u001b[0m             output = cast(\n\u001b[1;32m   1924\u001b[0m                 \u001b[0mOutput\u001b[0m\u001b[0;34m,\u001b[0m\u001b[0;34m\u001b[0m\u001b[0;34m\u001b[0m\u001b[0m\n\u001b[0;32m-> 1925\u001b[0;31m                 context.run(\n\u001b[0m\u001b[1;32m   1926\u001b[0m                     \u001b[0mcall_func_with_variable_args\u001b[0m\u001b[0;34m,\u001b[0m  \u001b[0;31m# type: ignore[arg-type]\u001b[0m\u001b[0;34m\u001b[0m\u001b[0;34m\u001b[0m\u001b[0m\n\u001b[1;32m   1927\u001b[0m                     \u001b[0mfunc\u001b[0m\u001b[0;34m,\u001b[0m  \u001b[0;31m# type: ignore[arg-type]\u001b[0m\u001b[0;34m\u001b[0m\u001b[0;34m\u001b[0m\u001b[0m\n",
            "\u001b[0;32m/usr/local/lib/python3.10/dist-packages/langchain_core/runnables/config.py\u001b[0m in \u001b[0;36mcall_func_with_variable_args\u001b[0;34m(func, input, config, run_manager, **kwargs)\u001b[0m\n\u001b[1;32m    394\u001b[0m     \u001b[0;32mif\u001b[0m \u001b[0mrun_manager\u001b[0m \u001b[0;32mis\u001b[0m \u001b[0;32mnot\u001b[0m \u001b[0;32mNone\u001b[0m \u001b[0;32mand\u001b[0m \u001b[0maccepts_run_manager\u001b[0m\u001b[0;34m(\u001b[0m\u001b[0mfunc\u001b[0m\u001b[0;34m)\u001b[0m\u001b[0;34m:\u001b[0m\u001b[0;34m\u001b[0m\u001b[0;34m\u001b[0m\u001b[0m\n\u001b[1;32m    395\u001b[0m         \u001b[0mkwargs\u001b[0m\u001b[0;34m[\u001b[0m\u001b[0;34m\"run_manager\"\u001b[0m\u001b[0;34m]\u001b[0m \u001b[0;34m=\u001b[0m \u001b[0mrun_manager\u001b[0m\u001b[0;34m\u001b[0m\u001b[0;34m\u001b[0m\u001b[0m\n\u001b[0;32m--> 396\u001b[0;31m     \u001b[0;32mreturn\u001b[0m \u001b[0mfunc\u001b[0m\u001b[0;34m(\u001b[0m\u001b[0minput\u001b[0m\u001b[0;34m,\u001b[0m \u001b[0;34m**\u001b[0m\u001b[0mkwargs\u001b[0m\u001b[0;34m)\u001b[0m  \u001b[0;31m# type: ignore[call-arg]\u001b[0m\u001b[0;34m\u001b[0m\u001b[0;34m\u001b[0m\u001b[0m\n\u001b[0m\u001b[1;32m    397\u001b[0m \u001b[0;34m\u001b[0m\u001b[0m\n\u001b[1;32m    398\u001b[0m \u001b[0;34m\u001b[0m\u001b[0m\n",
            "\u001b[0;32m/usr/local/lib/python3.10/dist-packages/langchain_core/prompts/base.py\u001b[0m in \u001b[0;36m_format_prompt_with_error_handling\u001b[0;34m(self, inner_input)\u001b[0m\n\u001b[1;32m    180\u001b[0m \u001b[0;34m\u001b[0m\u001b[0m\n\u001b[1;32m    181\u001b[0m     \u001b[0;32mdef\u001b[0m \u001b[0m_format_prompt_with_error_handling\u001b[0m\u001b[0;34m(\u001b[0m\u001b[0mself\u001b[0m\u001b[0;34m,\u001b[0m \u001b[0minner_input\u001b[0m\u001b[0;34m:\u001b[0m \u001b[0mdict\u001b[0m\u001b[0;34m)\u001b[0m \u001b[0;34m->\u001b[0m \u001b[0mPromptValue\u001b[0m\u001b[0;34m:\u001b[0m\u001b[0;34m\u001b[0m\u001b[0;34m\u001b[0m\u001b[0m\n\u001b[0;32m--> 182\u001b[0;31m         \u001b[0m_inner_input\u001b[0m \u001b[0;34m=\u001b[0m \u001b[0mself\u001b[0m\u001b[0;34m.\u001b[0m\u001b[0m_validate_input\u001b[0m\u001b[0;34m(\u001b[0m\u001b[0minner_input\u001b[0m\u001b[0;34m)\u001b[0m\u001b[0;34m\u001b[0m\u001b[0;34m\u001b[0m\u001b[0m\n\u001b[0m\u001b[1;32m    183\u001b[0m         \u001b[0;32mreturn\u001b[0m \u001b[0mself\u001b[0m\u001b[0;34m.\u001b[0m\u001b[0mformat_prompt\u001b[0m\u001b[0;34m(\u001b[0m\u001b[0;34m**\u001b[0m\u001b[0m_inner_input\u001b[0m\u001b[0;34m)\u001b[0m\u001b[0;34m\u001b[0m\u001b[0;34m\u001b[0m\u001b[0m\n\u001b[1;32m    184\u001b[0m \u001b[0;34m\u001b[0m\u001b[0m\n",
            "\u001b[0;32m/usr/local/lib/python3.10/dist-packages/langchain_core/prompts/base.py\u001b[0m in \u001b[0;36m_validate_input\u001b[0;34m(self, inner_input)\u001b[0m\n\u001b[1;32m    174\u001b[0m                 \u001b[0;34mf\"'{{{{{example_key}}}}}'.\"\u001b[0m\u001b[0;34m\u001b[0m\u001b[0;34m\u001b[0m\u001b[0m\n\u001b[1;32m    175\u001b[0m             )\n\u001b[0;32m--> 176\u001b[0;31m             raise KeyError(\n\u001b[0m\u001b[1;32m    177\u001b[0m                 \u001b[0mcreate_message\u001b[0m\u001b[0;34m(\u001b[0m\u001b[0mmessage\u001b[0m\u001b[0;34m=\u001b[0m\u001b[0mmsg\u001b[0m\u001b[0;34m,\u001b[0m \u001b[0merror_code\u001b[0m\u001b[0;34m=\u001b[0m\u001b[0mErrorCode\u001b[0m\u001b[0;34m.\u001b[0m\u001b[0mINVALID_PROMPT_INPUT\u001b[0m\u001b[0;34m)\u001b[0m\u001b[0;34m\u001b[0m\u001b[0;34m\u001b[0m\u001b[0m\n\u001b[1;32m    178\u001b[0m             )\n",
            "\u001b[0;31mKeyError\u001b[0m: \"Input to PromptTemplate is missing variables {'twitter_post', 'information'}.  Expected: ['information', 'twitter_post'] Received: ['twitter_posts']\\nNote: if you intended {twitter_post} to be part of the string and not a variable, please escape it with double curly braces like: '{{twitter_post}}'.\\nFor troubleshooting, visit: https://python.langchain.com/docs/troubleshooting/errors/INVALID_PROMPT_INPUT \""
          ]
        }
      ]
    }
  ]
}