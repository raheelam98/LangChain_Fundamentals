{
  "nbformat": 4,
  "nbformat_minor": 0,
  "metadata": {
    "colab": {
      "provenance": [],
      "name": "part6_output_parser.ipynb",
      "authorship_tag": "ABX9TyNsJxIxxK7K/iiLz9w6TWCv",
      "include_colab_link": true
    },
    "kernelspec": {
      "name": "python3",
      "display_name": "Python 3"
    },
    "language_info": {
      "name": "python"
    }
  },
  "cells": [
    {
      "cell_type": "markdown",
      "metadata": {
        "id": "view-in-github",
        "colab_type": "text"
      },
      "source": [
        "<a href=\"https://colab.research.google.com/github/raheelam98/LangChain_Fundamentals/blob/main/langchain_course_jupyter/section_3_data_processing/part6_output_parser.ipynb\" target=\"_parent\"><img src=\"https://colab.research.google.com/assets/colab-badge.svg\" alt=\"Open In Colab\"/></a>"
      ]
    },
    {
      "cell_type": "markdown",
      "source": [
        "**Output Parser**"
      ],
      "metadata": {
        "id": "aF3WrT5qFI0n"
      }
    },
    {
      "cell_type": "markdown",
      "source": [
        "[Pydantic parser](https://python.langchain.com/v0.1/docs/modules/model_io/output_parsers/types/pydantic/)"
      ],
      "metadata": {
        "id": "uC6r-eP8gHsw"
      }
    },
    {
      "cell_type": "code",
      "execution_count": 28,
      "metadata": {
        "id": "7O_IvRxOE36h"
      },
      "outputs": [],
      "source": [
        "# Install the required packages:\n",
        "%%capture --no-stderr\n",
        "%pip install -U  langsmith # check\n",
        "%pip install --quiet -U  langchain_google_genai langchain_core langchain langgraph   python-dotenv langsmith"
      ]
    },
    {
      "cell_type": "code",
      "source": [
        "%%capture --no-stderr\n",
        "%pip install ChatGoogleGenerativeAI"
      ],
      "metadata": {
        "id": "ESSHIDXjZ7Yr"
      },
      "execution_count": 29,
      "outputs": []
    },
    {
      "cell_type": "code",
      "source": [
        "# packages\n",
        "%%capture --no-stderr\n",
        "%pip install -U tavily-python langchain_community"
      ],
      "metadata": {
        "id": "cb_K9Lcv0msD"
      },
      "execution_count": 30,
      "outputs": []
    },
    {
      "cell_type": "code",
      "source": [
        "import os\n",
        "from google.colab import userdata\n",
        "\n",
        "os.environ[\"LANGCHAIN_API_KEY\"] = userdata.get('LANGCHAIN_API_KEY')\n",
        "\n",
        "os.environ[\"LANGCHAIN_TRACING_V2\"] = \"true\"\n",
        "os.environ[\"LANGCHAIN_PROJECT\"] = \"ice_breaker\""
      ],
      "metadata": {
        "id": "JZnDXLEtHPD_"
      },
      "execution_count": 31,
      "outputs": []
    },
    {
      "cell_type": "code",
      "source": [
        "# API Keys\n",
        "# Get the GEMINI API key from user data\n",
        "from google.colab import userdata\n",
        "gemini_api_key = userdata.get('GEMINI_API_KEY')"
      ],
      "metadata": {
        "id": "OFHJsnbYHXt8"
      },
      "execution_count": 44,
      "outputs": []
    },
    {
      "cell_type": "code",
      "source": [
        "# from langchain_google_genai import ChatGoogleGenerativeAI\n",
        "\n",
        "# llm: ChatGoogleGenerativeAI = ChatGoogleGenerativeAI(model=\"gemini-1.5-flash\", api_key=gemini_api_key, temperature=0)"
      ],
      "metadata": {
        "id": "Rah7gCH6HYv7"
      },
      "execution_count": null,
      "outputs": []
    },
    {
      "cell_type": "code",
      "source": [
        "# llm\n",
        "from langchain_google_genai import ChatGoogleGenerativeAI\n",
        "\n",
        "llm = ChatGoogleGenerativeAI(\n",
        "    model=\"gemini-1.5-flash\",\n",
        "    max_retries=2,\n",
        "    api_key=gemini_api_key\n",
        ")"
      ],
      "metadata": {
        "id": "-JxLuLOxTUtv"
      },
      "execution_count": 45,
      "outputs": []
    },
    {
      "cell_type": "code",
      "source": [
        "llm.invoke(\"hi\")"
      ],
      "metadata": {
        "colab": {
          "base_uri": "https://localhost:8080/"
        },
        "id": "ZwNUiQdPTY4h",
        "outputId": "05781868-33af-467e-8770-0839376e448c"
      },
      "execution_count": 34,
      "outputs": [
        {
          "output_type": "execute_result",
          "data": {
            "text/plain": [
              "AIMessage(content='Hi there! How can I help you today?\\n', additional_kwargs={}, response_metadata={'prompt_feedback': {'block_reason': 0, 'safety_ratings': []}, 'finish_reason': 'STOP', 'safety_ratings': []}, id='run-61029d36-b3c9-41f1-8481-34d08118e012-0', usage_metadata={'input_tokens': 2, 'output_tokens': 11, 'total_tokens': 13, 'input_token_details': {'cache_read': 0}})"
            ]
          },
          "metadata": {},
          "execution_count": 34
        }
      ]
    },
    {
      "cell_type": "code",
      "source": [
        "# # Restart Runtime and Re-authenticate\n",
        "# from google.colab import auth\n",
        "# auth.authenticate_user()\n"
      ],
      "metadata": {
        "id": "89cFZYaMSZAo"
      },
      "execution_count": null,
      "outputs": []
    },
    {
      "cell_type": "code",
      "source": [
        "result = llm.invoke(\"hello\")\n",
        "print(result)"
      ],
      "metadata": {
        "colab": {
          "base_uri": "https://localhost:8080/"
        },
        "id": "fviqHSlWTMtT",
        "outputId": "170c65b6-fa0f-4265-b9c5-45d20c1817a2"
      },
      "execution_count": 35,
      "outputs": [
        {
          "output_type": "stream",
          "name": "stdout",
          "text": [
            "content='Hello there! How can I help you today?\\n' additional_kwargs={} response_metadata={'prompt_feedback': {'block_reason': 0, 'safety_ratings': []}, 'finish_reason': 'STOP', 'safety_ratings': []} id='run-cbf7369c-2557-4fe2-8ee4-7756c5af04f2-0' usage_metadata={'input_tokens': 2, 'output_tokens': 11, 'total_tokens': 13, 'input_token_details': {'cache_read': 0}}\n"
          ]
        }
      ]
    },
    {
      "cell_type": "code",
      "source": [
        "# from langchain_google_genai import ChatGoogleGenerativeAI\n",
        "# model: ChatGoogleGenerativeAI = ChatGoogleGenerativeAI(model = \"gemini-1.5-flash\")\n",
        "# model.invoke(\"hi\")"
      ],
      "metadata": {
        "id": "Zmf65ZqKT3R-"
      },
      "execution_count": null,
      "outputs": []
    },
    {
      "cell_type": "markdown",
      "source": [
        "[Tavily Search](https://python.langchain.com/docs/integrations/tools/tavily_search/)\n",
        "\n",
        "[TAVILY_API_KEY](https://tavily.com/)\n"
      ],
      "metadata": {
        "id": "InWKmvk20nJu"
      }
    },
    {
      "cell_type": "code",
      "source": [
        "# API keys set up\n",
        "os.environ[\"TAVILY_API_KEY\"] = userdata.get(\"TAVILY_API_KEY\")"
      ],
      "metadata": {
        "id": "yZ3az20o11Ua"
      },
      "execution_count": 46,
      "outputs": []
    },
    {
      "cell_type": "markdown",
      "source": [
        "[hwchase17/react](https://smith.langchain.com/hub/hwchase17/react)\n",
        "\n"
      ],
      "metadata": {
        "id": "GUKqAi89PgHH"
      }
    },
    {
      "cell_type": "markdown",
      "source": [
        "**Create React Agent**"
      ],
      "metadata": {
        "id": "PDheCmaOuoB6"
      }
    },
    {
      "cell_type": "code",
      "source": [
        "# app/tools/tools.py\n",
        "from langchain_community.tools.tavily_search import TavilySearchResults\n",
        "\n",
        "\n",
        "def get_profile_url_tavily(name: str):\n",
        "    \"\"\"Searches for Linkedin or Twitter Profile Page.\"\"\"\n",
        "    search = TavilySearchResults()\n",
        "    res = search.run(f\"{name}\")\n",
        "    return res"
      ],
      "metadata": {
        "id": "Nde_6PrmxMR2"
      },
      "execution_count": 48,
      "outputs": []
    },
    {
      "cell_type": "code",
      "source": [
        "# app/agents/linkedin_lookup_agent.py\n",
        "\n",
        "from langchain_core.prompts import PromptTemplate\n",
        "from langchain_core.tools import Tool\n",
        "\n",
        "from langchain.agents import (create_react_agent, AgentExecutor)\n",
        "from langchain import hub\n",
        "# from app.tools.tool import get_profile_url_tavily\n",
        "\n",
        "# from langchain_community.tools.tavily_search import TavilySearchResults\n",
        "\n",
        "# from dotenv import load_dotenv\n",
        "# from langchain_google_genai import ChatGoogleGenerativeAI\n",
        "# from pydantic import  SecretStr\n",
        "# import os\n",
        "\n",
        "# load_dotenv()\n",
        "\n",
        "# gemini_api_key = SecretStr(os.environ[\"GEMINI_API_KEY\"])\n",
        "\n",
        "# if not gemini_api_key:\n",
        "#     raise ValueError(\"GEMINI_API_KEY is not set. Please provide the API key in your environment.\")\n",
        "\n",
        "# print(\"API Key:\", gemini_api_key)\n",
        "\n",
        "# # Initialize the ChatGoogleGenerativeAI model\n",
        "# llm = ChatGoogleGenerativeAI(\n",
        "#     model=\"gemini-1.5-flash\",  # Specify the model\n",
        "#     api_key=gemini_api_key,  # Pass the API key\n",
        "#     )\n",
        "\n",
        "\n",
        "\n",
        "# def get_profile_url_tavily(name: str):\n",
        "#     \"\"\"Search for LinkedIn or Twitter Profile Page.\"\"\"\n",
        "#     search = TavilySearchResults()\n",
        "#     res = search.run(f\"{name}\")\n",
        "#     return res\n",
        "\n",
        "\n",
        "def lookup_linkedin(name: str):\n",
        "    # llm = ChatGoogleGenerativeAI(\n",
        "    #     model=\"gemini-1.5-flash\"\n",
        "    # )\n",
        "    template = \"\"\"give the full name {name_of_person} I want you to get it me a link to their Linkedin profile page.\n",
        "                  Your answer should contain only a URL\"\"\"\n",
        "\n",
        "    prompt_template = PromptTemplate(\n",
        "        template=template, input_variables=[\"name_of_person\"]\n",
        "    )\n",
        "\n",
        "    tools_for_agent = [\n",
        "        Tool(\n",
        "            name=\"Crawl Google 4 linkedin profile page\",\n",
        "            func=get_profile_url_tavily,\n",
        "            description=\"useful for when you need get the Linkedin Page URL\"\n",
        "        )\n",
        "    ]\n",
        "\n",
        "    react_prompt = hub.pull(\"hwchase17/react\")\n",
        "    agent = create_react_agent(\n",
        "        llm=llm,\n",
        "        tools=tools_for_agent,\n",
        "        prompt=react_prompt\n",
        "    )\n",
        "\n",
        "    agent_executor = AgentExecutor(\n",
        "        agent=agent,\n",
        "        tools=tools_for_agent,\n",
        "        verbose=True\n",
        "    )\n",
        "\n",
        "    result = agent_executor.invoke(\n",
        "        input={\"input\": prompt_template.format_prompt(name_of_person=name)}\n",
        "    )\n",
        "\n",
        "    linkedin_profile_url = result[\"output\"]\n",
        "    return linkedin_profile_url\n",
        "\n",
        "\n",
        "# if __name__ == '__main__':\n",
        "#     print(\"hello LangChain linkedin lookup agent\")\n",
        "#     linkedin_profile_url = lookup_linkedin(name=\"Eden Marco Udemy\")\n",
        "#     print(linkedin_profile_url)\n",
        "\n"
      ],
      "metadata": {
        "id": "WfyS37zTaDqR"
      },
      "execution_count": 39,
      "outputs": []
    },
    {
      "cell_type": "code",
      "source": [
        "# # Example function call\n",
        "print(\"Linkedin Lookup\\n\\n\")\n",
        "\n",
        "linkedin_profile_url = lookup_linkedin(name=\"Elon Musk\")\n",
        "print(linkedin_profile_url)"
      ],
      "metadata": {
        "id": "Owj49n7uaqzV",
        "outputId": "c15e46ad-a819-44e1-f8b0-4470ab7a9563",
        "colab": {
          "base_uri": "https://localhost:8080/"
        }
      },
      "execution_count": 41,
      "outputs": [
        {
          "output_type": "stream",
          "name": "stdout",
          "text": [
            "Linkedin Lookup\n",
            "\n",
            "\n",
            "\n",
            "\n",
            "\u001b[1m> Entering new AgentExecutor chain...\u001b[0m\n",
            "\u001b[32;1m\u001b[1;3mThought: I need to find Elon Musk's LinkedIn profile URL.  I can use Google to search for it.\n",
            "\n",
            "Action: Crawl Google 4 linkedin profile page\n",
            "\n",
            "Action Input: name='Elon Musk'\n",
            "\u001b[0m\u001b[36;1m\u001b[1;3m[{'url': 'https://www.mountbonnell.info/elons-austin/unmasking-elon-musk-the-shocking-truth-behind-his-real-name-revealed', 'content': '7 days ago ... Elon Musk, the renowned entrepreneur and CEO of Tesla and SpaceX, is a name that has become synonymous with innovation and ambition.'}, {'url': 'https://www.youtube.com/watch?v=YJxdh5-Za4Q', 'content': '3 days ago ... Tech billionaire Elon Musk has updated his X, formerly known as Twitter, and changed his name from \"Elon Musk\" to \"Kekius Maximus\".'}, {'url': 'https://www.hindustantimes.com/world-news/us-news/elon-musk-changes-his-name-on-x-again-after-kekius-maximus-this-time-its-101735814599604.html', 'content': '2 days ago ... Elon Musk has once again changed his name on X. On Tuesday, the Tesla CEO debuted “Kekius Maximus” as his new name on the social media'}, {'url': 'https://www.bbc.com/news/articles/cy53vz1qpx1o', 'content': 'Elon Musk changes his name to Kekius Maximus on X Elon Musk changes his name to Kekius Maximus on X The world\\'s richest man, Elon Musk, has sparked speculation after changing his name on his social media platform X to \"Kekius Maximus\". Elon Musk\\'s \\'social experiment on humanity\\': How X evolved in 2024 ------------------------------------------------------------------ Elon Musk\\'s \\'social experiment on humanity\\': How X evolved in 2024 ------------------------------------------------------------------ 5 days ago BBC InDepth 2 hrs ago US & Canada 3 hrs ago  What is a state funeral and who will attend Jimmy Carter\\'s? 3 hrs ago US & Canada 3 hrs ago US & Canada 6 hrs ago World 7 hrs ago US & Canada About the BBC Contact the BBC'}, {'url': 'https://simple.wikipedia.org/wiki/Elon_Musk', 'content': \"In 2022, he became the owner of the social media site Twitter after buying it for USD $44 billion.[2]\\nMusk is the second-wealthiest person in the world, according to both the Bloomberg Billionaires Index and Forbes's real-time billionaires list.[3][4] These were to start businesses in the internet, renewable energy and outer space.[10] He became an American citizen in 2002.[11]\\nProjects[change | change source]\\nAt the end of 2016, Musk founded The Boring Company which focuses on tunneling and infrastructure. Musk has Asperger's which is a former type of Autism.[5]\\nEarly life and career[change | change source]\\nElon Musk was born to a Canadian mother and a South African-born British father in Pretoria, South Africa on June 28, 1971.[6] Then he moved to California to attempt to get a PhD in applied physics at Stanford but he left the program after only two days because he wanted to pursue his entrepreneurial aspirations. He is also the CEO of Solar City, a company that makes solar panels, and the CEO & CTO of SpaceX, an aerospace company.\\n\"}]\u001b[0m\u001b[32;1m\u001b[1;3mThought:The Google search results do not provide a direct link to Elon Musk's LinkedIn profile.  The results focus on news articles about him.  I need a more targeted approach to find his LinkedIn profile.  I will try a different strategy.\n",
            "\n",
            "Thought:I will try searching directly on LinkedIn for \"Elon Musk\".  This is more likely to yield a direct link to his profile if he has one.\n",
            "\n",
            "Action: Crawl Google 4 linkedin profile page\n",
            "\n",
            "Action Input: name='Elon Musk'\n",
            "\u001b[0m\u001b[36;1m\u001b[1;3m[{'url': 'https://www.mountbonnell.info/elons-austin/unmasking-elon-musk-the-shocking-truth-behind-his-real-name-revealed', 'content': '7 days ago ... Elon Musk, the renowned entrepreneur and CEO of Tesla and SpaceX, is a name that has become synonymous with innovation and ambition.'}, {'url': 'https://www.youtube.com/watch?v=YJxdh5-Za4Q', 'content': '3 days ago ... Tech billionaire Elon Musk has updated his X, formerly known as Twitter, and changed his name from \"Elon Musk\" to \"Kekius Maximus\".'}, {'url': 'https://www.bbc.com/news/articles/cy53vz1qpx1o', 'content': 'Elon Musk changes his name to Kekius Maximus on X Elon Musk changes his name to Kekius Maximus on X The world\\'s richest man, Elon Musk, has sparked speculation after changing his name on his social media platform X to \"Kekius Maximus\". Elon Musk\\'s \\'social experiment on humanity\\': How X evolved in 2024 ------------------------------------------------------------------ Elon Musk\\'s \\'social experiment on humanity\\': How X evolved in 2024 ------------------------------------------------------------------ 5 days ago BBC InDepth 2 hrs ago US & Canada 3 hrs ago  What is a state funeral and who will attend Jimmy Carter\\'s? 3 hrs ago US & Canada 3 hrs ago US & Canada 6 hrs ago World 7 hrs ago US & Canada About the BBC Contact the BBC'}, {'url': 'https://simple.wikipedia.org/wiki/Elon_Musk', 'content': \"In 2022, he became the owner of the social media site Twitter after buying it for USD $44 billion.[2]\\nMusk is the second-wealthiest person in the world, according to both the Bloomberg Billionaires Index and Forbes's real-time billionaires list.[3][4] These were to start businesses in the internet, renewable energy and outer space.[10] He became an American citizen in 2002.[11]\\nProjects[change | change source]\\nAt the end of 2016, Musk founded The Boring Company which focuses on tunneling and infrastructure. Musk has Asperger's which is a former type of Autism.[5]\\nEarly life and career[change | change source]\\nElon Musk was born to a Canadian mother and a South African-born British father in Pretoria, South Africa on June 28, 1971.[6] Then he moved to California to attempt to get a PhD in applied physics at Stanford but he left the program after only two days because he wanted to pursue his entrepreneurial aspirations. He is also the CEO of Solar City, a company that makes solar panels, and the CEO & CTO of SpaceX, an aerospace company.\\n\"}, {'url': 'https://www.hindustantimes.com/world-news/us-news/elon-musk-changes-his-name-on-x-again-after-kekius-maximus-this-time-its-101735814599604.html', 'content': 'HT E-paper Access digital news experience Delhi News Bengaluru News Delhi News Bengaluru News News / World News / US News / Elon Musk changes his name on X again after Kekius Maximus. World News India News CITY NEWS Bengaluru News Bhopal News Chennai News Dehradun News Delhi News Hyderabad News Jaipur News Kolkata News Noida News Pune News Education News TRENDING NEWS World News Entertainment News Live World News Live Hollywood News Live US News Live India News Live Bengaluru News Live Cricket News Live Entertainment News Live World News Live Hollywood News Live US News Live India News Live Bengaluru News Live Cricket News Live India News World News US News india news News Photos More from HT'}]\u001b[0m\u001b[32;1m\u001b[1;3mThought:The Google search results still do not contain a LinkedIn profile URL for Elon Musk.  It's possible he doesn't have a public LinkedIn profile.\n",
            "\n",
            "Thought:I now know the final answer.  I cannot provide a URL for Elon Musk's LinkedIn profile based on the available information.\n",
            "\n",
            "Final Answer: I could not find a LinkedIn profile URL for Elon Musk.\n",
            "\u001b[0m\n",
            "\n",
            "\u001b[1m> Finished chain.\u001b[0m\n",
            "I could not find a LinkedIn profile URL for Elon Musk.\n"
          ]
        }
      ]
    },
    {
      "cell_type": "code",
      "source": [
        "# app/agents/twitter_lookup_agent.py\n",
        "\n",
        "from dotenv import load_dotenv\n",
        "\n",
        "load_dotenv()\n",
        "from langchain_google_genai import ChatGoogleGenerativeAI\n",
        "from langchain.prompts.prompt import PromptTemplate\n",
        "from langchain_core.tools import Tool\n",
        "from langchain.agents import (\n",
        "    create_react_agent,\n",
        "    AgentExecutor,\n",
        ")\n",
        "from langchain import hub\n",
        "# from tools.tools import get_profile_url_tavily\n",
        "\n",
        "\n",
        "def lookup_twitter(name: str) -> str:\n",
        "    # llm = ChatOpenAI(\n",
        "    #     temperature=0,\n",
        "    #     model_name=\"gpt-4o-mini\",\n",
        "    # )\n",
        "    template = \"\"\"\n",
        "       given the name {name_of_person} I want you to find a link to their Twitter profile page, and extract from it their username\n",
        "       In Your Final answer only the person's username\"\"\"\n",
        "    prompt_template = PromptTemplate(\n",
        "        template=template, input_variables=[\"name_of_person\"]\n",
        "    )\n",
        "    tools_for_agent = [\n",
        "        Tool(\n",
        "            name=\"Crawl Google 4 Twitter profile page\",\n",
        "            func=get_profile_url_tavily,\n",
        "            description=\"useful for when you need get the Twitter Page URL\",\n",
        "        )\n",
        "    ]\n",
        "\n",
        "    react_prompt = hub.pull(\"hwchase17/react\")\n",
        "    agent = create_react_agent(llm=llm, tools=tools_for_agent, prompt=react_prompt)\n",
        "    agent_executor = AgentExecutor(agent=agent, tools=tools_for_agent, verbose=True)\n",
        "\n",
        "    result = agent_executor.invoke(\n",
        "        input={\"input\": prompt_template.format_prompt(name_of_person=name)}\n",
        "    )\n",
        "\n",
        "    twitter_username = result[\"output\"]\n",
        "    return twitter_username\n",
        "\n",
        "\n",
        "# if __name__ == \"__main__\":\n",
        "#     print(lookup(name=\"Elon Musk\"))"
      ],
      "metadata": {
        "id": "yPkJNDGo2vhs"
      },
      "execution_count": 51,
      "outputs": []
    },
    {
      "cell_type": "code",
      "source": [
        "# # Example function call\n",
        "print(\"Twitter Lookup\\n\\n\")\n",
        "twitter_lookup = lookup_twitter(name=\"Elon Musk\")\n",
        "print(\"Twitter Lookup:\", twitter_lookup)"
      ],
      "metadata": {
        "colab": {
          "base_uri": "https://localhost:8080/"
        },
        "id": "mNK3IBLE9Vtq",
        "outputId": "6c4d361f-9d41-4fb9-c5f5-90a28d57511b"
      },
      "execution_count": 52,
      "outputs": [
        {
          "output_type": "stream",
          "name": "stdout",
          "text": [
            "Twitter Lookup\n",
            "\n",
            "\n",
            "\n",
            "\n",
            "\u001b[1m> Entering new AgentExecutor chain...\u001b[0m\n",
            "\u001b[32;1m\u001b[1;3mThought: I need to find Elon Musk's Twitter profile URL using a search engine, then extract the username from that URL.  I'll use the provided tool to crawl Google for the Twitter profile page.\n",
            "\n",
            "Action: Crawl Google 4 Twitter profile page\n",
            "Action Input: \"Elon Musk\"\n",
            "\u001b[0m\u001b[36;1m\u001b[1;3m[{'url': 'https://www.tesla.com/elon-musk', 'content': \"As the co-founder and CEO of Tesla, Elon leads all product design, engineering and global manufacturing of the company's electric vehicles, battery products\"}, {'url': 'https://www.bbc.com/news/articles/cy53vz1qpx1o', 'content': 'Elon Musk changes his name to Kekius Maximus on X Elon Musk changes his name to Kekius Maximus on X The world\\'s richest man, Elon Musk, has sparked speculation after changing his name on his social media platform X to \"Kekius Maximus\". Elon Musk\\'s \\'social experiment on humanity\\': How X evolved in 2024 ------------------------------------------------------------------ Elon Musk\\'s \\'social experiment on humanity\\': How X evolved in 2024 ------------------------------------------------------------------ 5 days ago BBC InDepth 2 hrs ago US & Canada 3 hrs ago  What is a state funeral and who will attend Jimmy Carter\\'s? 3 hrs ago US & Canada 3 hrs ago US & Canada 6 hrs ago World 7 hrs ago US & Canada About the BBC Contact the BBC'}, {'url': 'https://en.wikipedia.org/wiki/Elon_Musk', 'content': 'By this time, however, eight of the 12 children, had already been rescued, the rescuers employing full face masks, oxygen, and anesthesia; consequently, Thai authorities declined to use the submarine.[289] In March 2019, Musk was later one of the 187 people who received various honors conferred by the King of Thailand for involvement in the rescue effort.[293]\\nSoon after the rescue, Vernon Unsworth, a British recreational caver who had been exploring the cave for the previous six years and played a key advisory role in the operation, criticized the submarine on CNN as amounting to nothing more than a public relations effort with no chance of success, maintaining that Musk \"had no conception of what the cave passage was like\" and \"can stick his submarine where it hurts\". In 2022, a federal probe was launched into possible animal welfare violations by Neuralink.[195]\\nIn September 2023, the company was approved to intitiate human trials; the company will conduct a six-year study.[196]\\nThe Boring Company\\nIn 2017, Musk founded the Boring Company to construct tunnels, and revealed plans for specialized, underground, high-occupancy vehicles that could travel up to 150 miles per hour (240\\xa0km/h) and thus circumvent above-ground traffic in major cities.[197][198] Early in 2017, the company began discussions with regulatory bodies and initiated construction of a 30-foot (9.1\\xa0m) wide, 50-foot (15\\xa0m) long, and 15-foot (4.6\\xa0m) deep \"test trench\" on the premises of SpaceX\\'s offices, as that required no permits.[199] The Los Angeles tunnel, less than two miles (3.2\\xa0km) in length, debuted to journalists in 2018. At the time, SolarCity was facing liquidity issues.[178] Multiple shareholder groups filed a lawsuit against Musk and Tesla\\'s directors, stating that the purchase of SolarCity was done solely to benefit Musk and came at the expense of Tesla and its shareholders.[179][180] Tesla directors settled the lawsuit in January 2020, leaving Musk the sole remaining defendant.[181][182] Two years later, the court ruled in Musk\\'s favor.[183]\\nNeuralink\\nIn 2016, Musk co-founded Neuralink, a neurotechnology startup company, with an investment of $100\\xa0million.[184][185] Neuralink aims to integrate the human brain with artificial intelligence (AI) by creating devices that are embedded in the brain to facilitate its merging with machines. At age twelve, Musk sold his BASIC-based game Blastar to PC and Office Technology magazine for approximately $500.[44][45]\\nEducation\\nMusk attended Waterkloof House Preparatory School, Bryanston High School, and Pretoria Boys High School, from where he graduated.[46] Musk was a good but not exceptional student, earning a 61 in Afrikaans and a B on his senior math certification.[47] Musk applied for a Canadian passport through his Canadian-born mother,[48][49] knowing that it would be easier to immigrate to the United States this way.[50] While waiting for his application to be processed, he attended the University of Pretoria for five months.[51]\\nMusk arrived in Canada in June 1989 and lived with a second cousin in Saskatchewan for a year,[52] working odd jobs at a farm and lumber mill.[53] In 1990, he entered Queen\\'s University in Kingston, Ontario.[54][55] In January 2023, Musk was recognized by Guinness World Records for experiencing the \"largest loss of personal fortune in history\" with regards to his financial losses since November 2021, which Guinness quoted a Forbes estimate of $182 billion.[334]\\nMusk\\'s personal wealth is managed by his family office called Excession LLC, formed in 2016 and run by Jared Birchall.[335][261]\\nSources of wealth\\nAround 75% of Musk\\'s wealth was derived from Tesla stock in November 2020,[327] a proportion that fell to about 37% as of December 2022,[f] after selling nearly $40 billion in company shares since late 2021.[336] Musk does not receive a salary from Tesla; he agreed with the board in 2018 to a compensation plan that ties his personal earnings to Tesla\\'s valuation and revenue.[325]'}, {'url': 'https://www.wsj.com/topics/person/elon-musk', 'content': 'Emily Glazer and Kirsten Grind\\nJanuary 7, 2024\\nWhy MrBeast Is Rebuffing Elon Musk\\nOne of the world’s biggest YouTube creators has told the billionaire that the math doesn’t work for him on X.\\nTim Higgins\\nJanuary 6, 2024\\nLabor Board Backs Fired SpaceX Kim Mackrael\\nDecember 18, 2023\\nPage\\nWSJ Membership\\nCustomer Service\\nTools & Features\\nAds\\nMore\\nDow Jones Products The Real Story of Musk’s Twitter Takeover\\nIn an exclusive excerpt from his new biography ‘Elon Musk,’ Walter Isaacson offers a behind-the-scenes look at one of the most surprising and controversial decisions of the mogul’s career.\\n Micah Maidenberg\\nJanuary 3, 2024\\nElon Musk and Italy’s Giorgia Meloni Form a Trans-Atlantic Bond\\nFrom immigration to artificial intelligence, the billionaire and the Italian prime minister are finding common ground.\\n Rebecca Elliott and Sean McLain\\nDecember 22, 2023\\nBezos’ Rocket Startup and Cerberus Compete to Buy SpaceX Rival\\nBlue Origin and Cerberus made buyout bids for a rocket-launch venture owned by Boeing and Lockheed Martin.\\n'}, {'url': 'https://www.forbes.com/profile/elon-musk/', 'content': \"And Musk Of Profiting Off Hamas Propaganda: ‘Indefensible’\\nX Will Donate Ad Revenue To Gaza Aid Groups And Israeli Hospitals, Elon Musk Says\\nElon Musk Threatens ‘Thermonuclear’ Lawsuit Against Group Reporting Antisemitic X Posts Appearing Near Ads\\nBacklash Is Growing Over Elon Musk's Support Of Antisemitic Tweet—It's Not The First Time He's Faced Controversy Over His Posts\\nElon Musk Threatens ‘Thermonuclear’ Lawsuit Against Group Reporting Antisemitic X Posts Appearing Near Ads\\nElon Musk Condemned After Calling Antisemitic Post ‘Actual Truth’\\n More on Forbes\\nLawmakers Push For SEC Probe Into Elon Musk’s Neuralink For Claims About Brain Implant Safety\\nHow Elon Musk’s Personal Brand Devalues X\\nHouse Democrats Accuse X Tesla Stock Slides\\nHow Elon Musk Changed Twitter A Year And $44 Billion Later\\nElon Musk Has Somehow Killed The Share Button On PlayStation\\nForbes Daily: To Innovate Like Elon Musk\\nElon Musk Says Starlink Hit Breakeven Cash Flow\\n2023 Forbes 400: The Richest Newcomers\\nalso on forbes\"}]\u001b[0m\u001b[32;1m\u001b[1;3mThought:The observation contains several URLs, but none are directly to Elon Musk's Twitter profile.  I need to refine my search or try a different approach.  A direct search for \"Elon Musk Twitter\" might yield better results.\n",
            "\n",
            "\n",
            "Action: Crawl Google 4 Twitter profile page\n",
            "Action Input: \"Elon Musk Twitter\"\n",
            "\u001b[0m\u001b[36;1m\u001b[1;3m[{'url': 'https://timesofindia.indiatimes.com/technology/social/elon-musk-no-longer-there-on-twitter-look-for-kekius-maximus-to-find-him/articleshow/116834156.cms', 'content': \"SOCIAL News: Elon Musk has changed his display name on X (formerly Twitter) to 'Kekius Maximus,' sparking intrigue among followers.\"}, {'url': 'https://www.youtube.com/watch?v=pxKfRW18g2Y', 'content': \"It was once the world's online marketplace of ideas. But ever since the billionaire tycoon Elon Musk bought up Twitter and renamed it X\"}, {'url': 'https://www.forbes.com/profile/elon-musk/', 'content': \"And Musk Of Profiting Off Hamas Propaganda: ‘Indefensible’\\nX Will Donate Ad Revenue To Gaza Aid Groups And Israeli Hospitals, Elon Musk Says\\nElon Musk Threatens ‘Thermonuclear’ Lawsuit Against Group Reporting Antisemitic X Posts Appearing Near Ads\\nBacklash Is Growing Over Elon Musk's Support Of Antisemitic Tweet—It's Not The First Time He's Faced Controversy Over His Posts\\nElon Musk Threatens ‘Thermonuclear’ Lawsuit Against Group Reporting Antisemitic X Posts Appearing Near Ads\\nElon Musk Condemned After Calling Antisemitic Post ‘Actual Truth’\\n More on Forbes\\nLawmakers Push For SEC Probe Into Elon Musk’s Neuralink For Claims About Brain Implant Safety\\nHow Elon Musk’s Personal Brand Devalues X\\nHouse Democrats Accuse X Tesla Stock Slides\\nHow Elon Musk Changed Twitter A Year And $44 Billion Later\\nElon Musk Has Somehow Killed The Share Button On PlayStation\\nForbes Daily: To Innovate Like Elon Musk\\nElon Musk Says Starlink Hit Breakeven Cash Flow\\n2023 Forbes 400: The Richest Newcomers\\nalso on forbes\"}, {'url': 'https://en.wikipedia.org/wiki/Elon_Musk', 'content': 'By this time, however, eight of the 12 children, had already been rescued, the rescuers employing full face masks, oxygen, and anesthesia; consequently, Thai authorities declined to use the submarine.[289] In March 2019, Musk was later one of the 187 people who received various honors conferred by the King of Thailand for involvement in the rescue effort.[293]\\nSoon after the rescue, Vernon Unsworth, a British recreational caver who had been exploring the cave for the previous six years and played a key advisory role in the operation, criticized the submarine on CNN as amounting to nothing more than a public relations effort with no chance of success, maintaining that Musk \"had no conception of what the cave passage was like\" and \"can stick his submarine where it hurts\". In 2022, a federal probe was launched into possible animal welfare violations by Neuralink.[195]\\nIn September 2023, the company was approved to intitiate human trials; the company will conduct a six-year study.[196]\\nThe Boring Company\\nIn 2017, Musk founded the Boring Company to construct tunnels, and revealed plans for specialized, underground, high-occupancy vehicles that could travel up to 150 miles per hour (240\\xa0km/h) and thus circumvent above-ground traffic in major cities.[197][198] Early in 2017, the company began discussions with regulatory bodies and initiated construction of a 30-foot (9.1\\xa0m) wide, 50-foot (15\\xa0m) long, and 15-foot (4.6\\xa0m) deep \"test trench\" on the premises of SpaceX\\'s offices, as that required no permits.[199] The Los Angeles tunnel, less than two miles (3.2\\xa0km) in length, debuted to journalists in 2018. At the time, SolarCity was facing liquidity issues.[178] Multiple shareholder groups filed a lawsuit against Musk and Tesla\\'s directors, stating that the purchase of SolarCity was done solely to benefit Musk and came at the expense of Tesla and its shareholders.[179][180] Tesla directors settled the lawsuit in January 2020, leaving Musk the sole remaining defendant.[181][182] Two years later, the court ruled in Musk\\'s favor.[183]\\nNeuralink\\nIn 2016, Musk co-founded Neuralink, a neurotechnology startup company, with an investment of $100\\xa0million.[184][185] Neuralink aims to integrate the human brain with artificial intelligence (AI) by creating devices that are embedded in the brain to facilitate its merging with machines. At age twelve, Musk sold his BASIC-based game Blastar to PC and Office Technology magazine for approximately $500.[44][45]\\nEducation\\nMusk attended Waterkloof House Preparatory School, Bryanston High School, and Pretoria Boys High School, from where he graduated.[46] Musk was a good but not exceptional student, earning a 61 in Afrikaans and a B on his senior math certification.[47] Musk applied for a Canadian passport through his Canadian-born mother,[48][49] knowing that it would be easier to immigrate to the United States this way.[50] While waiting for his application to be processed, he attended the University of Pretoria for five months.[51]\\nMusk arrived in Canada in June 1989 and lived with a second cousin in Saskatchewan for a year,[52] working odd jobs at a farm and lumber mill.[53] In 1990, he entered Queen\\'s University in Kingston, Ontario.[54][55] In January 2023, Musk was recognized by Guinness World Records for experiencing the \"largest loss of personal fortune in history\" with regards to his financial losses since November 2021, which Guinness quoted a Forbes estimate of $182 billion.[334]\\nMusk\\'s personal wealth is managed by his family office called Excession LLC, formed in 2016 and run by Jared Birchall.[335][261]\\nSources of wealth\\nAround 75% of Musk\\'s wealth was derived from Tesla stock in November 2020,[327] a proportion that fell to about 37% as of December 2022,[f] after selling nearly $40 billion in company shares since late 2021.[336] Musk does not receive a salary from Tesla; he agreed with the board in 2018 to a compensation plan that ties his personal earnings to Tesla\\'s valuation and revenue.[325]'}, {'url': 'https://timesofindia.indiatimes.com/technology/social/elon-musk-is-no-longer-elon-musk-on-twitter-changes-his-profile-name-to/articleshow/116822826.cms', 'content': \"How has the 21st century gone so wrong?6 rewarding habits that can guarantee a child’s success in 2025Taylor Swift starts a new chapter in Nashville with Travis KelceKriti Sanon accused of cheating by alleged college mate; fans rally to support the actressAyush Mhatre breaks Yashasvi Jaiswal's List A World Record with stunning knock in Vijay Hazare TrophyWhy Elon Musk changed his X name to 'Kekius Maximus'— A wink at cryptocurrency’s meme revolution?How to watch New Year’s eve fireworks from iconic destinations like Sydney, Dubai, and more liveMaharashtra Tourism to host Eco Glamping Festival in Nasik from January 15, 2025Andhra Pradesh govt grants extension of liquor sales hours for New Year celebrationsSunil Gavaskar sees Venkatesh Iyer as all-round option for India's tour of EnglandBen Affleck and Jennifer Garne come together for Christmas with their kids, amidst the actor's divorce from Lopez\"}]\u001b[0m\u001b[32;1m\u001b[1;3mThought:The provided tool doesn't directly extract usernames.  I need to find a reliable source that gives me Elon Musk's Twitter username, then I can extract it.  The previous searches haven't yielded a direct link to his profile.  I will try a different search strategy.\n",
            "\n",
            "Action: Crawl Google 4 Twitter profile page\n",
            "Action Input: \"Elon Musk X profile\"\n",
            "\u001b[0m\u001b[36;1m\u001b[1;3m[{'url': 'https://www.news.com.au/technology/online/heres-why-elon-musk-changed-his-name-on-x-to-kekius-maximus-and-what-it-means/news-story/5154b0e494fc8aa3d4b604563baa22af', 'content': '2 days ago ... Elon Musk bizarrely changed his X profile name to “Kekius Maximus” on Tuesday — sparking a flood of questions from supporters and critics alike.'}, {'url': 'https://nypost.com/2024/12/31/us-news/why-elon-musk-changed-his-name-on-x-to-kekius-maximus/', 'content': 'Why Elon Musk changed his name on X to \\'Kekius Maximus\\' ##### Here\\'s why Elon Musk changed his name on X to \\'Kekius Maximus\\'... Here’s why Elon Musk changed his name on X to ‘Kekius Maximus’ — and what it means “Imagine you’re a journalist writing about Elon on X and it goes: ‘Elon Musk, aka Kekius Maximus, on X…,\\'” the Dittmann post read. Here\\'s why Elon Musk changed his name on X to \\'Kekius Maximus\\' — and what it means Elon Musk bizarrely changed his X profile name to \"Kekius Maximus\" on Tuesday. Here\\'s why Elon Musk changed his name on X to \\'Kekius Maximus\\' — and what it means'}, {'url': 'https://www.bbc.com/news/articles/cy53vz1qpx1o', 'content': 'Elon Musk changes his name to Kekius Maximus on X Elon Musk changes his name to Kekius Maximus on X The world\\'s richest man, Elon Musk, has sparked speculation after changing his name on his social media platform X to \"Kekius Maximus\". Elon Musk\\'s \\'social experiment on humanity\\': How X evolved in 2024 ------------------------------------------------------------------ Elon Musk\\'s \\'social experiment on humanity\\': How X evolved in 2024 ------------------------------------------------------------------ 5 days ago BBC InDepth 2 hrs ago US & Canada 3 hrs ago  What is a state funeral and who will attend Jimmy Carter\\'s? 3 hrs ago US & Canada 3 hrs ago US & Canada 6 hrs ago World 7 hrs ago US & Canada About the BBC Contact the BBC'}, {'url': 'https://x.com/elonmusk/', 'content': \"Opens profile photo. Elon Musk. @elonmusk. Joined ... Elon Musk's posts. Pinned ... x.com/DefiantLs/stat… 2K. 1K. 17K.\"}, {'url': 'https://www.jpost.com/omg/viral-news-from-the-web/article-835969', 'content': '3 hours ago ... Elon Musk\\'s unexpected rebranding to \"Kekius Maximus\" on X, formerly known as Twitter, sent ripples through the cryptocurrency world. On January'}]\u001b[0m\u001b[32;1m\u001b[1;3mThought: I found a URL that appears to be Elon Musk's X profile: `https://x.com/elonmusk/`.  The username is clearly visible in the URL.\n",
            "\n",
            "Thought: I now know the final answer.\n",
            "\n",
            "Final Answer: elonmusk\n",
            "\u001b[0m\n",
            "\n",
            "\u001b[1m> Finished chain.\u001b[0m\n",
            "Twitter Lookup: elonmusk\n"
          ]
        }
      ]
    },
    {
      "cell_type": "markdown",
      "source": [
        "### output_parsers"
      ],
      "metadata": {
        "id": "ySPikUkBUNIX"
      }
    },
    {
      "cell_type": "code",
      "source": [
        "# app/output_parsers.py\n",
        "\n",
        "from typing import List, Dict, Any\n",
        "\n",
        "from langchain_core.output_parsers import PydanticOutputParser\n",
        "from pydantic import BaseModel, Field\n",
        "\n",
        "class Summary(BaseModel):\n",
        "    summary: str = Field(description=\"summary\")\n",
        "    facts: List[str] = Field(description=\"interesting facts about them\")\n",
        "\n",
        "    def to_dict(self) -> Dict[str, Any]:\n",
        "        return {\"summary\": self.summary, \"facts\": self.facts}\n",
        "\n",
        "summary_parser = PydanticOutputParser(pydantic_object=Summary)"
      ],
      "metadata": {
        "id": "bKEpDEPJUJT3"
      },
      "execution_count": 53,
      "outputs": []
    },
    {
      "cell_type": "code",
      "source": [
        "# app/ice_breaker.py\n",
        "\n",
        "from langchain.prompts.prompt import PromptTemplate\n",
        "\n",
        "\n",
        "# from third_parties.linkedin import scrape_linkedin_profile\n",
        "# from agents.linkedin_lookup_agent import lookup as linkedin_lookup_agent\n",
        "\n",
        "# from dotenv import load_dotenv\n",
        "# from langchain_google_genai import ChatGoogleGenerativeAI\n",
        "# from pydantic import  SecretStr\n",
        "# import os\n",
        "\n",
        "# load_dotenv()\n",
        "\n",
        "# gemini_api_key = SecretStr(os.environ[\"GEMINI_API_KEY\"])\n",
        "\n",
        "# if not gemini_api_key:\n",
        "#     raise ValueError(\"GEMINI_API_KEY is not set. Please provide the API key in your environment.\")\n",
        "\n",
        "# print(\"API Key:\", gemini_api_key)\n",
        "\n",
        "# # Initialize the ChatGoogleGenerativeAI model\n",
        "# llm = ChatGoogleGenerativeAI(\n",
        "#     model=\"gemini-1.5-flash\",  # Specify the model\n",
        "#     api_key=gemini_api_key,  # Pass the API key\n",
        "#     )\n",
        "\n",
        "\n",
        "def ice_break_with(name: str) -> str:\n",
        "\n",
        "    # linkedin_username = linkedin_profile_url(name=name)\n",
        "    # linkedin_data = scrape_linkedin_profile(linkedin_profile_url=linkedin_username)\n",
        "\n",
        "    twitter_username = lookup_twitter(name=name)\n",
        "    # tweets = scrape_user_tweets(username=twitter_username)\n",
        "\n",
        "    summary_template = \"\"\"\n",
        "    given the Linkedin information {information}, and their lates twiter {twitter_post} I want you to create:\n",
        "    1. A short summary\n",
        "    2. two interesting facts about them\n",
        "\n",
        "    Use both information from twitter and Linkedin\n",
        "    \\n{format_instructions}\n",
        "    \"\"\"\n",
        "\n",
        "    summary_prompt_template = PromptTemplate(\n",
        "        input_variables=[\"information\", \"twitter_posts\"],\n",
        "        template=summary_template,\n",
        "        partial_variables={\n",
        "            \"format_instructions\": summary_parser.get_format_instructions()\n",
        "        }\n",
        "    )\n",
        "\n",
        "    # llm = ChatOpenAI(temperature=0, model_name=\"gpt-3.5-turbo\")\n",
        "\n",
        "    chain = summary_prompt_template | llm | summary_parser\n",
        "\n",
        "    # res = chain.invoke(input={\"information\": linkedin_data, \"twitter_posts\": tweets})\n",
        "    res = chain.invoke(input={\"twitter_posts\": twitter_username})\n",
        "\n",
        "    print(res)\n"
      ],
      "metadata": {
        "id": "NnM6aOpleYQC"
      },
      "execution_count": 57,
      "outputs": []
    },
    {
      "cell_type": "code",
      "source": [
        "# # Example function call\n",
        "print(\"Twitter tweet \")\n",
        "twitter_tweets = lookup_twitter(name=\"Harrison Chase\")\n",
        "print(\"Twitter Lookup:\", twitter_tweets)"
      ],
      "metadata": {
        "id": "66qMj6OyRg3U",
        "outputId": "6fc2804c-57b2-4f30-de0e-8eca15d70d7d",
        "colab": {
          "base_uri": "https://localhost:8080/"
        }
      },
      "execution_count": 58,
      "outputs": [
        {
          "output_type": "stream",
          "name": "stdout",
          "text": [
            "Twitter tweet \n",
            "\n",
            "\n",
            "\u001b[1m> Entering new AgentExecutor chain...\u001b[0m\n",
            "\u001b[32;1m\u001b[1;3mThought: I need to find Harrison Chase's Twitter profile URL to extract their username.  I can use the \"Crawl Google 4 Twitter profile page\" tool for this.\n",
            "\n",
            "Action: Crawl Google 4 Twitter profile page\n",
            "Action Input: Harrison Chase\n",
            "\u001b[0m\u001b[36;1m\u001b[1;3m[{'url': 'https://www.bigdatawire.com/people-to-watch-2024-harrison-chase/', 'content': 'People to Watch 2024 - Harrison Chase - BigDATAwire People to Watch 2024 – Harrison Chase Harrison Chase is the co-founder and CEO of LangChain, developer of the eponymous tool for chaining together interoperable components for GenAI applications. This website uses cookies to improve your experience. Privacy & Cookies Policy Out of these, the cookies that are categorized as necessary are stored on your browser as they are essential for the working of basic functionalities of the website. Necessary cookies are absolutely essential for the website to function properly. Any cookies that may not be particularly necessary for the website to function and is used specifically to collect user personal data via analytics, ads, other embedded contents are termed as non-necessary cookies.'}, {'url': 'https://www.forbes.com/profile/harrison-chase/', 'content': 'Harrison Chase Harrison Chase Explore how this profile has been uniquely verified on the Ethereum blockchain by Forbes. Harrison Chase only cofounded LangChain in late 2022, but the company caught instant attention for enabling anyone to build apps powered by large language models like GPT-4 in as little as two dozen lines of code. Forbes Lists Explore how this profile has been uniquely verified on the Ethereum blockchain by Forbes. More on Forbes CEO Harrison Chase confirmed a $20 million funding round led by Sequoia and said his one-year-old startup already had a waitlist of 80,000 for its new tools. Connect with Harrison Chase More from Forbes 30 Under 30 - Enterprise Technology 2024 List Jobs At Forbes Forbes Accolades'}, {'url': 'https://tardis.fandom.com/wiki/Harrison_Chase', 'content': \"Harrison Chase | Tardis | Fandom Doctor Who Doctor Who comic stories Doctor Who? The Doctor First Doctor The Doctor Who Wiki Doctor Who Doctor Who comic stories Doctor Who? The Doctor First Doctor Chase put the Fourth Doctor in his compost machine, intending it to kill him. Chase captured Sarah Jane and put her in his compost machine; the Doctor freed her and wrestled with Chase. Actor Tony Beckley added them to his character's wardrobe as a quirk of Chase's, and they're never explained in the story. Philip Hinchcliffe wrote the gloves into his novelisation of the story, explaining that Chase wore them in order to limit his physical contact with his fellow humans; he only liked touching plants bare-handed. Doctor Who\"}, {'url': 'https://www.linkedin.com/in/harrison-chase-961287118', 'content': 'Sign in to view Harrison’s full profile Harrison Chase Sign in to view Harrison’s full profile Sign in to view Harrison’s full profile Sign in to view Harrison’s full profile View mutual connections with Harrison Sign in to view Harrison’s full profile Sign in to view Harrison’s full profile View Harrison’s full experience More activity by Harrison Had the privilege of organizing an incredibly productive session today with Harrison Chase  CEO of LangChain, the #JPM #PrivateBank Data Intelligence… On December 10, join us in San Francisco at Pear VC for a fireside chat with Harrison Chase (CEO and co-founder LangChain) and James Groeneveld… View Harrison’s full profile Harrison Chase Harrison Chase Harrison Chase 11 others named Harrison Chase in United States are on LinkedIn View Harrison’s full profile'}, {'url': 'https://github.com/hwchase17', 'content': 'hwchase17 (Harrison Chase) · GitHub GitHub Copilot Write better code with AI Code Search Find more, search less View all industries View all solutions GitHub Sponsors Fund open source developers Advanced Security Enterprise-grade security features GitHub Copilot Enterprise-grade AI features Search code, repositories, users, issues, pull requests... Search Saved searches You signed in with another tab or window. You signed out in another tab or window. hwchase17 Follow Overview Repositories 58 Projects 0 Packages 0 Stars 54 Block or report hwchase17 Learn more about blocking users. Report abuseContact GitHub support about this user’s behavior. Overview Repositories 58 Projects 0 Packages 0 Stars 54 If the problem persists, check the GitHub status page or contact support. © 2024 GitHub,\\xa0Inc. Footer navigation'}]\u001b[0m\u001b[32;1m\u001b[1;3mThought: I found several links related to Harrison Chase, but I need to identify the one that leads to his Twitter profile.  The observation contains URLs for various websites (BigDatawire, Forbes, a Doctor Who wiki, LinkedIn, and GitHub). None of these are Twitter URLs.  I cannot extract a Twitter username without a Twitter URL.\n",
            "\n",
            "Thought: I need to refine my search to find a definitive Twitter profile for Harrison Chase.  Perhaps adding \"twitter\" to the search terms would help.  However, given the lack of a Twitter URL in the initial search, I cannot proceed to extract a username.\n",
            "\n",
            "Thought: I now know the final answer.  I cannot find a Twitter username for Harrison Chase based on the provided tools and initial search.\n",
            "\n",
            "Final Answer: Not found\n",
            "\u001b[0m\n",
            "\n",
            "\u001b[1m> Finished chain.\u001b[0m\n",
            "Twitter Lookup: Not found\n"
          ]
        }
      ]
    },
    {
      "cell_type": "code",
      "source": [
        "# # Example function call\n",
        "print(\"ice breaker\\n\\n \")\n",
        "ice_breaker  = ice_break_with(name=\"Harrison Chase\")\n",
        "print(\"ice breker:\", ice_breaker)"
      ],
      "metadata": {
        "id": "nf8SR_u3d_No",
        "outputId": "bca49b1c-1b41-41ad-fbb7-9aa559524f90",
        "colab": {
          "base_uri": "https://localhost:8080/",
          "height": 1000
        }
      },
      "execution_count": 59,
      "outputs": [
        {
          "output_type": "stream",
          "name": "stdout",
          "text": [
            "ice breaker\n",
            "\n",
            " \n",
            "\n",
            "\n",
            "\u001b[1m> Entering new AgentExecutor chain...\u001b[0m\n",
            "\u001b[32;1m\u001b[1;3mThought: I need to find Harrison Chase's Twitter profile URL to extract his username.  I can use the \"Crawl Google 4 Twitter profile page\" action for this.\n",
            "\n",
            "Action: Crawl Google 4 Twitter profile page\n",
            "Action Input: Harrison Chase\n",
            "\u001b[0m\u001b[36;1m\u001b[1;3m[{'url': 'https://www.bigdatawire.com/people-to-watch-2024-harrison-chase/', 'content': 'People to Watch 2024 - Harrison Chase - BigDATAwire People to Watch 2024 – Harrison Chase Harrison Chase is the co-founder and CEO of LangChain, developer of the eponymous tool for chaining together interoperable components for GenAI applications. This website uses cookies to improve your experience. Privacy & Cookies Policy Out of these, the cookies that are categorized as necessary are stored on your browser as they are essential for the working of basic functionalities of the website. Necessary cookies are absolutely essential for the website to function properly. Any cookies that may not be particularly necessary for the website to function and is used specifically to collect user personal data via analytics, ads, other embedded contents are termed as non-necessary cookies.'}, {'url': 'https://www.forbes.com/profile/harrison-chase/', 'content': 'Harrison Chase Harrison Chase Explore how this profile has been uniquely verified on the Ethereum blockchain by Forbes. Harrison Chase only cofounded LangChain in late 2022, but the company caught instant attention for enabling anyone to build apps powered by large language models like GPT-4 in as little as two dozen lines of code. Forbes Lists Explore how this profile has been uniquely verified on the Ethereum blockchain by Forbes. More on Forbes CEO Harrison Chase confirmed a $20 million funding round led by Sequoia and said his one-year-old startup already had a waitlist of 80,000 for its new tools. Connect with Harrison Chase More from Forbes 30 Under 30 - Enterprise Technology 2024 List Jobs At Forbes Forbes Accolades'}, {'url': 'https://tardis.fandom.com/wiki/Harrison_Chase', 'content': \"Harrison Chase | Tardis | Fandom Doctor Who Doctor Who comic stories Doctor Who? The Doctor First Doctor The Doctor Who Wiki Doctor Who Doctor Who comic stories Doctor Who? The Doctor First Doctor Chase put the Fourth Doctor in his compost machine, intending it to kill him. Chase captured Sarah Jane and put her in his compost machine; the Doctor freed her and wrestled with Chase. Actor Tony Beckley added them to his character's wardrobe as a quirk of Chase's, and they're never explained in the story. Philip Hinchcliffe wrote the gloves into his novelisation of the story, explaining that Chase wore them in order to limit his physical contact with his fellow humans; he only liked touching plants bare-handed. Doctor Who\"}, {'url': 'https://www.linkedin.com/in/harrison-chase-961287118', 'content': 'Sign in to view Harrison’s full profile Harrison Chase Sign in to view Harrison’s full profile Sign in to view Harrison’s full profile Sign in to view Harrison’s full profile View mutual connections with Harrison Sign in to view Harrison’s full profile Sign in to view Harrison’s full profile View Harrison’s full experience More activity by Harrison Had the privilege of organizing an incredibly productive session today with Harrison Chase  CEO of LangChain, the #JPM #PrivateBank Data Intelligence… On December 10, join us in San Francisco at Pear VC for a fireside chat with Harrison Chase (CEO and co-founder LangChain) and James Groeneveld… View Harrison’s full profile Harrison Chase Harrison Chase Harrison Chase 11 others named Harrison Chase in United States are on LinkedIn View Harrison’s full profile'}, {'url': 'https://github.com/hwchase17', 'content': 'hwchase17 (Harrison Chase) · GitHub GitHub Copilot Write better code with AI Code Search Find more, search less View all industries View all solutions GitHub Sponsors Fund open source developers Advanced Security Enterprise-grade security features GitHub Copilot Enterprise-grade AI features Search code, repositories, users, issues, pull requests... Search Saved searches You signed in with another tab or window. You signed out in another tab or window. hwchase17 Follow Overview Repositories 58 Projects 0 Packages 0 Stars 54 Block or report hwchase17 Learn more about blocking users. Report abuseContact GitHub support about this user’s behavior. Overview Repositories 58 Projects 0 Packages 0 Stars 54 If the problem persists, check the GitHub status page or contact support. © 2024 GitHub,\\xa0Inc. Footer navigation'}]\u001b[0m\u001b[32;1m\u001b[1;3mThought: I found several URLs related to Harrison Chase, but I need to identify the Twitter profile URL.  None of the provided URLs are Twitter URLs. I will need to refine my search or use a different approach.\n",
            "\n",
            "Thought: I will try a different search strategy.  I'll directly search for \"Harrison Chase Twitter\" on Google.\n",
            "\n",
            "Action: Crawl Google 4 Twitter profile page\n",
            "Action Input: Harrison Chase Twitter\n",
            "\n",
            "\u001b[0m\u001b[36;1m\u001b[1;3m[{'url': 'https://twitter.com/byHarrisonChase', 'content': 'The latest posts from @byHarrisonChase'}, {'url': 'https://twitter.com/hwchase17/status/1636383417658150914', 'content': '\"RT @pinecone: One hour till Building the Future with LLMs, LangChain, and Pinecone! Signup quickly and join @hwchase17, the creator of @Lan…\"'}, {'url': 'https://twitter.com/hwchase17/status/1634606661137731584', 'content': 'Harrison Chase @hwchase17 LLMs are great at understanding text This allows them to extract structured information from text: to use in forms, for query generation, knowledge base construction, etc `pip install kor` by'}, {'url': 'https://en.wikipedia.org/wiki/LangChain', 'content': 'In October 2023 LangChain introduced LangServe, a deployment tool designed to facilitate the transition from LCEL (LangChain Expression Language) prototypes to production-ready applications.[5]\\nIntegrations[edit]\\nAs of March 2023, LangChain included integrations with systems including Amazon, Google, and Microsoft Azure cloud storage; API wrappers for news, movie information, and weather; Bash for summarization, syntax and semantics checking, and execution of shell scripts; multiple web scraping subsystems and templates; few-shot learning prompt generation support; finding and summarizing \"todo\" tasks in code; Google Drive documents, spreadsheets, and presentations summarization, extraction, and creation; Google Search and Microsoft Bing web search; OpenAI, Anthropic, and Hugging Face language models; iFixit repair guides and wikis search and summarization; MapReduce for question answering, combining documents, and question generation; N-gram overlap scoring; PyPDF, pdfminer, fitz, and pymupdf for PDF file text extraction and manipulation; Python and JavaScript code generation, analysis, and debugging; Milvus vector database[6] to store and retrieve vector embeddings; Weaviate vector database[7] to cache embedding and data objects; Redis cache database storage; Python RequestsWrapper and other methods for API requests; SQL and NoSQL databases including JSON support; Streamlit, including for logging; text mapping for k-nearest neighbors search; time zone conversion and calendar operations; tracing and recording stack symbols in threaded and asynchronous subprocess runs; and the Wolfram Alpha website and SDK.[8] As a language model integration framework, LangChain\\'s use-cases largely overlap with those of language models in general, including document analysis and summarization, chatbots, and code analysis.[2]\\nHistory[edit]\\nLangChain was launched in October 2022 as an open source project by Harrison Chase, while working at machine learning startup Robust Intelligence. In April 2023, LangChain had incorporated and the new startup raised over $20 million in funding at a valuation of at least $200 million from venture firm Sequoia Capital, a week after announcing a $10 million seed investment from Benchmark.[3][4]\\n The project quickly garnered popularity, with improvements from hundreds of contributors on GitHub, trending discussions on Twitter, lively activity on the project\\'s Discord server, many YouTube tutorials, and meetups in San Francisco and London. As of April 2023, it can read from more than 50 document types and data sources.[9]\\nReferences[edit]\\nExternal links[edit]'}, {'url': 'https://twitter.com/hwchase17/status/1629559856385638402', 'content': \"First public save of this tweet! 🏆 Readwise users: Like this reply to save hwchase17's tweet to your account without cluttering their replies 📚 Stats: • 50 total saves of hwchase17's tweets (ranked #2590)\"}]\u001b[0m\u001b[32;1m\u001b[1;3mThought: I found a Twitter URL in the observation.  I need to extract the username from that URL.\n",
            "\n",
            "Action: Extract username from URL\n",
            "Action Input: https://twitter.com/byHarrisonChase\n",
            "\u001b[0mExtract username from URL is not a valid tool, try one of [Crawl Google 4 Twitter profile page].\u001b[32;1m\u001b[1;3mThought: I have the Twitter URL; I can extract the username from it. The username is the part of the URL after \"/\".\n",
            "\n",
            "Action: Extract username from URL\n",
            "Action Input: https://twitter.com/byHarrisonChase\n",
            "\u001b[0mExtract username from URL is not a valid tool, try one of [Crawl Google 4 Twitter profile page].\u001b[32;1m\u001b[1;3mThought: I have the Twitter URL; I can extract the username from it. The username is the part of the URL after \"/\".\n",
            "\n",
            "Action: Extract substring after \"/\"\n",
            "Action Input: https://twitter.com/byHarrisonChase\n",
            "\u001b[0mExtract substring after \"/\" is not a valid tool, try one of [Crawl Google 4 Twitter profile page].\u001b[32;1m\u001b[1;3mThought: I have the Twitter URL; I can extract the username from it. The username is the part of the URL after \"/\".  I'll perform string manipulation to extract it.\n",
            "\n",
            "Action: String manipulation\n",
            "Action Input: https://twitter.com/byHarrisonChase\n",
            "\u001b[0mString manipulation is not a valid tool, try one of [Crawl Google 4 Twitter profile page].\u001b[32;1m\u001b[1;3mThought: I have the Twitter URL; I can extract the username from it. The username is the part of the URL after \"/\".  I'll use Python to extract the username.\n",
            "\n",
            "Action: Run Python code\n",
            "Action Input: \n",
            "```python\n",
            "url = \"https://twitter.com/byHarrisonChase\"\n",
            "username = url.split('/')[-1]\n",
            "print(username)\n",
            "```\n",
            "\u001b[0mRun Python code is not a valid tool, try one of [Crawl Google 4 Twitter profile page].\u001b[32;1m\u001b[1;3mThought: I need to extract the username from the Twitter URL. I will use a regular expression to extract the username from the URL.\n",
            "\n",
            "Action: Run Python code\n",
            "Action Input: \n",
            "```python\n",
            "import re\n",
            "\n",
            "url = \"https://twitter.com/byHarrisonChase\"\n",
            "match = re.search(r\"twitter\\.com/(\\w+)\", url)\n",
            "if match:\n",
            "  username = match.group(1)\n",
            "  print(username)\n",
            "```\n",
            "\u001b[0mRun Python code is not a valid tool, try one of [Crawl Google 4 Twitter profile page].\u001b[32;1m\u001b[1;3mThought: I need to extract the username from the Twitter URL.  I'll use string manipulation to extract the substring after \"/\".\n",
            "\n",
            "Action: Extract substring after \"/\"\n",
            "Action Input: https://twitter.com/byHarrisonChase\n",
            "\u001b[0mExtract substring after \"/\" is not a valid tool, try one of [Crawl Google 4 Twitter profile page].\u001b[32;1m\u001b[1;3mThought: I have the Twitter URL: https://twitter.com/byHarrisonChase. I can extract the username using string manipulation.\n",
            "\n",
            "Action: Extract substring after \"/\"\n",
            "Action Input: https://twitter.com/byHarrisonChase\n",
            "\u001b[0mExtract substring after \"/\" is not a valid tool, try one of [Crawl Google 4 Twitter profile page].\u001b[32;1m\u001b[1;3mThought: I have the Twitter URL: https://twitter.com/byHarrisonChase.  I can extract the username manually.\n",
            "\n",
            "Thought: I now know the final answer.\n",
            "Final Answer: byHarrisonChase\n",
            "\u001b[0m\n",
            "\n",
            "\u001b[1m> Finished chain.\u001b[0m\n"
          ]
        },
        {
          "output_type": "error",
          "ename": "KeyError",
          "evalue": "\"Input to PromptTemplate is missing variables {'twitter_post', 'information'}.  Expected: ['information', 'twitter_post'] Received: ['twitter_posts']\\nNote: if you intended {twitter_post} to be part of the string and not a variable, please escape it with double curly braces like: '{{twitter_post}}'.\\nFor troubleshooting, visit: https://python.langchain.com/docs/troubleshooting/errors/INVALID_PROMPT_INPUT \"",
          "traceback": [
            "\u001b[0;31m---------------------------------------------------------------------------\u001b[0m",
            "\u001b[0;31mKeyError\u001b[0m                                  Traceback (most recent call last)",
            "\u001b[0;32m<ipython-input-59-cfeeafbc9291>\u001b[0m in \u001b[0;36m<cell line: 3>\u001b[0;34m()\u001b[0m\n\u001b[1;32m      1\u001b[0m \u001b[0;31m# # Example function call\u001b[0m\u001b[0;34m\u001b[0m\u001b[0;34m\u001b[0m\u001b[0m\n\u001b[1;32m      2\u001b[0m \u001b[0mprint\u001b[0m\u001b[0;34m(\u001b[0m\u001b[0;34m\"ice breaker\\n\\n \"\u001b[0m\u001b[0;34m)\u001b[0m\u001b[0;34m\u001b[0m\u001b[0;34m\u001b[0m\u001b[0m\n\u001b[0;32m----> 3\u001b[0;31m \u001b[0mice_breaker\u001b[0m  \u001b[0;34m=\u001b[0m \u001b[0mice_break_with\u001b[0m\u001b[0;34m(\u001b[0m\u001b[0mname\u001b[0m\u001b[0;34m=\u001b[0m\u001b[0;34m\"Harrison Chase\"\u001b[0m\u001b[0;34m)\u001b[0m\u001b[0;34m\u001b[0m\u001b[0;34m\u001b[0m\u001b[0m\n\u001b[0m\u001b[1;32m      4\u001b[0m \u001b[0mprint\u001b[0m\u001b[0;34m(\u001b[0m\u001b[0;34m\"ice breker:\"\u001b[0m\u001b[0;34m,\u001b[0m \u001b[0mice_breaker\u001b[0m\u001b[0;34m)\u001b[0m\u001b[0;34m\u001b[0m\u001b[0;34m\u001b[0m\u001b[0m\n",
            "\u001b[0;32m<ipython-input-57-4be5aa9c204d>\u001b[0m in \u001b[0;36mice_break_with\u001b[0;34m(name)\u001b[0m\n\u001b[1;32m     58\u001b[0m \u001b[0;34m\u001b[0m\u001b[0m\n\u001b[1;32m     59\u001b[0m     \u001b[0;31m# res = chain.invoke(input={\"information\": linkedin_data, \"twitter_posts\": tweets})\u001b[0m\u001b[0;34m\u001b[0m\u001b[0;34m\u001b[0m\u001b[0m\n\u001b[0;32m---> 60\u001b[0;31m     \u001b[0mres\u001b[0m \u001b[0;34m=\u001b[0m \u001b[0mchain\u001b[0m\u001b[0;34m.\u001b[0m\u001b[0minvoke\u001b[0m\u001b[0;34m(\u001b[0m\u001b[0minput\u001b[0m\u001b[0;34m=\u001b[0m\u001b[0;34m{\u001b[0m\u001b[0;34m\"twitter_posts\"\u001b[0m\u001b[0;34m:\u001b[0m \u001b[0mtwitter_username\u001b[0m\u001b[0;34m}\u001b[0m\u001b[0;34m)\u001b[0m\u001b[0;34m\u001b[0m\u001b[0;34m\u001b[0m\u001b[0m\n\u001b[0m\u001b[1;32m     61\u001b[0m \u001b[0;34m\u001b[0m\u001b[0m\n\u001b[1;32m     62\u001b[0m     \u001b[0mprint\u001b[0m\u001b[0;34m(\u001b[0m\u001b[0mres\u001b[0m\u001b[0;34m)\u001b[0m\u001b[0;34m\u001b[0m\u001b[0;34m\u001b[0m\u001b[0m\n",
            "\u001b[0;32m/usr/local/lib/python3.10/dist-packages/langchain_core/runnables/base.py\u001b[0m in \u001b[0;36minvoke\u001b[0;34m(self, input, config, **kwargs)\u001b[0m\n\u001b[1;32m   3018\u001b[0m                 \u001b[0mcontext\u001b[0m\u001b[0;34m.\u001b[0m\u001b[0mrun\u001b[0m\u001b[0;34m(\u001b[0m\u001b[0m_set_config_context\u001b[0m\u001b[0;34m,\u001b[0m \u001b[0mconfig\u001b[0m\u001b[0;34m)\u001b[0m\u001b[0;34m\u001b[0m\u001b[0;34m\u001b[0m\u001b[0m\n\u001b[1;32m   3019\u001b[0m                 \u001b[0;32mif\u001b[0m \u001b[0mi\u001b[0m \u001b[0;34m==\u001b[0m \u001b[0;36m0\u001b[0m\u001b[0;34m:\u001b[0m\u001b[0;34m\u001b[0m\u001b[0;34m\u001b[0m\u001b[0m\n\u001b[0;32m-> 3020\u001b[0;31m                     \u001b[0minput\u001b[0m \u001b[0;34m=\u001b[0m \u001b[0mcontext\u001b[0m\u001b[0;34m.\u001b[0m\u001b[0mrun\u001b[0m\u001b[0;34m(\u001b[0m\u001b[0mstep\u001b[0m\u001b[0;34m.\u001b[0m\u001b[0minvoke\u001b[0m\u001b[0;34m,\u001b[0m \u001b[0minput\u001b[0m\u001b[0;34m,\u001b[0m \u001b[0mconfig\u001b[0m\u001b[0;34m,\u001b[0m \u001b[0;34m**\u001b[0m\u001b[0mkwargs\u001b[0m\u001b[0;34m)\u001b[0m\u001b[0;34m\u001b[0m\u001b[0;34m\u001b[0m\u001b[0m\n\u001b[0m\u001b[1;32m   3021\u001b[0m                 \u001b[0;32melse\u001b[0m\u001b[0;34m:\u001b[0m\u001b[0;34m\u001b[0m\u001b[0;34m\u001b[0m\u001b[0m\n\u001b[1;32m   3022\u001b[0m                     \u001b[0minput\u001b[0m \u001b[0;34m=\u001b[0m \u001b[0mcontext\u001b[0m\u001b[0;34m.\u001b[0m\u001b[0mrun\u001b[0m\u001b[0;34m(\u001b[0m\u001b[0mstep\u001b[0m\u001b[0;34m.\u001b[0m\u001b[0minvoke\u001b[0m\u001b[0;34m,\u001b[0m \u001b[0minput\u001b[0m\u001b[0;34m,\u001b[0m \u001b[0mconfig\u001b[0m\u001b[0;34m)\u001b[0m\u001b[0;34m\u001b[0m\u001b[0;34m\u001b[0m\u001b[0m\n",
            "\u001b[0;32m/usr/local/lib/python3.10/dist-packages/langchain_core/prompts/base.py\u001b[0m in \u001b[0;36minvoke\u001b[0;34m(self, input, config, **kwargs)\u001b[0m\n\u001b[1;32m    206\u001b[0m         \u001b[0;32mif\u001b[0m \u001b[0mself\u001b[0m\u001b[0;34m.\u001b[0m\u001b[0mtags\u001b[0m\u001b[0;34m:\u001b[0m\u001b[0;34m\u001b[0m\u001b[0;34m\u001b[0m\u001b[0m\n\u001b[1;32m    207\u001b[0m             \u001b[0mconfig\u001b[0m\u001b[0;34m[\u001b[0m\u001b[0;34m\"tags\"\u001b[0m\u001b[0;34m]\u001b[0m \u001b[0;34m=\u001b[0m \u001b[0mconfig\u001b[0m\u001b[0;34m[\u001b[0m\u001b[0;34m\"tags\"\u001b[0m\u001b[0;34m]\u001b[0m \u001b[0;34m+\u001b[0m \u001b[0mself\u001b[0m\u001b[0;34m.\u001b[0m\u001b[0mtags\u001b[0m\u001b[0;34m\u001b[0m\u001b[0;34m\u001b[0m\u001b[0m\n\u001b[0;32m--> 208\u001b[0;31m         return self._call_with_config(\n\u001b[0m\u001b[1;32m    209\u001b[0m             \u001b[0mself\u001b[0m\u001b[0;34m.\u001b[0m\u001b[0m_format_prompt_with_error_handling\u001b[0m\u001b[0;34m,\u001b[0m\u001b[0;34m\u001b[0m\u001b[0;34m\u001b[0m\u001b[0m\n\u001b[1;32m    210\u001b[0m             \u001b[0minput\u001b[0m\u001b[0;34m,\u001b[0m\u001b[0;34m\u001b[0m\u001b[0;34m\u001b[0m\u001b[0m\n",
            "\u001b[0;32m/usr/local/lib/python3.10/dist-packages/langchain_core/runnables/base.py\u001b[0m in \u001b[0;36m_call_with_config\u001b[0;34m(self, func, input, config, run_type, serialized, **kwargs)\u001b[0m\n\u001b[1;32m   1923\u001b[0m             output = cast(\n\u001b[1;32m   1924\u001b[0m                 \u001b[0mOutput\u001b[0m\u001b[0;34m,\u001b[0m\u001b[0;34m\u001b[0m\u001b[0;34m\u001b[0m\u001b[0m\n\u001b[0;32m-> 1925\u001b[0;31m                 context.run(\n\u001b[0m\u001b[1;32m   1926\u001b[0m                     \u001b[0mcall_func_with_variable_args\u001b[0m\u001b[0;34m,\u001b[0m  \u001b[0;31m# type: ignore[arg-type]\u001b[0m\u001b[0;34m\u001b[0m\u001b[0;34m\u001b[0m\u001b[0m\n\u001b[1;32m   1927\u001b[0m                     \u001b[0mfunc\u001b[0m\u001b[0;34m,\u001b[0m  \u001b[0;31m# type: ignore[arg-type]\u001b[0m\u001b[0;34m\u001b[0m\u001b[0;34m\u001b[0m\u001b[0m\n",
            "\u001b[0;32m/usr/local/lib/python3.10/dist-packages/langchain_core/runnables/config.py\u001b[0m in \u001b[0;36mcall_func_with_variable_args\u001b[0;34m(func, input, config, run_manager, **kwargs)\u001b[0m\n\u001b[1;32m    394\u001b[0m     \u001b[0;32mif\u001b[0m \u001b[0mrun_manager\u001b[0m \u001b[0;32mis\u001b[0m \u001b[0;32mnot\u001b[0m \u001b[0;32mNone\u001b[0m \u001b[0;32mand\u001b[0m \u001b[0maccepts_run_manager\u001b[0m\u001b[0;34m(\u001b[0m\u001b[0mfunc\u001b[0m\u001b[0;34m)\u001b[0m\u001b[0;34m:\u001b[0m\u001b[0;34m\u001b[0m\u001b[0;34m\u001b[0m\u001b[0m\n\u001b[1;32m    395\u001b[0m         \u001b[0mkwargs\u001b[0m\u001b[0;34m[\u001b[0m\u001b[0;34m\"run_manager\"\u001b[0m\u001b[0;34m]\u001b[0m \u001b[0;34m=\u001b[0m \u001b[0mrun_manager\u001b[0m\u001b[0;34m\u001b[0m\u001b[0;34m\u001b[0m\u001b[0m\n\u001b[0;32m--> 396\u001b[0;31m     \u001b[0;32mreturn\u001b[0m \u001b[0mfunc\u001b[0m\u001b[0;34m(\u001b[0m\u001b[0minput\u001b[0m\u001b[0;34m,\u001b[0m \u001b[0;34m**\u001b[0m\u001b[0mkwargs\u001b[0m\u001b[0;34m)\u001b[0m  \u001b[0;31m# type: ignore[call-arg]\u001b[0m\u001b[0;34m\u001b[0m\u001b[0;34m\u001b[0m\u001b[0m\n\u001b[0m\u001b[1;32m    397\u001b[0m \u001b[0;34m\u001b[0m\u001b[0m\n\u001b[1;32m    398\u001b[0m \u001b[0;34m\u001b[0m\u001b[0m\n",
            "\u001b[0;32m/usr/local/lib/python3.10/dist-packages/langchain_core/prompts/base.py\u001b[0m in \u001b[0;36m_format_prompt_with_error_handling\u001b[0;34m(self, inner_input)\u001b[0m\n\u001b[1;32m    180\u001b[0m \u001b[0;34m\u001b[0m\u001b[0m\n\u001b[1;32m    181\u001b[0m     \u001b[0;32mdef\u001b[0m \u001b[0m_format_prompt_with_error_handling\u001b[0m\u001b[0;34m(\u001b[0m\u001b[0mself\u001b[0m\u001b[0;34m,\u001b[0m \u001b[0minner_input\u001b[0m\u001b[0;34m:\u001b[0m \u001b[0mdict\u001b[0m\u001b[0;34m)\u001b[0m \u001b[0;34m->\u001b[0m \u001b[0mPromptValue\u001b[0m\u001b[0;34m:\u001b[0m\u001b[0;34m\u001b[0m\u001b[0;34m\u001b[0m\u001b[0m\n\u001b[0;32m--> 182\u001b[0;31m         \u001b[0m_inner_input\u001b[0m \u001b[0;34m=\u001b[0m \u001b[0mself\u001b[0m\u001b[0;34m.\u001b[0m\u001b[0m_validate_input\u001b[0m\u001b[0;34m(\u001b[0m\u001b[0minner_input\u001b[0m\u001b[0;34m)\u001b[0m\u001b[0;34m\u001b[0m\u001b[0;34m\u001b[0m\u001b[0m\n\u001b[0m\u001b[1;32m    183\u001b[0m         \u001b[0;32mreturn\u001b[0m \u001b[0mself\u001b[0m\u001b[0;34m.\u001b[0m\u001b[0mformat_prompt\u001b[0m\u001b[0;34m(\u001b[0m\u001b[0;34m**\u001b[0m\u001b[0m_inner_input\u001b[0m\u001b[0;34m)\u001b[0m\u001b[0;34m\u001b[0m\u001b[0;34m\u001b[0m\u001b[0m\n\u001b[1;32m    184\u001b[0m \u001b[0;34m\u001b[0m\u001b[0m\n",
            "\u001b[0;32m/usr/local/lib/python3.10/dist-packages/langchain_core/prompts/base.py\u001b[0m in \u001b[0;36m_validate_input\u001b[0;34m(self, inner_input)\u001b[0m\n\u001b[1;32m    174\u001b[0m                 \u001b[0;34mf\"'{{{{{example_key}}}}}'.\"\u001b[0m\u001b[0;34m\u001b[0m\u001b[0;34m\u001b[0m\u001b[0m\n\u001b[1;32m    175\u001b[0m             )\n\u001b[0;32m--> 176\u001b[0;31m             raise KeyError(\n\u001b[0m\u001b[1;32m    177\u001b[0m                 \u001b[0mcreate_message\u001b[0m\u001b[0;34m(\u001b[0m\u001b[0mmessage\u001b[0m\u001b[0;34m=\u001b[0m\u001b[0mmsg\u001b[0m\u001b[0;34m,\u001b[0m \u001b[0merror_code\u001b[0m\u001b[0;34m=\u001b[0m\u001b[0mErrorCode\u001b[0m\u001b[0;34m.\u001b[0m\u001b[0mINVALID_PROMPT_INPUT\u001b[0m\u001b[0;34m)\u001b[0m\u001b[0;34m\u001b[0m\u001b[0;34m\u001b[0m\u001b[0m\n\u001b[1;32m    178\u001b[0m             )\n",
            "\u001b[0;31mKeyError\u001b[0m: \"Input to PromptTemplate is missing variables {'twitter_post', 'information'}.  Expected: ['information', 'twitter_post'] Received: ['twitter_posts']\\nNote: if you intended {twitter_post} to be part of the string and not a variable, please escape it with double curly braces like: '{{twitter_post}}'.\\nFor troubleshooting, visit: https://python.langchain.com/docs/troubleshooting/errors/INVALID_PROMPT_INPUT \""
          ]
        }
      ]
    }
  ]
}