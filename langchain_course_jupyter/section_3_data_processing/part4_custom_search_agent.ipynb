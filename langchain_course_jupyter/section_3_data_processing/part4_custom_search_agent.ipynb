{
  "nbformat": 4,
  "nbformat_minor": 0,
  "metadata": {
    "colab": {
      "provenance": [],
      "authorship_tag": "ABX9TyOLEhO9uuyCWjvPN5cJy2hi",
      "include_colab_link": true
    },
    "kernelspec": {
      "name": "python3",
      "display_name": "Python 3"
    },
    "language_info": {
      "name": "python"
    }
  },
  "cells": [
    {
      "cell_type": "markdown",
      "metadata": {
        "id": "view-in-github",
        "colab_type": "text"
      },
      "source": [
        "<a href=\"https://colab.research.google.com/github/raheelam98/LangChain_Fundamentals/blob/main/langchain_course_jupyter/section_3_data_processing/part4_custom_search_agent.ipynb\" target=\"_parent\"><img src=\"https://colab.research.google.com/assets/colab-badge.svg\" alt=\"Open In Colab\"/></a>"
      ]
    },
    {
      "cell_type": "markdown",
      "source": [
        "**Custom Search Agent**"
      ],
      "metadata": {
        "id": "aF3WrT5qFI0n"
      }
    },
    {
      "cell_type": "code",
      "execution_count": 1,
      "metadata": {
        "id": "7O_IvRxOE36h"
      },
      "outputs": [],
      "source": [
        "# Install the required packages:\n",
        "%%capture --no-stderr\n",
        "%pip install -U  langsmith # check\n",
        "%pip install --quiet -U  langchain_google_genai langchain_core langchain langgraph   python-dotenv langsmith"
      ]
    },
    {
      "cell_type": "code",
      "source": [
        "%%capture --no-stderr\n",
        "%pip install ChatGoogleGenerativeAI"
      ],
      "metadata": {
        "id": "ESSHIDXjZ7Yr"
      },
      "execution_count": 2,
      "outputs": []
    },
    {
      "cell_type": "code",
      "source": [
        "# packages\n",
        "%%capture --no-stderr\n",
        "%pip install -U tavily-python langchain_community"
      ],
      "metadata": {
        "id": "cb_K9Lcv0msD"
      },
      "execution_count": 3,
      "outputs": []
    },
    {
      "cell_type": "code",
      "source": [
        "import os\n",
        "from google.colab import userdata\n",
        "\n",
        "os.environ[\"LANGCHAIN_API_KEY\"] = userdata.get('LANGCHAIN_API_KEY')\n",
        "\n",
        "os.environ[\"LANGCHAIN_TRACING_V2\"] = \"true\"\n",
        "os.environ[\"LANGCHAIN_PROJECT\"] = \"ice_breaker\""
      ],
      "metadata": {
        "id": "JZnDXLEtHPD_"
      },
      "execution_count": 4,
      "outputs": []
    },
    {
      "cell_type": "code",
      "source": [
        "# API Keys\n",
        "# Get the GEMINI API key from user data\n",
        "from google.colab import userdata\n",
        "gemini_api_key = userdata.get('GEMINI_API_KEY')"
      ],
      "metadata": {
        "id": "OFHJsnbYHXt8"
      },
      "execution_count": 5,
      "outputs": []
    },
    {
      "cell_type": "code",
      "source": [
        "# from langchain_google_genai import ChatGoogleGenerativeAI\n",
        "\n",
        "# llm: ChatGoogleGenerativeAI = ChatGoogleGenerativeAI(model=\"gemini-1.5-flash\", api_key=gemini_api_key, temperature=0)"
      ],
      "metadata": {
        "id": "Rah7gCH6HYv7"
      },
      "execution_count": 40,
      "outputs": []
    },
    {
      "cell_type": "code",
      "source": [
        "# llm\n",
        "from langchain_google_genai import ChatGoogleGenerativeAI\n",
        "\n",
        "llm = ChatGoogleGenerativeAI(\n",
        "    model=\"gemini-1.5-flash\",\n",
        "    max_retries=2,\n",
        "    api_key=gemini_api_key\n",
        ")"
      ],
      "metadata": {
        "id": "-JxLuLOxTUtv"
      },
      "execution_count": 6,
      "outputs": []
    },
    {
      "cell_type": "code",
      "source": [
        "llm.invoke(\"hello\")"
      ],
      "metadata": {
        "colab": {
          "base_uri": "https://localhost:8080/"
        },
        "id": "ZwNUiQdPTY4h",
        "outputId": "9f97610d-2a99-4199-809e-1a53cc8ce6b9"
      },
      "execution_count": 7,
      "outputs": [
        {
          "output_type": "execute_result",
          "data": {
            "text/plain": [
              "AIMessage(content='Hello there! How can I help you today?\\n', additional_kwargs={}, response_metadata={'prompt_feedback': {'block_reason': 0, 'safety_ratings': []}, 'finish_reason': 'STOP', 'safety_ratings': []}, id='run-d8adeaee-79ff-42d7-89db-32efcb0db82b-0', usage_metadata={'input_tokens': 2, 'output_tokens': 11, 'total_tokens': 13, 'input_token_details': {'cache_read': 0}})"
            ]
          },
          "metadata": {},
          "execution_count": 7
        }
      ]
    },
    {
      "cell_type": "code",
      "source": [
        "# Restart Runtime and Re-authenticate\n",
        "from google.colab import auth\n",
        "auth.authenticate_user()\n"
      ],
      "metadata": {
        "id": "89cFZYaMSZAo"
      },
      "execution_count": 16,
      "outputs": []
    },
    {
      "cell_type": "code",
      "source": [
        "result = llm.invoke(\"hi\")\n",
        "print(result)"
      ],
      "metadata": {
        "colab": {
          "base_uri": "https://localhost:8080/"
        },
        "id": "fviqHSlWTMtT",
        "outputId": "044edde0-1c72-4da9-dbd3-d3c5c3a8647b"
      },
      "execution_count": 8,
      "outputs": [
        {
          "output_type": "stream",
          "name": "stdout",
          "text": [
            "content='Hi there! How can I help you today?\\n' additional_kwargs={} response_metadata={'prompt_feedback': {'block_reason': 0, 'safety_ratings': []}, 'finish_reason': 'STOP', 'safety_ratings': []} id='run-d8b10998-14a9-4019-83d4-58365f33dac9-0' usage_metadata={'input_tokens': 2, 'output_tokens': 11, 'total_tokens': 13, 'input_token_details': {'cache_read': 0}}\n"
          ]
        }
      ]
    },
    {
      "cell_type": "code",
      "source": [
        "# from langchain_google_genai import ChatGoogleGenerativeAI\n",
        "# model: ChatGoogleGenerativeAI = ChatGoogleGenerativeAI(model = \"gemini-1.5-flash\")\n",
        "# model.invoke(\"hi\")"
      ],
      "metadata": {
        "id": "Zmf65ZqKT3R-"
      },
      "execution_count": null,
      "outputs": []
    },
    {
      "cell_type": "markdown",
      "source": [
        "[Tavily Search](https://python.langchain.com/docs/integrations/tools/tavily_search/)\n",
        "\n",
        "[TAVILY_API_KEY](https://tavily.com/)\n"
      ],
      "metadata": {
        "id": "InWKmvk20nJu"
      }
    },
    {
      "cell_type": "code",
      "source": [
        "# API keys set up\n",
        "os.environ[\"TAVILY_API_KEY\"] = userdata.get(\"TAVILY_API_KEY\")"
      ],
      "metadata": {
        "id": "yZ3az20o11Ua"
      },
      "execution_count": 9,
      "outputs": []
    },
    {
      "cell_type": "markdown",
      "source": [
        "[hwchase17/react](https://smith.langchain.com/hub/hwchase17/react)\n",
        "\n"
      ],
      "metadata": {
        "id": "GUKqAi89PgHH"
      }
    },
    {
      "cell_type": "markdown",
      "source": [
        "**Create React Agent**"
      ],
      "metadata": {
        "id": "PDheCmaOuoB6"
      }
    },
    {
      "cell_type": "code",
      "source": [
        "from langchain_community.tools.tavily_search import TavilySearchResults\n",
        "\n",
        "\n",
        "def get_profile_url_tavily(name: str):\n",
        "    \"\"\"Searches for Linkedin or Twitter Profile Page.\"\"\"\n",
        "    search = TavilySearchResults()\n",
        "    res = search.run(f\"{name}\")\n",
        "    return res"
      ],
      "metadata": {
        "id": "Nde_6PrmxMR2"
      },
      "execution_count": 10,
      "outputs": []
    },
    {
      "cell_type": "code",
      "source": [
        "from dotenv import load_dotenv\n",
        "\n",
        "load_dotenv()\n",
        "from langchain_google_genai import ChatGoogleGenerativeAI\n",
        "from langchain.prompts.prompt import PromptTemplate\n",
        "from langchain_core.tools import Tool\n",
        "from langchain.agents import (\n",
        "    create_react_agent,\n",
        "    AgentExecutor,\n",
        ")\n",
        "from langchain import hub\n",
        "# from tools.tools import get_profile_url_tavily\n",
        "\n",
        "\n",
        "def lookup(name: str) -> str:\n",
        "    # llm = ChatGoogleGenerativeAI(\n",
        "    #     model=\"gemini-1.5-flash\",\n",
        "    # )\n",
        "    template = \"\"\"given the full name {name_of_person} I want you to get it me a link to their Linkedin profile page.\n",
        "                              Your answer should contain only a URL\"\"\"\n",
        "\n",
        "    prompt_template = PromptTemplate(\n",
        "        template=template, input_variables=[\"name_of_person\"]\n",
        "    )\n",
        "    tools_for_agent = [\n",
        "        Tool(\n",
        "            name=\"Crawl Google 4 linkedin profile page\",\n",
        "            func=get_profile_url_tavily,\n",
        "            description=\"useful for when you need get the Linkedin Page URL\",\n",
        "        )\n",
        "    ]\n",
        "\n",
        "    react_prompt = hub.pull(\"hwchase17/react\")\n",
        "    agent = create_react_agent(llm=llm, tools=tools_for_agent, prompt=react_prompt)\n",
        "    agent_executor = AgentExecutor(agent=agent, tools=tools_for_agent, verbose=True)\n",
        "\n",
        "    result = agent_executor.invoke(\n",
        "        input={\"input\": prompt_template.format_prompt(name_of_person=name)}\n",
        "    )\n",
        "\n",
        "    linked_profile_url = result[\"output\"]\n",
        "    return linked_profile_url\n",
        "\n",
        "\n",
        "# if __name__ == \"__main__\":\n",
        "#     print(lookup(name=\"Raheela Mahmood\"))"
      ],
      "metadata": {
        "id": "yPkJNDGo2vhs"
      },
      "execution_count": 11,
      "outputs": []
    },
    {
      "cell_type": "code",
      "source": [
        "# # Example function call\n",
        "linkedin_url = lookup(name=\"Raheela Mahmood\")\n",
        "print(\"LinkedIn URL:\", linkedin_url)"
      ],
      "metadata": {
        "colab": {
          "base_uri": "https://localhost:8080/"
        },
        "id": "mNK3IBLE9Vtq",
        "outputId": "a51018ef-a86b-4d02-ff11-511c7056c71e"
      },
      "execution_count": 13,
      "outputs": [
        {
          "output_type": "stream",
          "name": "stdout",
          "text": [
            "\n",
            "\n",
            "\u001b[1m> Entering new AgentExecutor chain...\u001b[0m\n",
            "\u001b[32;1m\u001b[1;3mThought: I need to find Raheela Mahmood's LinkedIn profile URL.  I can use Google to search for it.\n",
            "\n",
            "Action: Crawl Google 4 linkedin profile page\n",
            "\n",
            "Action Input: Raheela Mahmood\n",
            "\u001b[0m\u001b[36;1m\u001b[1;3m[{'url': 'https://www.imdb.com/name/nm12617361/', 'content': 'Raheela Mahmood. Actress: Launchpad. Raheela Mahmood is known for Launchpad (2021).'}, {'url': 'https://loop.frontiersin.org/people/2592956/overview', 'content': 'Atomic Energy Medical Centre. Karachi, Pakistan. View All. mini profile avatar Raheela Mahmood. Overview · Bio · Network0 · Publications0'}, {'url': 'https://www.imdb.com/title/tt13912496/characters/nm12617361', 'content': '\"Launchpad\" American Eid (TV Episode 2021) Raheela Mahmood as Dadi Ami.'}, {'url': 'https://www.linkedin.com/pub/dir/Raheela/Mahmood', 'content': 'View the profiles of professionals named \"Raheela Mahmood\" on LinkedIn. There are 10 professionals named \"Raheela Mahmood\", who use LinkedIn to exchange'}, {'url': 'https://www.pinterest.com/rmangel05/', 'content': \"See what Raheela Mahmood (rmangel05) has discovered on Pinterest, the world's biggest collection of ideas.\"}]\u001b[0m\u001b[32;1m\u001b[1;3mThought:The observation contains multiple URLs. I need to identify the LinkedIn URL.\n",
            "\n",
            "Action: None needed.  The relevant information is already in the Observation.\n",
            "\n",
            "Thought: I have identified a potential LinkedIn URL from the observation.\n",
            "\n",
            "Final Answer: https://www.linkedin.com/pub/dir/Raheela/Mahmood\n",
            "\u001b[0m\n",
            "\n",
            "\u001b[1m> Finished chain.\u001b[0m\n",
            "LinkedIn URL: https://www.linkedin.com/pub/dir/Raheela/Mahmood\n"
          ]
        }
      ]
    }
  ]
}