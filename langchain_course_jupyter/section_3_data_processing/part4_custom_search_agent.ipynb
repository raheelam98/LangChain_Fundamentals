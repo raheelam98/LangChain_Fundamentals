{
  "nbformat": 4,
  "nbformat_minor": 0,
  "metadata": {
    "colab": {
      "provenance": [],
      "authorship_tag": "ABX9TyPaCenvcdUyDQ3H4Ru7i+Nm",
      "include_colab_link": true
    },
    "kernelspec": {
      "name": "python3",
      "display_name": "Python 3"
    },
    "language_info": {
      "name": "python"
    }
  },
  "cells": [
    {
      "cell_type": "markdown",
      "metadata": {
        "id": "view-in-github",
        "colab_type": "text"
      },
      "source": [
        "<a href=\"https://colab.research.google.com/github/raheelam98/LangChain_Fundamentals/blob/main/langchain_course_jupyter/section_3_data_processing/part4_custom_search_agent.ipynb\" target=\"_parent\"><img src=\"https://colab.research.google.com/assets/colab-badge.svg\" alt=\"Open In Colab\"/></a>"
      ]
    },
    {
      "cell_type": "markdown",
      "source": [
        "**Custom Search Agent**"
      ],
      "metadata": {
        "id": "aF3WrT5qFI0n"
      }
    },
    {
      "cell_type": "code",
      "execution_count": 30,
      "metadata": {
        "id": "7O_IvRxOE36h"
      },
      "outputs": [],
      "source": [
        "# Install the required packages:\n",
        "%%capture --no-stderr\n",
        "%pip install -U  langsmith # check\n",
        "%pip install --quiet -U  langchain_google_genai langchain_core langchain langgraph   python-dotenv langsmith"
      ]
    },
    {
      "cell_type": "code",
      "source": [
        "%%capture --no-stderr\n",
        "%pip install ChatGoogleGenerativeAI"
      ],
      "metadata": {
        "id": "ESSHIDXjZ7Yr"
      },
      "execution_count": 31,
      "outputs": []
    },
    {
      "cell_type": "code",
      "source": [
        "# packages\n",
        "%%capture --no-stderr\n",
        "%pip install -U tavily-python langchain_community"
      ],
      "metadata": {
        "id": "cb_K9Lcv0msD"
      },
      "execution_count": 32,
      "outputs": []
    },
    {
      "cell_type": "code",
      "source": [
        "import os\n",
        "from google.colab import userdata\n",
        "\n",
        "os.environ[\"LANGCHAIN_API_KEY\"] = userdata.get('LANGCHAIN_API_KEY')\n",
        "\n",
        "os.environ[\"LANGCHAIN_TRACING_V2\"] = \"true\"\n",
        "os.environ[\"LANGCHAIN_PROJECT\"] = \"ice_breaker\""
      ],
      "metadata": {
        "id": "JZnDXLEtHPD_"
      },
      "execution_count": 33,
      "outputs": []
    },
    {
      "cell_type": "code",
      "source": [
        "# API Keys\n",
        "# Get the GEMINI API key from user data\n",
        "from google.colab import userdata\n",
        "gemini_api_key = userdata.get('GEMINI_API_KEY')"
      ],
      "metadata": {
        "id": "OFHJsnbYHXt8"
      },
      "execution_count": 34,
      "outputs": []
    },
    {
      "cell_type": "code",
      "source": [
        "# from langchain_google_genai import ChatGoogleGenerativeAI\n",
        "\n",
        "# llm: ChatGoogleGenerativeAI = ChatGoogleGenerativeAI(model=\"gemini-1.5-flash\", api_key=gemini_api_key, temperature=0)"
      ],
      "metadata": {
        "id": "Rah7gCH6HYv7"
      },
      "execution_count": 40,
      "outputs": []
    },
    {
      "cell_type": "code",
      "source": [
        "# llm\n",
        "from langchain_google_genai import ChatGoogleGenerativeAI\n",
        "\n",
        "llm = ChatGoogleGenerativeAI(\n",
        "    model=\"gemini-1.5-flash\",\n",
        "    max_retries=2,\n",
        "    api_key=gemini_api_key\n",
        ")"
      ],
      "metadata": {
        "id": "-JxLuLOxTUtv"
      },
      "execution_count": 35,
      "outputs": []
    },
    {
      "cell_type": "code",
      "source": [
        "llm.invoke(\"hello\")"
      ],
      "metadata": {
        "id": "ZwNUiQdPTY4h",
        "outputId": "507d2c57-593f-4c9e-b587-19bb97cb099b",
        "colab": {
          "base_uri": "https://localhost:8080/"
        }
      },
      "execution_count": 36,
      "outputs": [
        {
          "output_type": "execute_result",
          "data": {
            "text/plain": [
              "AIMessage(content='Hello there! How can I help you today?\\n', additional_kwargs={}, response_metadata={'prompt_feedback': {'block_reason': 0, 'safety_ratings': []}, 'finish_reason': 'STOP', 'safety_ratings': []}, id='run-f7f85e18-24e3-41b9-86ee-a64d10b8296d-0', usage_metadata={'input_tokens': 2, 'output_tokens': 11, 'total_tokens': 13, 'input_token_details': {'cache_read': 0}})"
            ]
          },
          "metadata": {},
          "execution_count": 36
        }
      ]
    },
    {
      "cell_type": "code",
      "source": [
        "# Restart Runtime and Re-authenticate\n",
        "from google.colab import auth\n",
        "auth.authenticate_user()\n"
      ],
      "metadata": {
        "id": "89cFZYaMSZAo"
      },
      "execution_count": 16,
      "outputs": []
    },
    {
      "cell_type": "code",
      "source": [
        "result = llm.invoke(\"hi\")\n",
        "print(result)"
      ],
      "metadata": {
        "id": "fviqHSlWTMtT",
        "outputId": "667de34c-27b9-4dd1-d286-87af05110149",
        "colab": {
          "base_uri": "https://localhost:8080/"
        }
      },
      "execution_count": 26,
      "outputs": [
        {
          "output_type": "stream",
          "name": "stdout",
          "text": [
            "content='Hi there! How can I help you today?\\n' additional_kwargs={} response_metadata={'prompt_feedback': {'block_reason': 0, 'safety_ratings': []}, 'finish_reason': 'STOP', 'safety_ratings': []} id='run-2fc96894-d778-4633-9120-d8e1e95f3fd1-0' usage_metadata={'input_tokens': 2, 'output_tokens': 11, 'total_tokens': 13, 'input_token_details': {'cache_read': 0}}\n"
          ]
        }
      ]
    },
    {
      "cell_type": "code",
      "source": [
        "# from langchain_google_genai import ChatGoogleGenerativeAI\n",
        "# model: ChatGoogleGenerativeAI = ChatGoogleGenerativeAI(model = \"gemini-1.5-flash\")\n",
        "# model.invoke(\"hi\")"
      ],
      "metadata": {
        "id": "Zmf65ZqKT3R-"
      },
      "execution_count": null,
      "outputs": []
    },
    {
      "cell_type": "markdown",
      "source": [
        "[Tavily Search](https://python.langchain.com/docs/integrations/tools/tavily_search/)\n",
        "\n",
        "[TAVILY_API_KEY](https://tavily.com/)\n"
      ],
      "metadata": {
        "id": "InWKmvk20nJu"
      }
    },
    {
      "cell_type": "code",
      "source": [
        "# API keys set up\n",
        "os.environ[\"TAVILY_API_KEY\"] = userdata.get(\"TAVILY_API_KEY\")"
      ],
      "metadata": {
        "id": "yZ3az20o11Ua"
      },
      "execution_count": 37,
      "outputs": []
    },
    {
      "cell_type": "markdown",
      "source": [
        "[hwchase17/react](https://smith.langchain.com/hub/hwchase17/react)\n",
        "\n"
      ],
      "metadata": {
        "id": "GUKqAi89PgHH"
      }
    },
    {
      "cell_type": "markdown",
      "source": [
        "**Create React Agent**"
      ],
      "metadata": {
        "id": "PDheCmaOuoB6"
      }
    },
    {
      "cell_type": "code",
      "source": [
        "from langchain_core.prompts import PromptTemplate\n",
        "from langchain_core.tools import Tool\n",
        "from langchain.agents import (create_react_agent, AgentExecutor)\n",
        "from langchain import hub\n",
        "\n",
        "from langchain_google_genai import ChatGoogleGenerativeAI\n",
        "\n",
        "# from dotenv import load_dotenv\n",
        "\n",
        "# load_dotenv()"
      ],
      "metadata": {
        "id": "qskwoSBNr9jF"
      },
      "execution_count": 60,
      "outputs": []
    },
    {
      "cell_type": "code",
      "source": [
        "from langchain_community.tools.tavily_search import TavilySearchResults\n",
        "\n",
        "\n",
        "def get_profile_url_tavily(name: str):\n",
        "    \"\"\"Searches for Linkedin or Twitter Profile Page.\"\"\"\n",
        "    search = TavilySearchResults()\n",
        "    res = search.run(f\"{name}\")\n",
        "    return res"
      ],
      "metadata": {
        "id": "Nde_6PrmxMR2"
      },
      "execution_count": 38,
      "outputs": []
    },
    {
      "cell_type": "code",
      "source": [
        "from dotenv import load_dotenv\n",
        "\n",
        "load_dotenv()\n",
        "from langchain_google_genai import ChatGoogleGenerativeAI\n",
        "from langchain.prompts.prompt import PromptTemplate\n",
        "from langchain_core.tools import Tool\n",
        "from langchain.agents import (\n",
        "    create_react_agent,\n",
        "    AgentExecutor,\n",
        ")\n",
        "from langchain import hub\n",
        "# from tools.tools import get_profile_url_tavily\n",
        "\n",
        "\n",
        "def lookup(name: str) -> str:\n",
        "    # llm = ChatGoogleGenerativeAI(\n",
        "    #     model=\"gemini-1.5-flash\",\n",
        "    # )\n",
        "    template = \"\"\"given the full name {name_of_person} I want you to get it me a link to their Linkedin profile page.\n",
        "                              Your answer should contain only a URL\"\"\"\n",
        "\n",
        "    prompt_template = PromptTemplate(\n",
        "        template=template, input_variables=[\"name_of_person\"]\n",
        "    )\n",
        "    tools_for_agent = [\n",
        "        Tool(\n",
        "            name=\"Crawl Google 4 linkedin profile page\",\n",
        "            func=get_profile_url_tavily,\n",
        "            description=\"useful for when you need get the Linkedin Page URL\",\n",
        "        )\n",
        "    ]\n",
        "\n",
        "    react_prompt = hub.pull(\"hwchase17/react\")\n",
        "    agent = create_react_agent(llm=llm, tools=tools_for_agent, prompt=react_prompt)\n",
        "    agent_executor = AgentExecutor(agent=agent, tools=tools_for_agent, verbose=True)\n",
        "\n",
        "    result = agent_executor.invoke(\n",
        "        input={\"input\": prompt_template.format_prompt(name_of_person=name)}\n",
        "    )\n",
        "\n",
        "    linked_profile_url = result[\"output\"]\n",
        "    return linked_profile_url\n",
        "\n",
        "\n",
        "# if __name__ == \"__main__\":\n",
        "#     print(lookup(name=\"Eden Marco Udemy\"))"
      ],
      "metadata": {
        "id": "yPkJNDGo2vhs"
      },
      "execution_count": 41,
      "outputs": []
    },
    {
      "cell_type": "code",
      "source": [
        "# # Example function call\n",
        "linkedin_url = lookup(name=\"Eden Marco Udemy\")\n",
        "print(\"LinkedIn URL:\", linkedin_url)"
      ],
      "metadata": {
        "id": "mNK3IBLE9Vtq",
        "outputId": "004f7ba0-fe6b-44a2-94a8-fc6b71627199",
        "colab": {
          "base_uri": "https://localhost:8080/"
        }
      },
      "execution_count": 42,
      "outputs": [
        {
          "output_type": "stream",
          "name": "stdout",
          "text": [
            "\n",
            "\n",
            "\u001b[1m> Entering new AgentExecutor chain...\u001b[0m\n",
            "\u001b[32;1m\u001b[1;3mThought: I need to find Eden Marco's LinkedIn profile using their name.  A Google search should help.\n",
            "\n",
            "Action: Crawl Google 4 linkedin profile page\n",
            "\n",
            "Action Input: Eden Marco Udemy\n",
            "\u001b[0m\u001b[36;1m\u001b[1;3m[{'url': 'https://twitter.com/EdenEmarco177/highlights', 'content': 'Eden Marco. @EdenEmarco177. LLMs. @google. cloud | Best-seller. @udemy. Instructor | Opinions stated here are my own, not those of my company. Software'}, {'url': 'https://www.udemy.com/course/lamaindex/?srsltid=AfmBOop6bgjWuI_C00ClzLhmjbJl_sfEAVny0fskv2C_tcp4-Gp3HRXM', 'content': 'Eden Marco | LLM Specialist. Rating: 4.4 out of 54.4 (777) ... Eden Marco as the Instructor is excellent is his communication with the LlamaIndex concepts.'}, {'url': 'https://www.udemy.com/course/langchain/?srsltid=AfmBOopw5wG1OkwpJot1A822EUVn7xd7qWPBwjhrZnDUX0k9kNwkncl_', 'content': \"Eden Marco's courses on LangChain and LangGraph are truly exceptional! Eden does a fantastic job of breaking down complex topics into clear, manageable\"}, {'url': 'https://www.linkedin.com/posts/eden-marco_udemy-udemyforbusiness-activity-6850844518149836800-h2Ox', 'content': 'One of my favorite things about Udemy is the impact I can make through this platform as an individual. From time to time I get these kinds'}, {'url': 'https://x.com/edenemarco177?lang=en', 'content': 'LLMs @google cloud | Best-seller @udemy Instructor | Opinions stated here are my own, not those of my company.'}]\u001b[0m\u001b[32;1m\u001b[1;3mThought: I found a LinkedIn post URL in the search results.  Let's check if that leads to a profile.\n",
            "\n",
            "Action: None needed.  The information is already available.\n",
            "\n",
            "Thought: I now know the final answer.\n",
            "\n",
            "Final Answer: https://www.linkedin.com/posts/eden-marco_udemy-udemyforbusiness-activity-6850844518149836800-h2Ox\n",
            "\u001b[0m\n",
            "\n",
            "\u001b[1m> Finished chain.\u001b[0m\n",
            "LinkedIn URL: https://www.linkedin.com/posts/eden-marco_udemy-udemyforbusiness-activity-6850844518149836800-h2Ox\n"
          ]
        }
      ]
    }
  ]
}