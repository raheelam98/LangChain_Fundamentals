{
  "nbformat": 4,
  "nbformat_minor": 0,
  "metadata": {
    "colab": {
      "provenance": [],
      "authorship_tag": "ABX9TyM3PY9rQCN6om3Q9lipNtpa",
      "include_colab_link": true
    },
    "kernelspec": {
      "name": "python3",
      "display_name": "Python 3"
    },
    "language_info": {
      "name": "python"
    }
  },
  "cells": [
    {
      "cell_type": "markdown",
      "metadata": {
        "id": "view-in-github",
        "colab_type": "text"
      },
      "source": [
        "<a href=\"https://colab.research.google.com/github/raheelam98/LangChain_Fundamentals/blob/main/langchain_course_jupyter/section_3_data_processing/part4_custom_search_agent.ipynb\" target=\"_parent\"><img src=\"https://colab.research.google.com/assets/colab-badge.svg\" alt=\"Open In Colab\"/></a>"
      ]
    },
    {
      "cell_type": "markdown",
      "source": [
        "**Custom Search Agent**"
      ],
      "metadata": {
        "id": "aF3WrT5qFI0n"
      }
    },
    {
      "cell_type": "code",
      "execution_count": 1,
      "metadata": {
        "id": "7O_IvRxOE36h"
      },
      "outputs": [],
      "source": [
        "# Install the required packages:\n",
        "%%capture --no-stderr\n",
        "%pip install -U  langsmith # check\n",
        "%pip install --quiet -U  langchain_google_genai langchain_core langchain langgraph   python-dotenv langsmith"
      ]
    },
    {
      "cell_type": "code",
      "source": [
        "%%capture --no-stderr\n",
        "%pip install ChatGoogleGenerativeAI"
      ],
      "metadata": {
        "id": "ESSHIDXjZ7Yr"
      },
      "execution_count": 2,
      "outputs": []
    },
    {
      "cell_type": "code",
      "source": [
        "# packages\n",
        "%%capture --no-stderr\n",
        "%pip install -U tavily-python langchain_community"
      ],
      "metadata": {
        "id": "cb_K9Lcv0msD"
      },
      "execution_count": 3,
      "outputs": []
    },
    {
      "cell_type": "code",
      "source": [
        "import os\n",
        "from google.colab import userdata\n",
        "\n",
        "os.environ[\"LANGCHAIN_API_KEY\"] = userdata.get('LANGCHAIN_API_KEY')\n",
        "\n",
        "os.environ[\"LANGCHAIN_TRACING_V2\"] = \"true\"\n",
        "os.environ[\"LANGCHAIN_PROJECT\"] = \"ice_breaker\""
      ],
      "metadata": {
        "id": "JZnDXLEtHPD_"
      },
      "execution_count": 4,
      "outputs": []
    },
    {
      "cell_type": "code",
      "source": [
        "# API Keys\n",
        "# Get the GEMINI API key from user data\n",
        "from google.colab import userdata\n",
        "gemini_api_key = userdata.get('GEMINI_API_KEY')"
      ],
      "metadata": {
        "id": "OFHJsnbYHXt8"
      },
      "execution_count": 5,
      "outputs": []
    },
    {
      "cell_type": "code",
      "source": [
        "# from langchain_google_genai import ChatGoogleGenerativeAI\n",
        "\n",
        "# llm: ChatGoogleGenerativeAI = ChatGoogleGenerativeAI(model=\"gemini-1.5-flash\", api_key=gemini_api_key, temperature=0)"
      ],
      "metadata": {
        "id": "Rah7gCH6HYv7"
      },
      "execution_count": 40,
      "outputs": []
    },
    {
      "cell_type": "code",
      "source": [
        "# llm\n",
        "from langchain_google_genai import ChatGoogleGenerativeAI\n",
        "\n",
        "llm = ChatGoogleGenerativeAI(\n",
        "    model=\"gemini-1.5-flash\",\n",
        "    max_retries=2,\n",
        "    api_key=gemini_api_key\n",
        ")"
      ],
      "metadata": {
        "id": "-JxLuLOxTUtv"
      },
      "execution_count": 6,
      "outputs": []
    },
    {
      "cell_type": "code",
      "source": [
        "llm.invoke(\"hello\")"
      ],
      "metadata": {
        "colab": {
          "base_uri": "https://localhost:8080/"
        },
        "id": "ZwNUiQdPTY4h",
        "outputId": "9f97610d-2a99-4199-809e-1a53cc8ce6b9"
      },
      "execution_count": 7,
      "outputs": [
        {
          "output_type": "execute_result",
          "data": {
            "text/plain": [
              "AIMessage(content='Hello there! How can I help you today?\\n', additional_kwargs={}, response_metadata={'prompt_feedback': {'block_reason': 0, 'safety_ratings': []}, 'finish_reason': 'STOP', 'safety_ratings': []}, id='run-d8adeaee-79ff-42d7-89db-32efcb0db82b-0', usage_metadata={'input_tokens': 2, 'output_tokens': 11, 'total_tokens': 13, 'input_token_details': {'cache_read': 0}})"
            ]
          },
          "metadata": {},
          "execution_count": 7
        }
      ]
    },
    {
      "cell_type": "code",
      "source": [
        "# Restart Runtime and Re-authenticate\n",
        "from google.colab import auth\n",
        "auth.authenticate_user()\n"
      ],
      "metadata": {
        "id": "89cFZYaMSZAo"
      },
      "execution_count": 16,
      "outputs": []
    },
    {
      "cell_type": "code",
      "source": [
        "result = llm.invoke(\"hi\")\n",
        "print(result)"
      ],
      "metadata": {
        "colab": {
          "base_uri": "https://localhost:8080/"
        },
        "id": "fviqHSlWTMtT",
        "outputId": "044edde0-1c72-4da9-dbd3-d3c5c3a8647b"
      },
      "execution_count": 8,
      "outputs": [
        {
          "output_type": "stream",
          "name": "stdout",
          "text": [
            "content='Hi there! How can I help you today?\\n' additional_kwargs={} response_metadata={'prompt_feedback': {'block_reason': 0, 'safety_ratings': []}, 'finish_reason': 'STOP', 'safety_ratings': []} id='run-d8b10998-14a9-4019-83d4-58365f33dac9-0' usage_metadata={'input_tokens': 2, 'output_tokens': 11, 'total_tokens': 13, 'input_token_details': {'cache_read': 0}}\n"
          ]
        }
      ]
    },
    {
      "cell_type": "code",
      "source": [
        "# from langchain_google_genai import ChatGoogleGenerativeAI\n",
        "# model: ChatGoogleGenerativeAI = ChatGoogleGenerativeAI(model = \"gemini-1.5-flash\")\n",
        "# model.invoke(\"hi\")"
      ],
      "metadata": {
        "id": "Zmf65ZqKT3R-"
      },
      "execution_count": null,
      "outputs": []
    },
    {
      "cell_type": "markdown",
      "source": [
        "[Tavily Search](https://python.langchain.com/docs/integrations/tools/tavily_search/)\n",
        "\n",
        "[TAVILY_API_KEY](https://tavily.com/)\n"
      ],
      "metadata": {
        "id": "InWKmvk20nJu"
      }
    },
    {
      "cell_type": "code",
      "source": [
        "# API keys set up\n",
        "os.environ[\"TAVILY_API_KEY\"] = userdata.get(\"TAVILY_API_KEY\")"
      ],
      "metadata": {
        "id": "yZ3az20o11Ua"
      },
      "execution_count": 9,
      "outputs": []
    },
    {
      "cell_type": "markdown",
      "source": [
        "[hwchase17/react](https://smith.langchain.com/hub/hwchase17/react)\n",
        "\n"
      ],
      "metadata": {
        "id": "GUKqAi89PgHH"
      }
    },
    {
      "cell_type": "markdown",
      "source": [
        "**Create React Agent**"
      ],
      "metadata": {
        "id": "PDheCmaOuoB6"
      }
    },
    {
      "cell_type": "code",
      "source": [
        "from langchain_community.tools.tavily_search import TavilySearchResults\n",
        "\n",
        "\n",
        "def get_profile_url_tavily(name: str):\n",
        "    \"\"\"Searches for Linkedin or Twitter Profile Page.\"\"\"\n",
        "    search = TavilySearchResults()\n",
        "    res = search.run(f\"{name}\")\n",
        "    return res"
      ],
      "metadata": {
        "id": "Nde_6PrmxMR2"
      },
      "execution_count": 10,
      "outputs": []
    },
    {
      "cell_type": "code",
      "source": [
        "from dotenv import load_dotenv\n",
        "\n",
        "load_dotenv()\n",
        "from langchain_google_genai import ChatGoogleGenerativeAI\n",
        "from langchain.prompts.prompt import PromptTemplate\n",
        "from langchain_core.tools import Tool\n",
        "from langchain.agents import (\n",
        "    create_react_agent,\n",
        "    AgentExecutor,\n",
        ")\n",
        "from langchain import hub\n",
        "# from tools.tools import get_profile_url_tavily\n",
        "\n",
        "\n",
        "def lookup(name: str) -> str:\n",
        "    # llm = ChatGoogleGenerativeAI(\n",
        "    #     model=\"gemini-1.5-flash\",\n",
        "    # )\n",
        "    template = \"\"\"given the full name {name_of_person} I want you to get it me a link to their Linkedin profile page.\n",
        "                              Your answer should contain only a URL\"\"\"\n",
        "\n",
        "    prompt_template = PromptTemplate(\n",
        "        template=template, input_variables=[\"name_of_person\"]\n",
        "    )\n",
        "    tools_for_agent = [\n",
        "        Tool(\n",
        "            name=\"Crawl Google 4 linkedin profile page\",\n",
        "            func=get_profile_url_tavily,\n",
        "            description=\"useful for when you need get the Linkedin Page URL\",\n",
        "        )\n",
        "    ]\n",
        "\n",
        "    react_prompt = hub.pull(\"hwchase17/react\")\n",
        "    agent = create_react_agent(llm=llm, tools=tools_for_agent, prompt=react_prompt)\n",
        "    agent_executor = AgentExecutor(agent=agent, tools=tools_for_agent, verbose=True)\n",
        "\n",
        "    result = agent_executor.invoke(\n",
        "        input={\"input\": prompt_template.format_prompt(name_of_person=name)}\n",
        "    )\n",
        "\n",
        "    linked_profile_url = result[\"output\"]\n",
        "    return linked_profile_url\n",
        "\n",
        "\n",
        "# if __name__ == \"__main__\":\n",
        "#     print(lookup(name=\"Eden Marco Udemy\"))"
      ],
      "metadata": {
        "id": "yPkJNDGo2vhs"
      },
      "execution_count": 11,
      "outputs": []
    },
    {
      "cell_type": "code",
      "source": [
        "# # Example function call\n",
        "linkedin_url = lookup(name=\"Eden Marco Udemy\")\n",
        "print(\"LinkedIn URL:\", linkedin_url)"
      ],
      "metadata": {
        "colab": {
          "base_uri": "https://localhost:8080/"
        },
        "id": "mNK3IBLE9Vtq",
        "outputId": "602a05a8-069f-4262-d446-35c874c8a82c"
      },
      "execution_count": 12,
      "outputs": [
        {
          "output_type": "stream",
          "name": "stdout",
          "text": [
            "\n",
            "\n",
            "\u001b[1m> Entering new AgentExecutor chain...\u001b[0m\n",
            "\u001b[32;1m\u001b[1;3mThought: I need to find Eden Marco's LinkedIn profile URL using their full name.  I can use Google to search for their LinkedIn profile.\n",
            "\n",
            "Action: Crawl Google 4 linkedin profile page\n",
            "\n",
            "Action Input: Eden Marco Udemy\n",
            "\u001b[0m\u001b[36;1m\u001b[1;3m[{'url': 'https://twitter.com/EdenEmarco177/highlights', 'content': 'Eden Marco. @EdenEmarco177. LLMs. @google. cloud | Best-seller. @udemy. Instructor | Opinions stated here are my own, not those of my company. Software'}, {'url': 'https://www.udemy.com/course/lamaindex/?srsltid=AfmBOoqPVRiUMX68PwtTXJRC3W36evGdI_aBH7OGvCbYvPpOQi09uHSk', 'content': 'Eden Marco | LLM Specialist. Rating: 4.4 out of 54.4 (777) ... Eden Marco as the Instructor is excellent is his communication with the LlamaIndex concepts.'}, {'url': 'https://www.udemy.com/course/langchain/?srsltid=AfmBOorZyaCnPCxa5JWVdLp2ozfvrY__6HpylCCOPlGWb5Jtm4f-eT-O', 'content': \"Eden Marco's courses on LangChain and LangGraph are truly exceptional! Eden does a fantastic job of breaking down complex topics into clear, manageable\"}, {'url': 'https://www.udemy.com/course/langgraph/?srsltid=AfmBOorK_JV2mQuM--4-ts0SYOEe5A9qhg1EeOBnrv5HKxA9GN1SajbV', 'content': 'Thank you Eden Marco for this course on LangGraph. It is very informative and I recommend it to everyone working on building RAG agents and working in AI'}, {'url': 'https://www.linkedin.com/posts/eden-marco_udemy-udemyforbusiness-activity-6850844518149836800-h2Ox', 'content': 'One of my favorite things about Udemy is the impact I can make through this platform as an individual. From time to time I get these kinds'}]\u001b[0m\u001b[32;1m\u001b[1;3mThought: I found several links related to Eden Marco and Udemy, but only one appears to be a LinkedIn post.  I need to check if there's a direct link to their LinkedIn profile.\n",
            "\n",
            "Action: Crawl Google 4 linkedin profile page\n",
            "\n",
            "Action Input: Eden Marco LinkedIn\n",
            "\u001b[0m\u001b[36;1m\u001b[1;3m[{'url': 'https://ca.linkedin.com/in/eden-marco-34b5a6250', 'content': 'Join now\\nPeople also viewed\\nAna Janic\\nKayla Saul\\nJessica Poliwoda\\nAleeza Qayyum\\nJonathan Raspanti\\nDaniel Kurtz\\nAnushka Pradhan\\nPablo Gonzalez\\nHailey Bensky\\nCarly Keshen\\nRagav Chona\\nYasmin Abo Halima\\nMeerab Majeed\\nJaimie Kerzner\\nJessica Hira\\nOlivia Varkul\\nDiksha Sharma\\nLauren Fleshner, MSc\\nCheikh Tchouambou Youmbi\\nNadav Gasner\\nExplore collaborative articles\\n I would like to thank Erin…\\nExperience & Education\\nUniversity Health Network\\n******** ******* - ******** ** *******, ************** *** **** *******\\n*******\\n******* ****** ********** **********\\n******** ******\\n******** *****\\n********** ** *******\\n****** ** ******** - **\\n2022 - 2026\\n**** **********\\n******** ** ******* - *** *******\\n2018 - 2022\\nView Eden’s full experience\\nSee their title, tenure and more.\\n Join now\\nToronto, Ontario, Canada\\nContact Info\\nSign in to view Eden’s full profile\\nSign in\\nWelcome back\\nEmail or phone\\nPassword\\nShow\\nForgot password?\\nSign in\\nor\\nBy clicking Continue, you agree to LinkedIn’s User Agreement, Privacy Policy, and Cookie Policy.\\n Certified Tour Guide\\nSmart Serve\\nFirst Aid & CPR/AED Level C\\nVolunteer Experience\\nCommunity Volunteer\\nAug 2023 - Present\\n6 months\\nMentor\\nJun 2023 - Present\\n8 months\\nVolunteer\\nJul 2015 - Present\\n8 years 7 months\\nOffer companionship to elderly individuals living with neurodegenerative diseases and assist in leading recreational activities, including bingo night, monthly concerts, and virtual pet therapy sessions.\\n Others named Eden Marco\\nEden Marco\\nEden Marco\\nEden Marco\\nEden Marco\\n7 others named Eden Marco are on LinkedIn\\nAgree & Join LinkedIn\\nBy clicking Continue, you agree to LinkedIn’s User Agreement, Privacy Policy, and Cookie Policy.\\n'}, {'url': 'https://www.linkedin.com/posts/eden-marco_i-was-thrilled-to-lead-yesterdays-huge-activity-7072463699294208000-DBRh', 'content': 'Better Resistance against prompt injection attacks\\nCheckout the LangChain ðŸ¦œðŸ”— usage:\\nhttps://lnkd.in/dAMu-m6A\\nBig shoutout to Oleksandr Yaremchuk and Neal Swaelens ðŸ™Œ\\nTo view or add a comment, sign in\\nEden Marco reposted this\\nDirector of AI Innovation at Orca Security ðŸš€ 2x ðŸ˜‰\\nMobile App Product Manager, Data analytics , Full Stack Mobile App Developer , Scrum Master certified, Inventory Specialist,\\nand Entrepreneurship and Business Model Consultant\\nAnd you donâ€™t even know how many people you have helped with your teaching\\nTechnological Strategy Advisor; Google Developer Expert for ML - Generative AI; Google Accelerator Mentor & Sprints Master; Startup Founder\\nIs there any recording of the event?\\nEngineering @ ðŸš€\\nOne of the highlights was the demonstration \"Chat with your Repo\" assistant, which is powered by LangChainðŸ¦œðŸ”—, PineconeðŸŒ², PaLM 2 all operating seamlessly on Google Cloud â˜�ï¸�\\nA special shout-out to Pinecone\\'s Roei Mutay and Roy Miara for their insightful talk on Retrieval Augmented Generation and strategies to handle LLM\\'s \"illucinations\". Over the past few months, there\\'s been a tremendous push in refactoring their framework, all aimed at providing an infrastructure that\\'s geared towards building more secure and reliable apps\\nDisclaimer: The thoughts and opinions shared here are entirely my own and do not represent those of my employer or any other affiliated organizations.\\n Eden Marcoâ€™s Post\\nLLM Lead @ Google Cloud | Best-selling Udemy Instructor | Backend dev with passion for GenAI\\nI was thrilledÂ\\xa0 to lead yesterday\\'s HUGE Google Cloudâ˜�ï¸� + PineconeðŸŒ² event in Tel Aviv!\\n'}, {'url': 'https://www.linkedin.com/in/edenmarco', 'content': 'Strategy Analyst at Deloitte · Experience: Deloitte Digital · Education: UNC Kenan-Flagler Business School · Location: New York · 500+ connections on'}, {'url': 'https://www.linkedin.com/in/eden-marco-875211201', 'content': 'Doctor of Optometry Candidate · Experience: Massachusetts College of Pharmacy and Health Sciences · Education: Massachusetts College of Pharmacy and Health'}, {'url': 'https://www.linkedin.com/in/eden-marco', 'content': 'Sign Up | LinkedIn Agree & Join LinkedIn By clicking Continue to join or sign in, you agree to LinkedIn’s User Agreement, Privacy Policy, and Cookie Policy. LinkedIn Join LinkedIn Email Password (6+ characters) By clicking Agree & Join, you agree to the LinkedIn User Agreement, Privacy Policy, and Cookie Policy. Agree & Join         Already on Linkedin? Email or phone Password Forgot password? By clicking Continue to join or sign in, you agree to LinkedIn’s User Agreement, Privacy Policy, and Cookie Policy. New to Linkedin? Join now LinkedIn LinkedIn is better on the app Don’t have the app? LinkedIn © 2024 Privacy Policy Cookie Policy Copyright Policy Brand Policy Bahasa Indonesia (Indonesian) Bahasa Malaysia (Malay) 简体中文 (Chinese (Simplified)) 正體中文 (Chinese (Traditional))'}]\u001b[0m\u001b[32;1m\u001b[1;3mThought: I have multiple LinkedIn URLs for people named Eden Marco. I need to determine which is the correct profile.  The URLs with longer strings of numbers after \"eden-marco\" are less likely to be the correct profile.  I will prioritize URLs that are short and/or seem to have more relevant information.\n",
            "\n",
            "Action: Crawl Google 4 linkedin profile page\n",
            "\n",
            "Action Input: Eden Marco Google Cloud\n",
            "\u001b[0m\u001b[36;1m\u001b[1;3m[{'url': 'https://www.udemy.com/user/eden-marco/?srsltid=AfmBOop8jgpTUxVGl_Pkmsb9vL0kLY9DhPMu90cN6HMhvVtmpmqqMUZs', 'content': 'Eden Marco | LLM Specialist is a Udemy instructor with educational courses available for enrollment ... Google Cloud. BSC in Computer Science from the Technion -'}, {'url': 'https://www.facebook.com/photo.php?fbid=922535113242537&set=a.617022923793759&type=3', 'content': 'Eden Marco, a seasoned backend software engineer with a deep-rooted expertise in generative AI, cloud, and cybersecurity, delivered a well-received presentation'}, {'url': 'https://www.linkedin.com/posts/eden-marco_im-speaking-at-google-cloud-day-will-activity-7257660545988759552-thod', 'content': \"Eden Marco on LinkedIn: I’m speaking at Google Cloud Day :) Will be discussing building GenAI… [Skip to main content](https://www.linkedin.com/posts/eden-marco_im-speaking-at-google-cloud-day-will-activity-7257660545988759552-thod#main-content) I’m speaking at Google Cloud Day :) Will be discussing building GenAI applications but most importantly focusing on securing agentic workloads 🤖 Register to the event – happening on November 25th https://lnkd.in/dEicC77q I’m speaking at Google Cloud Day :) Will be discussing building GenAI applications but most importantly focusing on securing agentic workloads 🤖 Register to the event – happening on November 25th https://lnkd.in/dEicC77q Join Egen at Google Cloud Next '24 in Las Vegas from 9-11 April. Share your #CloudSecret via this form:\\xa0https://lnkd.in/dWGy4h9D We will choose the 3 best insights at the Google Cloud Summit on June 12th.\"}, {'url': 'https://x.com/edenemarco177?lang=en', 'content': 'LLMs @google cloud | Best-seller @udemy Instructor | Opinions stated here are my own, not those of my company.'}, {'url': 'https://odsc.com/blog/speaker/eden-marco/', 'content': 'With years of experience in backend development, he currently works at Google as an LLM Specialist, assisting customers in implementing complex generative AI solutions on GCP using open-source frameworks like LangChain and Google\\'s generative AI services. <span class=\"etn-schedule-location\"> <span class=\"firstfocus\">LLMs</span> <span class=\"secfocus\">All Levels</span> </span>Welcome to an engaging and intensive hands-on workshop designed to unleash the power of LLM agents using the LangGraph library by LangChain. This two-hour session is crafted for AI practitioners who already possess a background in Python and familiarity with LangChain, aiming to elevate their skills in developing cutting-edge LLM agentic applications. <span class=\"etn-schedule-location\"> <span class=\"firstfocus\">LLMs</span> <span class=\"etn-schedule-location\"> <span class=\"firstfocus\">AI Agents</span> <span class=\"secfocus\">All Levels</span> </span>Welcome to an engaging and intensive hands-on workshop designed to unleash the power of LLM agents using the LangGraph library by LangChain.'}]\u001b[0m\u001b[32;1m\u001b[1;3mThought: I have several LinkedIn URLs, but I need to find the most likely correct one for Eden Marco, considering his association with Google Cloud and Udemy.  I'll examine the URLs and their associated content to make the best determination.\n",
            "\n",
            "Action: Crawl Google 4 linkedin profile page\n",
            "\n",
            "Action Input: Eden Marco linkedin\n",
            "\u001b[0m\u001b[36;1m\u001b[1;3m[{'url': 'https://ca.linkedin.com/in/eden-marco-34b5a6250', 'content': 'Join now\\nPeople also viewed\\nAna Janic\\nKayla Saul\\nJessica Poliwoda\\nAleeza Qayyum\\nJonathan Raspanti\\nDaniel Kurtz\\nAnushka Pradhan\\nPablo Gonzalez\\nHailey Bensky\\nCarly Keshen\\nRagav Chona\\nYasmin Abo Halima\\nMeerab Majeed\\nJaimie Kerzner\\nJessica Hira\\nOlivia Varkul\\nDiksha Sharma\\nLauren Fleshner, MSc\\nCheikh Tchouambou Youmbi\\nNadav Gasner\\nExplore collaborative articles\\n I would like to thank Erin…\\nExperience & Education\\nUniversity Health Network\\n******** ******* - ******** ** *******, ************** *** **** *******\\n*******\\n******* ****** ********** **********\\n******** ******\\n******** *****\\n********** ** *******\\n****** ** ******** - **\\n2022 - 2026\\n**** **********\\n******** ** ******* - *** *******\\n2018 - 2022\\nView Eden’s full experience\\nSee their title, tenure and more.\\n Join now\\nToronto, Ontario, Canada\\nContact Info\\nSign in to view Eden’s full profile\\nSign in\\nWelcome back\\nEmail or phone\\nPassword\\nShow\\nForgot password?\\nSign in\\nor\\nBy clicking Continue, you agree to LinkedIn’s User Agreement, Privacy Policy, and Cookie Policy.\\n Certified Tour Guide\\nSmart Serve\\nFirst Aid & CPR/AED Level C\\nVolunteer Experience\\nCommunity Volunteer\\nAug 2023 - Present\\n6 months\\nMentor\\nJun 2023 - Present\\n8 months\\nVolunteer\\nJul 2015 - Present\\n8 years 7 months\\nOffer companionship to elderly individuals living with neurodegenerative diseases and assist in leading recreational activities, including bingo night, monthly concerts, and virtual pet therapy sessions.\\n Others named Eden Marco\\nEden Marco\\nEden Marco\\nEden Marco\\nEden Marco\\n7 others named Eden Marco are on LinkedIn\\nAgree & Join LinkedIn\\nBy clicking Continue, you agree to LinkedIn’s User Agreement, Privacy Policy, and Cookie Policy.\\n'}, {'url': 'https://www.linkedin.com/posts/eden-marco_i-was-thrilled-to-lead-yesterdays-huge-activity-7072463699294208000-DBRh', 'content': 'Better Resistance against prompt injection attacks\\nCheckout the LangChain ðŸ¦œðŸ”— usage:\\nhttps://lnkd.in/dAMu-m6A\\nBig shoutout to Oleksandr Yaremchuk and Neal Swaelens ðŸ™Œ\\nTo view or add a comment, sign in\\nEden Marco reposted this\\nDirector of AI Innovation at Orca Security ðŸš€ 2x ðŸ˜‰\\nMobile App Product Manager, Data analytics , Full Stack Mobile App Developer , Scrum Master certified, Inventory Specialist,\\nand Entrepreneurship and Business Model Consultant\\nAnd you donâ€™t even know how many people you have helped with your teaching\\nTechnological Strategy Advisor; Google Developer Expert for ML - Generative AI; Google Accelerator Mentor & Sprints Master; Startup Founder\\nIs there any recording of the event?\\nEngineering @ ðŸš€\\nOne of the highlights was the demonstration \"Chat with your Repo\" assistant, which is powered by LangChainðŸ¦œðŸ”—, PineconeðŸŒ², PaLM 2 all operating seamlessly on Google Cloud â˜�ï¸�\\nA special shout-out to Pinecone\\'s Roei Mutay and Roy Miara for their insightful talk on Retrieval Augmented Generation and strategies to handle LLM\\'s \"illucinations\". Over the past few months, there\\'s been a tremendous push in refactoring their framework, all aimed at providing an infrastructure that\\'s geared towards building more secure and reliable apps\\nDisclaimer: The thoughts and opinions shared here are entirely my own and do not represent those of my employer or any other affiliated organizations.\\n Eden Marcoâ€™s Post\\nLLM Lead @ Google Cloud | Best-selling Udemy Instructor | Backend dev with passion for GenAI\\nI was thrilledÂ\\xa0 to lead yesterday\\'s HUGE Google Cloudâ˜�ï¸� + PineconeðŸŒ² event in Tel Aviv!\\n'}, {'url': 'https://www.linkedin.com/in/edenmarco', 'content': 'Strategy Analyst at Deloitte · Experience: Deloitte Digital · Education: UNC Kenan-Flagler Business School · Location: New York · 500+ connections on'}, {'url': 'https://www.linkedin.com/in/eden-marco-875211201', 'content': 'Doctor of Optometry Candidate · Experience: Massachusetts College of Pharmacy and Health Sciences · Education: Massachusetts College of Pharmacy and Health'}, {'url': 'https://www.linkedin.com/in/eden-marco', 'content': 'Sign Up | LinkedIn Agree & Join LinkedIn By clicking Continue to join or sign in, you agree to LinkedIn’s User Agreement, Privacy Policy, and Cookie Policy. LinkedIn Join LinkedIn Email Password (6+ characters) By clicking Agree & Join, you agree to the LinkedIn User Agreement, Privacy Policy, and Cookie Policy. Agree & Join         Already on Linkedin? Email or phone Password Forgot password? By clicking Continue to join or sign in, you agree to LinkedIn’s User Agreement, Privacy Policy, and Cookie Policy. New to Linkedin? Join now LinkedIn LinkedIn is better on the app Don’t have the app? LinkedIn © 2024 Privacy Policy Cookie Policy Copyright Policy Brand Policy Bahasa Indonesia (Indonesian) Bahasa Malaysia (Malay) 简体中文 (Chinese (Simplified)) 正體中文 (Chinese (Traditional))'}]\u001b[0m\u001b[32;1m\u001b[1;3mThought: I need to analyze the LinkedIn URLs returned and select the most probable one based on the provided context (Eden Marco, Google Cloud, Udemy).  The URLs with long alphanumeric strings are likely less relevant.  I'll look for mentions of Google Cloud or Udemy in the profile descriptions.\n",
            "\n",
            "Action: Crawl Google 4 linkedin profile page\n",
            "\n",
            "Action Input: Eden Marco LLM Google Cloud Udemy\n",
            "\u001b[0m\u001b[36;1m\u001b[1;3m[{'url': 'https://www.udemy.com/user/eden-marco/?srsltid=AfmBOoqnnsi4N_S7SqK7gIx3lxE0XQMhoaRMKHLqS6i-RiqMOqMkYa-G', 'content': 'Eden Marco | LLM Specialist is a Udemy instructor with educational courses available for enrollment ... Google Cloud. BSC in Computer Science from the Technion -'}, {'url': 'https://www.linkedin.com/posts/eden-marco_udemy-udemyforbusiness-activity-6850844518149836800-h2Ox', 'content': \"Eden Marco's Post. View profile for Eden Marco, graphic. Eden Marco. LLMs @ Google Cloud | Best-selling Udemy Instructor | Backend & GenAI\"}, {'url': 'https://gist.github.com/matsko/51f64472f5e4ea8c715c41e1502e9ff3', 'content': '\"occupation\": \"LLM Specialist, Customer Engineering - Google Cloud at Google\",. \"headline\": \"LLM Specialist @ Google Cloud | Best-selling Udemy Instructor'}, {'url': 'https://x.com/edenemarco177?lang=en', 'content': 'LLMs @google cloud | Best-seller @udemy Instructor | Opinions stated here are my own, not those of my company.'}, {'url': 'https://odsc.com/blog/speaker/eden-marco/', 'content': 'With years of experience in backend development, he currently works at Google as an LLM Specialist, assisting customers in implementing complex generative AI solutions on GCP using open-source frameworks like LangChain and Google\\'s generative AI services. <span class=\"etn-schedule-location\"> <span class=\"firstfocus\">LLMs</span> <span class=\"secfocus\">All Levels</span> </span>Welcome to an engaging and intensive hands-on workshop designed to unleash the power of LLM agents using the LangGraph library by LangChain. This two-hour session is crafted for AI practitioners who already possess a background in Python and familiarity with LangChain, aiming to elevate their skills in developing cutting-edge LLM agentic applications. <span class=\"etn-schedule-location\"> <span class=\"firstfocus\">LLMs</span> <span class=\"etn-schedule-location\"> <span class=\"firstfocus\">AI Agents</span> <span class=\"secfocus\">All Levels</span> </span>Welcome to an engaging and intensive hands-on workshop designed to unleash the power of LLM agents using the LangGraph library by LangChain.'}]\u001b[0m\u001b[32;1m\u001b[1;3mThought: I have gathered information from multiple sources.  The LinkedIn profile with the most relevant information is the one mentioned in multiple sources that explicitly mentions \"Google Cloud\" and \"Udemy\" in the context of Eden Marco's work.  I will now identify that URL.\n",
            "\n",
            "Action: Crawl Google 4 linkedin profile page\n",
            "\n",
            "Action Input: Eden Marco Google Cloud Udemy LinkedIn\n",
            "\u001b[0m\u001b[36;1m\u001b[1;3m[{'url': 'https://www.linkedin.com/posts/eden-marco_google-pinecone-ai-activity-7069010568682086401-uY23', 'content': \"Eden Marco's Post. View profile for Eden Marco, graphic. Eden Marco. LLMs @ Google Cloud | Best-selling Udemy Instructor | Backend & GenAI\"}, {'url': 'https://www.linkedin.com/posts/eden-marco_udemy-activity-7000870192247377920-v6_E?trk=posts_directory', 'content': \"Eden Marco's Post. View profile for Eden Marco, graphic. Eden Marco. LLMs @ Google Cloud | Best-selling Udemy Instructor | Backend & GenAI\"}, {'url': 'https://www.linkedin.com/posts/eden-marco_udemy-udemyforbusiness-activity-6850844518149836800-h2Ox', 'content': \"Eden Marco's Post. View profile for Eden Marco, graphic. Eden Marco. LLMs @ Google Cloud | Best-selling Udemy Instructor | Backend & GenAI\"}, {'url': 'https://www.linkedin.com/posts/eden-marco_im-speaking-at-google-cloud-day-will-activity-7257660545988759552-thod', 'content': \"Eden Marco on LinkedIn: I’m speaking at Google Cloud Day :) Will be discussing building GenAI… [Skip to main content](https://www.linkedin.com/posts/eden-marco_im-speaking-at-google-cloud-day-will-activity-7257660545988759552-thod#main-content) I’m speaking at Google Cloud Day :) Will be discussing building GenAI applications but most importantly focusing on securing agentic workloads 🤖 Register to the event – happening on November 25th https://lnkd.in/dEicC77q I’m speaking at Google Cloud Day :) Will be discussing building GenAI applications but most importantly focusing on securing agentic workloads 🤖 Register to the event – happening on November 25th https://lnkd.in/dEicC77q Join Egen at Google Cloud Next '24 in Las Vegas from 9-11 April. Share your #CloudSecret via this form:\\xa0https://lnkd.in/dWGy4h9D We will choose the 3 best insights at the Google Cloud Summit on June 12th.\"}, {'url': 'https://www.linkedin.com/posts/eden-marco_i-was-thrilled-to-lead-yesterdays-huge-activity-7072463699294208000-DBRh', 'content': 'Better Resistance against prompt injection attacks\\nCheckout the LangChain ðŸ¦œðŸ”— usage:\\nhttps://lnkd.in/dAMu-m6A\\nBig shoutout to Oleksandr Yaremchuk and Neal Swaelens ðŸ™Œ\\nTo view or add a comment, sign in\\nEden Marco reposted this\\nDirector of AI Innovation at Orca Security ðŸš€ 2x ðŸ˜‰\\nMobile App Product Manager, Data analytics , Full Stack Mobile App Developer , Scrum Master certified, Inventory Specialist,\\nand Entrepreneurship and Business Model Consultant\\nAnd you donâ€™t even know how many people you have helped with your teaching\\nTechnological Strategy Advisor; Google Developer Expert for ML - Generative AI; Google Accelerator Mentor & Sprints Master; Startup Founder\\nIs there any recording of the event?\\nEngineering @ ðŸš€\\nOne of the highlights was the demonstration \"Chat with your Repo\" assistant, which is powered by LangChainðŸ¦œðŸ”—, PineconeðŸŒ², PaLM 2 all operating seamlessly on Google Cloud â˜�ï¸�\\nA special shout-out to Pinecone\\'s Roei Mutay and Roy Miara for their insightful talk on Retrieval Augmented Generation and strategies to handle LLM\\'s \"illucinations\". Over the past few months, there\\'s been a tremendous push in refactoring their framework, all aimed at providing an infrastructure that\\'s geared towards building more secure and reliable apps\\nDisclaimer: The thoughts and opinions shared here are entirely my own and do not represent those of my employer or any other affiliated organizations.\\n Eden Marcoâ€™s Post\\nLLM Lead @ Google Cloud | Best-selling Udemy Instructor | Backend dev with passion for GenAI\\nI was thrilledÂ\\xa0 to lead yesterday\\'s HUGE Google Cloudâ˜�ï¸� + PineconeðŸŒ² event in Tel Aviv!\\n'}]\u001b[0m\u001b[32;1m\u001b[1;3mThought:I have identified multiple LinkedIn posts by Eden Marco, but I need to find his main profile URL.  The posts consistently mention his association with Google Cloud and Udemy, which helps confirm his identity.  However,  I need a direct link to his profile, not just posts.  The previous searches haven't yielded a definitive profile URL. I will try a different search strategy.\n",
            "\n",
            "Action: Crawl Google 4 linkedin profile page\n",
            "\n",
            "Action Input: \"Eden Marco\" \"LLM Specialist\" LinkedIn\n",
            "\u001b[0m\u001b[36;1m\u001b[1;3m[{'url': 'https://www.linkedin.com/posts/eden-marco_test-coverage-may-not-be-glamorous-but-its-activity-7090203275571949568-1tj2', 'content': \"Eden Marco's Post. View profile for Eden Marco, graphic. Eden ... LLM Specialist | Generative AI Expert | Startup advisor | Public Speaker.\"}, {'url': 'https://www.linkedin.com/posts/eden-marco_big-shoutout-to-upwind-security-for-their-activity-7181343742786740225-la20', 'content': \"Eden Marco's Post. View profile for Eden Marco, graphic. Eden ... LLM Specialist | Generative AI Expert | Startup advisor | Public Speaker.\"}, {'url': 'https://www.linkedin.com/posts/eden-marco_i-was-thrilled-to-lead-yesterdays-huge-activity-7072463699294208000-DBRh', 'content': 'Better Resistance against prompt injection attacks\\nCheckout the LangChain ðŸ¦œðŸ”— usage:\\nhttps://lnkd.in/dAMu-m6A\\nBig shoutout to Oleksandr Yaremchuk and Neal Swaelens ðŸ™Œ\\nTo view or add a comment, sign in\\nEden Marco reposted this\\nDirector of AI Innovation at Orca Security ðŸš€ 2x ðŸ˜‰\\nMobile App Product Manager, Data analytics , Full Stack Mobile App Developer , Scrum Master certified, Inventory Specialist,\\nand Entrepreneurship and Business Model Consultant\\nAnd you donâ€™t even know how many people you have helped with your teaching\\nTechnological Strategy Advisor; Google Developer Expert for ML - Generative AI; Google Accelerator Mentor & Sprints Master; Startup Founder\\nIs there any recording of the event?\\nEngineering @ ðŸš€\\nOne of the highlights was the demonstration \"Chat with your Repo\" assistant, which is powered by LangChainðŸ¦œðŸ”—, PineconeðŸŒ², PaLM 2 all operating seamlessly on Google Cloud â˜�ï¸�\\nA special shout-out to Pinecone\\'s Roei Mutay and Roy Miara for their insightful talk on Retrieval Augmented Generation and strategies to handle LLM\\'s \"illucinations\". Over the past few months, there\\'s been a tremendous push in refactoring their framework, all aimed at providing an infrastructure that\\'s geared towards building more secure and reliable apps\\nDisclaimer: The thoughts and opinions shared here are entirely my own and do not represent those of my employer or any other affiliated organizations.\\n Eden Marcoâ€™s Post\\nLLM Lead @ Google Cloud | Best-selling Udemy Instructor | Backend dev with passion for GenAI\\nI was thrilledÂ\\xa0 to lead yesterday\\'s HUGE Google Cloudâ˜�ï¸� + PineconeðŸŒ² event in Tel Aviv!\\n'}, {'url': 'https://www.linkedin.com/posts/eden-marco_google-pinecone-ai-activity-7069010568682086401-uY23', 'content': \"Eden Marco's Post. View profile for Eden Marco, graphic. Eden Marco. LLMs @ Google Cloud | Best-selling Udemy Instructor |\"}, {'url': 'https://www.linkedin.com/posts/eden-marco_its-about-time-introducing-activity-7109750234959818752-NV2k', 'content': \"Better Resistance against prompt injection attacks\\nCheckout the LangChain ðŸ¦œðŸ”— usage:\\nhttps://lnkd.in/dAMu-m6A\\nBig shoutout to Oleksandr Yaremchuk and Neal Swaelens ðŸ™Œ\\nExperienced security professional managing AI in regulated environments\\nThis seems more like DLP than actual security.\\n Over the past few months, there's been a tremendous push in refactoring their framework, all aimed at providing an infrastructure that's geared towards building more secure and reliable apps\\nDisclaimer: The thoughts and opinions shared here are entirely my own and do not represent those of my employer or any other affiliated organizations.\\n Global Gen AI CoE Leader | AI & DS Senior Manager\\nHugh Bethell Vaibhav Chadha Luis Esgueva MariÃ±o\\nTo view or add a comment, sign in\\nMore Relevant Posts\\nLLM Lead @ Colin Fraser | @colin-fraser.net on bsky (@colin_fraser) on X\\nTo view or add a comment, sign in\\nEden Marco reposted this\\nDirector of AI Innovation at Orca Security ðŸš€ 2x Why is it a MUST-HAVE for using LLMs in production?\\n- ðŸ›¡ Sanitization\\n- ðŸš« Harmful language detection\\n- ðŸ•µâ™€ï¸� Data leakage prevention\\n- ðŸ’ª\"}]\u001b[0m\u001b[32;1m\u001b[1;3mThought: I have tried multiple search queries on Google, but haven't been able to reliably extract Eden Marco's LinkedIn profile URL. The information consistently points to his association with Google Cloud and Udemy, but the direct profile link remains elusive.  The problem is likely due to the ambiguity of the name \"Eden Marco\" and the numerous LinkedIn profiles with similar names.  More sophisticated techniques beyond simple Google searches might be needed to pinpoint the correct profile.\n",
            "\n",
            "Final Answer: I cannot definitively provide a LinkedIn profile URL for Eden Marco based on the available information and tools.\n",
            "\u001b[0m\n",
            "\n",
            "\u001b[1m> Finished chain.\u001b[0m\n",
            "LinkedIn URL: I cannot definitively provide a LinkedIn profile URL for Eden Marco based on the available information and tools.\n"
          ]
        }
      ]
    }
  ]
}