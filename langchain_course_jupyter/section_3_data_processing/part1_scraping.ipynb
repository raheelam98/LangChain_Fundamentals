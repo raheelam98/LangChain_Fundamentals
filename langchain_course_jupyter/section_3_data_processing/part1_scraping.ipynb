{
  "nbformat": 4,
  "nbformat_minor": 0,
  "metadata": {
    "colab": {
      "provenance": [],
      "authorship_tag": "ABX9TyOWwXGJiFogBxhLtWDBsJ41",
      "include_colab_link": true
    },
    "kernelspec": {
      "name": "python3",
      "display_name": "Python 3"
    },
    "language_info": {
      "name": "python"
    }
  },
  "cells": [
    {
      "cell_type": "markdown",
      "metadata": {
        "id": "view-in-github",
        "colab_type": "text"
      },
      "source": [
        "<a href=\"https://colab.research.google.com/github/raheelam98/LangChain_Fundamentals/blob/main/langchain_course_jupyter/section_3_data_processing/part1_scraping.ipynb\" target=\"_parent\"><img src=\"https://colab.research.google.com/assets/colab-badge.svg\" alt=\"Open In Colab\"/></a>"
      ]
    },
    {
      "cell_type": "code",
      "execution_count": null,
      "metadata": {
        "id": "enhhLaew_3E8"
      },
      "outputs": [],
      "source": []
    },
    {
      "cell_type": "markdown",
      "source": [
        "### **Section 3**\n",
        "\n",
        "#### Integrating Linkedin Data Processing\n",
        "\n",
        "**Part 1 - Scraping**\n",
        "\n"
      ],
      "metadata": {
        "id": "hgfd1nzxAYaK"
      }
    },
    {
      "cell_type": "code",
      "source": [],
      "metadata": {
        "id": "g9UaTqT4BBN1"
      },
      "execution_count": null,
      "outputs": []
    }
  ]
}