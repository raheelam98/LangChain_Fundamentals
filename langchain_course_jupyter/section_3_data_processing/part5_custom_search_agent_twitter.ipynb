{
  "nbformat": 4,
  "nbformat_minor": 0,
  "metadata": {
    "colab": {
      "provenance": [],
      "name": "part5_custom_search_agent_twitter.ipynb",
      "authorship_tag": "ABX9TyONs8FUEeUqOakSglNwh8rP",
      "include_colab_link": true
    },
    "kernelspec": {
      "name": "python3",
      "display_name": "Python 3"
    },
    "language_info": {
      "name": "python"
    }
  },
  "cells": [
    {
      "cell_type": "markdown",
      "metadata": {
        "id": "view-in-github",
        "colab_type": "text"
      },
      "source": [
        "<a href=\"https://colab.research.google.com/github/raheelam98/LangChain_Fundamentals/blob/main/langchain_course_jupyter/section_3_data_processing/part5_custom_search_agent_twitter.ipynb\" target=\"_parent\"><img src=\"https://colab.research.google.com/assets/colab-badge.svg\" alt=\"Open In Colab\"/></a>"
      ]
    },
    {
      "cell_type": "markdown",
      "source": [
        "**Custom Search Agent - Twitter Profile**\n",
        "\n"
      ],
      "metadata": {
        "id": "aF3WrT5qFI0n"
      }
    },
    {
      "cell_type": "code",
      "execution_count": 1,
      "metadata": {
        "id": "7O_IvRxOE36h"
      },
      "outputs": [],
      "source": [
        "# Install the required packages:\n",
        "%%capture --no-stderr\n",
        "%pip install -U  langsmith # check\n",
        "%pip install --quiet -U  langchain_google_genai langchain_core langchain langgraph   python-dotenv langsmith"
      ]
    },
    {
      "cell_type": "code",
      "source": [
        "%%capture --no-stderr\n",
        "%pip install ChatGoogleGenerativeAI"
      ],
      "metadata": {
        "id": "ESSHIDXjZ7Yr"
      },
      "execution_count": 2,
      "outputs": []
    },
    {
      "cell_type": "code",
      "source": [
        "# packages\n",
        "%%capture --no-stderr\n",
        "%pip install -U tavily-python langchain_community"
      ],
      "metadata": {
        "id": "cb_K9Lcv0msD"
      },
      "execution_count": 3,
      "outputs": []
    },
    {
      "cell_type": "code",
      "source": [
        "import os\n",
        "from google.colab import userdata\n",
        "\n",
        "os.environ[\"LANGCHAIN_API_KEY\"] = userdata.get('LANGCHAIN_API_KEY')\n",
        "\n",
        "os.environ[\"LANGCHAIN_TRACING_V2\"] = \"true\"\n",
        "os.environ[\"LANGCHAIN_PROJECT\"] = \"ice_breaker\""
      ],
      "metadata": {
        "id": "JZnDXLEtHPD_"
      },
      "execution_count": 4,
      "outputs": []
    },
    {
      "cell_type": "code",
      "source": [
        "# API Keys\n",
        "# Get the GEMINI API key from user data\n",
        "from google.colab import userdata\n",
        "gemini_api_key = userdata.get('GEMINI_API_KEY')"
      ],
      "metadata": {
        "id": "OFHJsnbYHXt8"
      },
      "execution_count": 5,
      "outputs": []
    },
    {
      "cell_type": "code",
      "source": [
        "# from langchain_google_genai import ChatGoogleGenerativeAI\n",
        "\n",
        "# llm: ChatGoogleGenerativeAI = ChatGoogleGenerativeAI(model=\"gemini-1.5-flash\", api_key=gemini_api_key, temperature=0)"
      ],
      "metadata": {
        "id": "Rah7gCH6HYv7"
      },
      "execution_count": null,
      "outputs": []
    },
    {
      "cell_type": "code",
      "source": [
        "# llm\n",
        "from langchain_google_genai import ChatGoogleGenerativeAI\n",
        "\n",
        "llm = ChatGoogleGenerativeAI(\n",
        "    model=\"gemini-1.5-flash\",\n",
        "    max_retries=2,\n",
        "    api_key=gemini_api_key\n",
        ")"
      ],
      "metadata": {
        "id": "-JxLuLOxTUtv"
      },
      "execution_count": 6,
      "outputs": []
    },
    {
      "cell_type": "code",
      "source": [
        "llm.invoke(\"hi\")"
      ],
      "metadata": {
        "colab": {
          "base_uri": "https://localhost:8080/"
        },
        "id": "ZwNUiQdPTY4h",
        "outputId": "9c6df854-77ea-4166-ad53-5eaaff27a606"
      },
      "execution_count": 8,
      "outputs": [
        {
          "output_type": "execute_result",
          "data": {
            "text/plain": [
              "AIMessage(content='Hi there! How can I help you today?\\n', additional_kwargs={}, response_metadata={'prompt_feedback': {'block_reason': 0, 'safety_ratings': []}, 'finish_reason': 'STOP', 'safety_ratings': []}, id='run-a78ce517-a812-4c37-9ef2-ea28cf48f066-0', usage_metadata={'input_tokens': 2, 'output_tokens': 11, 'total_tokens': 13, 'input_token_details': {'cache_read': 0}})"
            ]
          },
          "metadata": {},
          "execution_count": 8
        }
      ]
    },
    {
      "cell_type": "code",
      "source": [
        "# # Restart Runtime and Re-authenticate\n",
        "# from google.colab import auth\n",
        "# auth.authenticate_user()\n"
      ],
      "metadata": {
        "id": "89cFZYaMSZAo"
      },
      "execution_count": null,
      "outputs": []
    },
    {
      "cell_type": "code",
      "source": [
        "result = llm.invoke(\"hello\")\n",
        "print(result)"
      ],
      "metadata": {
        "colab": {
          "base_uri": "https://localhost:8080/"
        },
        "id": "fviqHSlWTMtT",
        "outputId": "0bb8a3af-a3fc-492f-8a91-180856d51eee"
      },
      "execution_count": 10,
      "outputs": [
        {
          "output_type": "stream",
          "name": "stdout",
          "text": [
            "content='Hello there! How can I help you today?\\n' additional_kwargs={} response_metadata={'prompt_feedback': {'block_reason': 0, 'safety_ratings': []}, 'finish_reason': 'STOP', 'safety_ratings': []} id='run-6c785fa3-a092-48f9-808e-f90f38f45a73-0' usage_metadata={'input_tokens': 2, 'output_tokens': 11, 'total_tokens': 13, 'input_token_details': {'cache_read': 0}}\n"
          ]
        }
      ]
    },
    {
      "cell_type": "code",
      "source": [
        "# from langchain_google_genai import ChatGoogleGenerativeAI\n",
        "# model: ChatGoogleGenerativeAI = ChatGoogleGenerativeAI(model = \"gemini-1.5-flash\")\n",
        "# model.invoke(\"hi\")"
      ],
      "metadata": {
        "id": "Zmf65ZqKT3R-"
      },
      "execution_count": null,
      "outputs": []
    },
    {
      "cell_type": "markdown",
      "source": [
        "[Tavily Search](https://python.langchain.com/docs/integrations/tools/tavily_search/)\n",
        "\n",
        "[TAVILY_API_KEY](https://tavily.com/)\n"
      ],
      "metadata": {
        "id": "InWKmvk20nJu"
      }
    },
    {
      "cell_type": "code",
      "source": [
        "# API keys set up\n",
        "os.environ[\"TAVILY_API_KEY\"] = userdata.get(\"TAVILY_API_KEY\")"
      ],
      "metadata": {
        "id": "yZ3az20o11Ua"
      },
      "execution_count": 11,
      "outputs": []
    },
    {
      "cell_type": "markdown",
      "source": [
        "[hwchase17/react](https://smith.langchain.com/hub/hwchase17/react)\n",
        "\n"
      ],
      "metadata": {
        "id": "GUKqAi89PgHH"
      }
    },
    {
      "cell_type": "markdown",
      "source": [
        "**Create React Agent**"
      ],
      "metadata": {
        "id": "PDheCmaOuoB6"
      }
    },
    {
      "cell_type": "code",
      "source": [
        "from langchain_community.tools.tavily_search import TavilySearchResults\n",
        "\n",
        "\n",
        "def get_profile_url_tavily(name: str):\n",
        "    \"\"\"Searches for Linkedin or Twitter Profile Page.\"\"\"\n",
        "    search = TavilySearchResults()\n",
        "    res = search.run(f\"{name}\")\n",
        "    return res"
      ],
      "metadata": {
        "id": "Nde_6PrmxMR2"
      },
      "execution_count": 12,
      "outputs": []
    },
    {
      "cell_type": "code",
      "source": [
        "from dotenv import load_dotenv\n",
        "\n",
        "load_dotenv()\n",
        "from langchain_google_genai import ChatGoogleGenerativeAI\n",
        "from langchain.prompts.prompt import PromptTemplate\n",
        "from langchain_core.tools import Tool\n",
        "from langchain.agents import (\n",
        "    create_react_agent,\n",
        "    AgentExecutor,\n",
        ")\n",
        "from langchain import hub\n",
        "# from tools.tools import get_profile_url_tavily\n",
        "\n",
        "\n",
        "def lookup(name: str) -> str:\n",
        "    # llm = ChatOpenAI(\n",
        "    #     temperature=0,\n",
        "    #     model_name=\"gpt-4o-mini\",\n",
        "    # )\n",
        "    template = \"\"\"\n",
        "       given the name {name_of_person} I want you to find a link to their Twitter profile page, and extract from it their username\n",
        "       In Your Final answer only the person's username\"\"\"\n",
        "    prompt_template = PromptTemplate(\n",
        "        template=template, input_variables=[\"name_of_person\"]\n",
        "    )\n",
        "    tools_for_agent = [\n",
        "        Tool(\n",
        "            name=\"Crawl Google 4 Twitter profile page\",\n",
        "            func=get_profile_url_tavily,\n",
        "            description=\"useful for when you need get the Twitter Page URL\",\n",
        "        )\n",
        "    ]\n",
        "\n",
        "    react_prompt = hub.pull(\"hwchase17/react\")\n",
        "    agent = create_react_agent(llm=llm, tools=tools_for_agent, prompt=react_prompt)\n",
        "    agent_executor = AgentExecutor(agent=agent, tools=tools_for_agent, verbose=True)\n",
        "\n",
        "    result = agent_executor.invoke(\n",
        "        input={\"input\": prompt_template.format_prompt(name_of_person=name)}\n",
        "    )\n",
        "\n",
        "    twitter_username = result[\"output\"]\n",
        "    return twitter_username\n",
        "\n",
        "\n",
        "# if __name__ == \"__main__\":\n",
        "#     print(lookup(name=\"Elon Musk\"))"
      ],
      "metadata": {
        "id": "yPkJNDGo2vhs"
      },
      "execution_count": 13,
      "outputs": []
    },
    {
      "cell_type": "code",
      "source": [
        "# # Example function call\n",
        "print(\"Twitter Lookup \")\n",
        "twitter_lookup = lookup(name=\"Elon Musk\")\n",
        "print(\"Twitter Lookup:\", twitter_lookup)"
      ],
      "metadata": {
        "colab": {
          "base_uri": "https://localhost:8080/"
        },
        "id": "mNK3IBLE9Vtq",
        "outputId": "d34a5f83-6b3c-4986-c2c5-72ba27365a98"
      },
      "execution_count": 14,
      "outputs": [
        {
          "output_type": "stream",
          "name": "stdout",
          "text": [
            "Twitter Lookup \n",
            "\n",
            "\n",
            "\u001b[1m> Entering new AgentExecutor chain...\u001b[0m\n",
            "\u001b[32;1m\u001b[1;3mThought: I need to find Elon Musk's Twitter profile URL using a web search, then extract the username from the URL.  I'll use the provided tool to search for the Twitter profile URL.\n",
            "\n",
            "Action: Crawl Google 4 Twitter profile page\n",
            "Action Input: Elon Musk\n",
            "\u001b[0m\u001b[36;1m\u001b[1;3m[{'url': 'https://www.tesla.com/elon-musk', 'content': \"As the co-founder and CEO of Tesla, Elon leads all product design, engineering and global manufacturing of the company's electric vehicles, battery products and\"}, {'url': 'https://www.amazon.com/Elon-Musk-SpaceX-Fantastic-Future/dp/0062301233', 'content': \"Elon Musk is both an illuminating and authorized look at the extraordinary life of one of Silicon Valley's most exciting, unpredictable, and ambitious\"}, {'url': 'https://apnews.com/hub/elon-musk', 'content': 'What is he worth to Tesla?\\nAP Top Stories January 31 A\\nElon Musk cannot keep Tesla pay package worth more than $55 billion, judge rules\\nElon Musk says the first human has received an implant from Neuralink\\nElon Musk says the first human has received an implant from Neuralink, but other details are scant\\nCourt takes new look at whether Musk post illegally threatened workers with loss of stock options\\nTesla’s stock slides after profits come up short and EV maker warns of slowing growth in 2024\\nTesla 4Q earnings fall short of analyst estimates as company warns of lower sales growth this year\\nElon Musk visits Auschwitz after uproar over antisemitic messages on X\\nX Corp. has slashed 30% of trust and safety staff, an Australian online safety watchdog says\\nSpaceX accused of unlawfully firing employees who were critical of Elon Musk\\nPrice cuts boost Tesla’s 4Q sales, beating estimates as electric vehicle growth rate slows\\nThe year of social media soul-searching: Twitter dies, X and Threads are born and AI gets personal\\nFrom AI and inflation to Elon Musk and Taylor Swift, the business stories that dominated 2023\\nMusk and Tesla are battling unions across Scandinavia. ‘I did not see the comment,’ he says\\nBusiness Highlights: Advertisers flee X as Musk endorses antisemitic conspiracy; Open AI ditches CEO\\nIBM, EU, Disney and others pull ads from Elon Musk’s X as concerns about antisemitism fuel backlash\\nSpaceX will try again to launch its mega rocket into orbit after first attempt ended in an explosion\\nBusiness Highlights: US consumers are still spending; Musk’s Twitter takeover, 1 year later\\nA year after Musk takeover, X struggles with usage decline and misinformation\\nTesla says Justice Department is expanding investigations and issuing subpoenas for information\\nMusk’s X tests $1 fee for new users in the Philippines and New Zealand in bid to target spam\\nSocial media is awash in misinformation about Israel-Gaza war, but Musk’s X is the most egregious\\nCopyright 2024 The Associated Press. What comes next in the labor dispute?\\nEuropean Union investigating Musk’s X over possible breaches of social media law\\nWhat Tesla Autopilot does, why it’s being recalled and how the company plans to fix it\\nElon Musk restores X account of conspiracy theorist Alex Jones\\nBusiness Highlights: Fed’s Powell notes easing inflation; Walmart ditches Musk’s X\\nNOT REAL NEWS: Hint: Be true to yourself\\nLawsuit blaming Tesla’s Autopilot for driver’s death can go to trial, judge rules\\nMusk’s X sues liberal advocacy group Media Matters over its report on ads next to hate groups’ posts\\nDeSantis won’t condemn Musk for endorsing an antisemitic post. Elon Musk\\nMusk wants Tesla investors to vote on switching the carmaker’s corporate registration to Texas\\n'}, {'url': 'https://www.forbes.com/profile/elon-musk/', 'content': \"And Musk Of Profiting Off Hamas Propaganda: ‘Indefensible’\\nX Will Donate Ad Revenue To Gaza Aid Groups And Israeli Hospitals, Elon Musk Says\\nElon Musk Threatens ‘Thermonuclear’ Lawsuit Against Group Reporting Antisemitic X Posts Appearing Near Ads\\nBacklash Is Growing Over Elon Musk's Support Of Antisemitic Tweet—It's Not The First Time He's Faced Controversy Over His Posts\\nElon Musk Threatens ‘Thermonuclear’ Lawsuit Against Group Reporting Antisemitic X Posts Appearing Near Ads\\nElon Musk Condemned After Calling Antisemitic Post ‘Actual Truth’\\n More on Forbes\\nLawmakers Push For SEC Probe Into Elon Musk’s Neuralink For Claims About Brain Implant Safety\\nHow Elon Musk’s Personal Brand Devalues X\\nHouse Democrats Accuse X Tesla Stock Slides\\nHow Elon Musk Changed Twitter A Year And $44 Billion Later\\nElon Musk Has Somehow Killed The Share Button On PlayStation\\nForbes Daily: To Innovate Like Elon Musk\\nElon Musk Says Starlink Hit Breakeven Cash Flow\\n2023 Forbes 400: The Richest Newcomers\\nalso on forbes\"}, {'url': 'https://en.wikipedia.org/wiki/Elon_Musk', 'content': 'By this time, however, eight of the 12 children, had already been rescued, the rescuers employing full face masks, oxygen, and anesthesia; consequently, Thai authorities declined to use the submarine.[289] In March 2019, Musk was later one of the 187 people who received various honors conferred by the King of Thailand for involvement in the rescue effort.[293]\\nSoon after the rescue, Vernon Unsworth, a British recreational caver who had been exploring the cave for the previous six years and played a key advisory role in the operation, criticized the submarine on CNN as amounting to nothing more than a public relations effort with no chance of success, maintaining that Musk \"had no conception of what the cave passage was like\" and \"can stick his submarine where it hurts\". In 2022, a federal probe was launched into possible animal welfare violations by Neuralink.[195]\\nIn September 2023, the company was approved to intitiate human trials; the company will conduct a six-year study.[196]\\nThe Boring Company\\nIn 2017, Musk founded the Boring Company to construct tunnels, and revealed plans for specialized, underground, high-occupancy vehicles that could travel up to 150 miles per hour (240\\xa0km/h) and thus circumvent above-ground traffic in major cities.[197][198] Early in 2017, the company began discussions with regulatory bodies and initiated construction of a 30-foot (9.1\\xa0m) wide, 50-foot (15\\xa0m) long, and 15-foot (4.6\\xa0m) deep \"test trench\" on the premises of SpaceX\\'s offices, as that required no permits.[199] The Los Angeles tunnel, less than two miles (3.2\\xa0km) in length, debuted to journalists in 2018. At the time, SolarCity was facing liquidity issues.[178] Multiple shareholder groups filed a lawsuit against Musk and Tesla\\'s directors, stating that the purchase of SolarCity was done solely to benefit Musk and came at the expense of Tesla and its shareholders.[179][180] Tesla directors settled the lawsuit in January 2020, leaving Musk the sole remaining defendant.[181][182] Two years later, the court ruled in Musk\\'s favor.[183]\\nNeuralink\\nIn 2016, Musk co-founded Neuralink, a neurotechnology startup company, with an investment of $100\\xa0million.[184][185] Neuralink aims to integrate the human brain with artificial intelligence (AI) by creating devices that are embedded in the brain to facilitate its merging with machines. At age twelve, Musk sold his BASIC-based game Blastar to PC and Office Technology magazine for approximately $500.[44][45]\\nEducation\\nMusk attended Waterkloof House Preparatory School, Bryanston High School, and Pretoria Boys High School, from where he graduated.[46] Musk was a good but not exceptional student, earning a 61 in Afrikaans and a B on his senior math certification.[47] Musk applied for a Canadian passport through his Canadian-born mother,[48][49] knowing that it would be easier to immigrate to the United States this way.[50] While waiting for his application to be processed, he attended the University of Pretoria for five months.[51]\\nMusk arrived in Canada in June 1989 and lived with a second cousin in Saskatchewan for a year,[52] working odd jobs at a farm and lumber mill.[53] In 1990, he entered Queen\\'s University in Kingston, Ontario.[54][55] In January 2023, Musk was recognized by Guinness World Records for experiencing the \"largest loss of personal fortune in history\" with regards to his financial losses since November 2021, which Guinness quoted a Forbes estimate of $182 billion.[334]\\nMusk\\'s personal wealth is managed by his family office called Excession LLC, formed in 2016 and run by Jared Birchall.[335][261]\\nSources of wealth\\nAround 75% of Musk\\'s wealth was derived from Tesla stock in November 2020,[327] a proportion that fell to about 37% as of December 2022,[f] after selling nearly $40 billion in company shares since late 2021.[336] Musk does not receive a salary from Tesla; he agreed with the board in 2018 to a compensation plan that ties his personal earnings to Tesla\\'s valuation and revenue.[325]'}]\u001b[0m\u001b[32;1m\u001b[1;3mThought:The observation does not contain Elon Musk's Twitter URL. I need to perform a different search to find his Twitter profile.  I will try a direct search on Twitter.\n",
            "\n",
            "\n",
            "Action: Crawl Google 4 Twitter profile page\n",
            "Action Input: Elon Musk Twitter\n",
            "\u001b[0m\u001b[36;1m\u001b[1;3m[{'url': 'https://www.bbc.com/news/articles/c1elddq34p7o', 'content': 'Billionaire Elon Musk has hailed Twitter as a bastion for freedom of expression ever since he acquired the social media site two years ago. Not only is it a place where certain high-profile politicians, governments and police forces share statements and views - but now its owner Mr Musk has directly aligned himself with Donald Trump, a relationship that could redefine how the bosses of other social media giants deal with the next US President. That\\'s perhaps no surprise given that, following the US Election, Mr Musk himself told X users: \"You are the Media Now\". These characters have profiles on the main sites including X, allowing me to interrogate what different accounts were recommended on social media.'}, {'url': 'https://www.newsweek.com/elon-musk-kekius-maximus-name-change-2007870', 'content': 'Elon Musk Changes X Name - Newsweek Elon Musk, the billionaire tech mogul and owner of X, the social media platform formerly known as Twitter, has changed his profile name on the site to \"Kekius Maximus\" on Tuesday. Musk has changed on name on X, formerly Twitter, to Kekius Maximus. Musk has changed on name on X, formerly Twitter, to Kekius Maximus. Elon Musk posted on X on January 31: \"Kekius Maximus will soon reach level 80 in hardcore PoE.\" Ewan Palmer is a Newsweek News Reporter based in London, U.K. His focus is reporting on US politics, domestic policy and the courts. Ewan Palmer is a Newsweek News Reporter based in London, U.K. His focus is reporting on US politics, domestic policy ...'}, {'url': 'https://futurism.com/the-byte/elon-musk-twitter-be-nice', 'content': 'Elon\\'s tweet is perhaps his attempt at turning over a new leaf following the H-1B1 debacle on his website, in which the far right nationalists in president-elect Donald Trump\\'s base attacked him for supporting laxer immigration policy that would allow skilled foreign workers to come to the US, especially to ply their trade in the tech industry. More on Elon Musk: MAGA Figures Turn on Elon Musk for Not Hating Immigrants Enough Musken Raiders MAGA Figures Turn on Elon Musk for Not Hating Immigrants Enough 12.27.24, 3:43 PM EST Read MoreKiss the Ring Trump Seems Awfully Touchy About the Impression That He\\'s Taking Orders From Elon Musk 12.19.24, 4:13 PM EST Read MoreKeep It to Yourself Elon Elon Musk Being Investigated for Violating Terms of \"Top Secret\" Clearance 12.18.24, 3:12 PM EST Read More'}, {'url': 'https://x.com/elonmusk/status/1872860577057448306', 'content': \"@elonmusk. The reason I'm in America along with so many critical people who built SpaceX, Tesla and hundreds of other companies that made\"}, {'url': 'https://nypost.com/2024/12/31/us-news/why-elon-musk-changed-his-name-on-x-to-kekius-maximus/', 'content': 'Why Elon Musk changed his name on X to \\'Kekius Maximus\\' ##### Here\\'s why Elon Musk changed his name on X to \\'Kekius Maximus\\'... Here’s why Elon Musk changed his name on X to ‘Kekius Maximus’ — and what it means “Imagine you’re a journalist writing about Elon on X and it goes: ‘Elon Musk, aka Kekius Maximus, on X…,\\'” the Dittmann post read. Here\\'s why Elon Musk changed his name on X to \\'Kekius Maximus\\' — and what it means Elon Musk bizarrely changed his X profile name to \"Kekius Maximus\" on Tuesday. Here\\'s why Elon Musk changed his name on X to \\'Kekius Maximus\\' — and what it means'}]\u001b[0m\u001b[32;1m\u001b[1;3mThought: I found a URL that looks like Elon Musk's X (formerly Twitter) profile in the Observation.  I'll extract the username from that URL.\n",
            "\n",
            "Action: None needed.  I can extract the information from the previous observation.\n",
            "\n",
            "Action Input: None\n",
            "\u001b[0mNone needed.  I can extract the information from the previous observation. is not a valid tool, try one of [Crawl Google 4 Twitter profile page].\u001b[32;1m\u001b[1;3mThought: I found a Twitter URL in the previous observation: `https://x.com/elonmusk/status/1872860577057448306`.  The username is clearly visible in the path.\n",
            "\n",
            "Action: None needed. I can extract the username from the URL.\n",
            "\n",
            "Action Input: None\n",
            "\u001b[0mNone needed. I can extract the username from the URL. is not a valid tool, try one of [Crawl Google 4 Twitter profile page].\u001b[32;1m\u001b[1;3mThought: I now know the final answer.  The username is \"elonmusk\".\n",
            "\n",
            "Final Answer: elonmusk\n",
            "\u001b[0m\n",
            "\n",
            "\u001b[1m> Finished chain.\u001b[0m\n",
            "Twitter Lookup: elonmusk\n"
          ]
        }
      ]
    },
    {
      "cell_type": "code",
      "source": [
        "# from dotenv import load_dotenv\n",
        "from langchain.prompts.prompt import PromptTemplate\n",
        "\n",
        "\n",
        "# from third_parties.linkedin import scrape_linkedin_profile\n",
        "# from agents.linkedin_lookup_agent import lookup as linkedin_lookup_agent\n",
        "\n",
        "from dotenv import load_dotenv\n",
        "from langchain_google_genai import ChatGoogleGenerativeAI\n",
        "from pydantic import  SecretStr\n",
        "import os\n",
        "\n",
        "load_dotenv()\n",
        "\n",
        "# gemini_api_key = SecretStr(os.environ[\"GEMINI_API_KEY\"])\n",
        "\n",
        "# if not gemini_api_key:\n",
        "#     raise ValueError(\"GEMINI_API_KEY is not set. Please provide the API key in your environment.\")\n",
        "\n",
        "# print(\"API Key:\", gemini_api_key)\n",
        "\n",
        "# # Initialize the ChatGoogleGenerativeAI model\n",
        "# llm = ChatGoogleGenerativeAI(\n",
        "#     model=\"gemini-1.5-flash\",  # Specify the model\n",
        "#     api_key=gemini_api_key,  # Pass the API key\n",
        "#     )\n",
        "\n",
        "\n",
        "\n",
        "def ice_break_with(name: str) -> str:\n",
        "    linkedin_username = lookup(name=name)\n",
        "    # linkedin_data = scrape_linkedin_profile(linkedin_profile_url=linkedin_username)\n",
        "\n",
        "    summary_template = \"\"\"\n",
        "    given the Linkedin information {information} about a person I want you to create:\n",
        "    1. A short summary\n",
        "    2. two interesting facts about them\n",
        "    \"\"\"\n",
        "    summary_prompt_template = PromptTemplate(\n",
        "        input_variables=[\"information\"], template=summary_template\n",
        "    )\n",
        "\n",
        "    # llm = ChatOpenAI(temperature=0, model_name=\"gpt-3.5-turbo\")\n",
        "\n",
        "    chain = summary_prompt_template | llm\n",
        "\n",
        "    # res = chain.invoke(input={\"information\": linkedin_data})  # DO SCRAPE AGAIN\n",
        "\n",
        "    res = chain    # check it later\n",
        "\n",
        "    print(res)\n",
        "\n",
        "\n",
        "if __name__ == \"__main__\":\n",
        "    load_dotenv()\n",
        "\n",
        "    print(\"Ice Breaker Enter\")\n",
        "    ice_break_with(name=\"Raheela Mahmood\")\n"
      ],
      "metadata": {
        "id": "NnM6aOpleYQC",
        "outputId": "70742eb4-e60f-4bb8-b1fe-5e77e17707a5",
        "colab": {
          "base_uri": "https://localhost:8080/"
        }
      },
      "execution_count": null,
      "outputs": [
        {
          "output_type": "stream",
          "name": "stdout",
          "text": [
            "Ice Breaker Enter\n",
            "\n",
            "\n",
            "\u001b[1m> Entering new AgentExecutor chain...\u001b[0m\n",
            "\u001b[32;1m\u001b[1;3mThought: I need to find Raheela Mahmood's LinkedIn profile URL.  I can use Google to search for it.\n",
            "\n",
            "Action: Crawl Google 4 linkedin profile page\n",
            "\n",
            "Action Input: Raheela Mahmood\n",
            "\u001b[0m\u001b[36;1m\u001b[1;3m[{'url': 'https://www.imdb.com/name/nm12617361/', 'content': 'Raheela Mahmood. Actress: Launchpad. Raheela Mahmood is known for Launchpad (2021).'}, {'url': 'https://loop.frontiersin.org/people/2592956/overview', 'content': 'Atomic Energy Medical Centre. Karachi, Pakistan. View All. mini profile avatar Raheela Mahmood. Overview · Bio · Network0 · Publications0'}, {'url': 'https://www.imdb.com/title/tt13912496/characters/nm12617361', 'content': '\"Launchpad\" American Eid (TV Episode 2021) Raheela Mahmood as Dadi Ami.'}, {'url': 'https://www.pinterest.com/rmangel05/', 'content': \"See what Raheela Mahmood (rmangel05) has discovered on Pinterest, the world's biggest collection of ideas.\"}, {'url': 'https://www.facebook.com/raheela.mahmood.10/', 'content': 'Raheela Mahmood is on Facebook. Join Facebook to connect with Raheela Mahmood and others you may know. Facebook gives people the power to share and makes'}]\u001b[0m\u001b[32;1m\u001b[1;3mThought:The search results don't contain a LinkedIn profile URL for Raheela Mahmood.  The results show various other online presences.  I cannot provide a LinkedIn URL without finding one.\n",
            "\n",
            "Thought:I now know the final answer.  I cannot fulfill the request.\n",
            "\n",
            "Final Answer: I could not find a LinkedIn profile for Raheela Mahmood.\n",
            "\u001b[0m\n",
            "\n",
            "\u001b[1m> Finished chain.\u001b[0m\n",
            "first=PromptTemplate(input_variables=['information'], input_types={}, partial_variables={}, template='\\n    given the Linkedin information {information} about a person I want you to create:\\n    1. A short summary\\n    2. two interesting facts about them\\n    ') middle=[] last=ChatGoogleGenerativeAI(model='models/gemini-1.5-flash', google_api_key=SecretStr('**********'), max_retries=2, client=<google.ai.generativelanguage_v1beta.services.generative_service.client.GenerativeServiceClient object at 0x7fb5b23c81f0>, default_metadata=())\n"
          ]
        }
      ]
    }
  ]
}