{
  "nbformat": 4,
  "nbformat_minor": 0,
  "metadata": {
    "colab": {
      "provenance": [],
      "name": "part5_custom_search_agent_twitter.ipynb",
      "authorship_tag": "ABX9TyMbH0yz66NaWWdyV735kX3y",
      "include_colab_link": true
    },
    "kernelspec": {
      "name": "python3",
      "display_name": "Python 3"
    },
    "language_info": {
      "name": "python"
    }
  },
  "cells": [
    {
      "cell_type": "markdown",
      "metadata": {
        "id": "view-in-github",
        "colab_type": "text"
      },
      "source": [
        "<a href=\"https://colab.research.google.com/github/raheelam98/LangChain_Fundamentals/blob/main/langchain_course_jupyter/section_3_data_processing/part5_custom_search_agent_twitter.ipynb\" target=\"_parent\"><img src=\"https://colab.research.google.com/assets/colab-badge.svg\" alt=\"Open In Colab\"/></a>"
      ]
    },
    {
      "cell_type": "markdown",
      "source": [
        "**Custom Search Agent - Twitter Profile**\n",
        "\n"
      ],
      "metadata": {
        "id": "aF3WrT5qFI0n"
      }
    },
    {
      "cell_type": "code",
      "execution_count": null,
      "metadata": {
        "id": "7O_IvRxOE36h"
      },
      "outputs": [],
      "source": [
        "# Install the required packages:\n",
        "%%capture --no-stderr\n",
        "%pip install -U  langsmith # check\n",
        "%pip install --quiet -U  langchain_google_genai langchain_core langchain langgraph   python-dotenv langsmith"
      ]
    },
    {
      "cell_type": "code",
      "source": [
        "%%capture --no-stderr\n",
        "%pip install ChatGoogleGenerativeAI"
      ],
      "metadata": {
        "id": "ESSHIDXjZ7Yr"
      },
      "execution_count": null,
      "outputs": []
    },
    {
      "cell_type": "code",
      "source": [
        "# packages\n",
        "%%capture --no-stderr\n",
        "%pip install -U tavily-python langchain_community"
      ],
      "metadata": {
        "id": "cb_K9Lcv0msD"
      },
      "execution_count": null,
      "outputs": []
    },
    {
      "cell_type": "code",
      "source": [
        "import os\n",
        "from google.colab import userdata\n",
        "\n",
        "os.environ[\"LANGCHAIN_API_KEY\"] = userdata.get('LANGCHAIN_API_KEY')\n",
        "\n",
        "os.environ[\"LANGCHAIN_TRACING_V2\"] = \"true\"\n",
        "os.environ[\"LANGCHAIN_PROJECT\"] = \"ice_breaker\""
      ],
      "metadata": {
        "id": "JZnDXLEtHPD_"
      },
      "execution_count": null,
      "outputs": []
    },
    {
      "cell_type": "code",
      "source": [
        "# API Keys\n",
        "# Get the GEMINI API key from user data\n",
        "from google.colab import userdata\n",
        "gemini_api_key = userdata.get('GEMINI_API_KEY')"
      ],
      "metadata": {
        "id": "OFHJsnbYHXt8"
      },
      "execution_count": null,
      "outputs": []
    },
    {
      "cell_type": "code",
      "source": [
        "# from langchain_google_genai import ChatGoogleGenerativeAI\n",
        "\n",
        "# llm: ChatGoogleGenerativeAI = ChatGoogleGenerativeAI(model=\"gemini-1.5-flash\", api_key=gemini_api_key, temperature=0)"
      ],
      "metadata": {
        "id": "Rah7gCH6HYv7"
      },
      "execution_count": null,
      "outputs": []
    },
    {
      "cell_type": "code",
      "source": [
        "# llm\n",
        "from langchain_google_genai import ChatGoogleGenerativeAI\n",
        "\n",
        "llm = ChatGoogleGenerativeAI(\n",
        "    model=\"gemini-1.5-flash\",\n",
        "    max_retries=2,\n",
        "    api_key=gemini_api_key\n",
        ")"
      ],
      "metadata": {
        "id": "-JxLuLOxTUtv"
      },
      "execution_count": null,
      "outputs": []
    },
    {
      "cell_type": "code",
      "source": [
        "llm.invoke(\"hello\")"
      ],
      "metadata": {
        "colab": {
          "base_uri": "https://localhost:8080/"
        },
        "id": "ZwNUiQdPTY4h",
        "outputId": "9f97610d-2a99-4199-809e-1a53cc8ce6b9"
      },
      "execution_count": null,
      "outputs": [
        {
          "output_type": "execute_result",
          "data": {
            "text/plain": [
              "AIMessage(content='Hello there! How can I help you today?\\n', additional_kwargs={}, response_metadata={'prompt_feedback': {'block_reason': 0, 'safety_ratings': []}, 'finish_reason': 'STOP', 'safety_ratings': []}, id='run-d8adeaee-79ff-42d7-89db-32efcb0db82b-0', usage_metadata={'input_tokens': 2, 'output_tokens': 11, 'total_tokens': 13, 'input_token_details': {'cache_read': 0}})"
            ]
          },
          "metadata": {},
          "execution_count": 7
        }
      ]
    },
    {
      "cell_type": "code",
      "source": [
        "# Restart Runtime and Re-authenticate\n",
        "from google.colab import auth\n",
        "auth.authenticate_user()\n"
      ],
      "metadata": {
        "id": "89cFZYaMSZAo"
      },
      "execution_count": null,
      "outputs": []
    },
    {
      "cell_type": "code",
      "source": [
        "result = llm.invoke(\"hi\")\n",
        "print(result)"
      ],
      "metadata": {
        "colab": {
          "base_uri": "https://localhost:8080/"
        },
        "id": "fviqHSlWTMtT",
        "outputId": "044edde0-1c72-4da9-dbd3-d3c5c3a8647b"
      },
      "execution_count": null,
      "outputs": [
        {
          "output_type": "stream",
          "name": "stdout",
          "text": [
            "content='Hi there! How can I help you today?\\n' additional_kwargs={} response_metadata={'prompt_feedback': {'block_reason': 0, 'safety_ratings': []}, 'finish_reason': 'STOP', 'safety_ratings': []} id='run-d8b10998-14a9-4019-83d4-58365f33dac9-0' usage_metadata={'input_tokens': 2, 'output_tokens': 11, 'total_tokens': 13, 'input_token_details': {'cache_read': 0}}\n"
          ]
        }
      ]
    },
    {
      "cell_type": "code",
      "source": [
        "# from langchain_google_genai import ChatGoogleGenerativeAI\n",
        "# model: ChatGoogleGenerativeAI = ChatGoogleGenerativeAI(model = \"gemini-1.5-flash\")\n",
        "# model.invoke(\"hi\")"
      ],
      "metadata": {
        "id": "Zmf65ZqKT3R-"
      },
      "execution_count": null,
      "outputs": []
    },
    {
      "cell_type": "markdown",
      "source": [
        "[Tavily Search](https://python.langchain.com/docs/integrations/tools/tavily_search/)\n",
        "\n",
        "[TAVILY_API_KEY](https://tavily.com/)\n"
      ],
      "metadata": {
        "id": "InWKmvk20nJu"
      }
    },
    {
      "cell_type": "code",
      "source": [
        "# API keys set up\n",
        "os.environ[\"TAVILY_API_KEY\"] = userdata.get(\"TAVILY_API_KEY\")"
      ],
      "metadata": {
        "id": "yZ3az20o11Ua"
      },
      "execution_count": null,
      "outputs": []
    },
    {
      "cell_type": "markdown",
      "source": [
        "[hwchase17/react](https://smith.langchain.com/hub/hwchase17/react)\n",
        "\n"
      ],
      "metadata": {
        "id": "GUKqAi89PgHH"
      }
    },
    {
      "cell_type": "markdown",
      "source": [
        "**Create React Agent**"
      ],
      "metadata": {
        "id": "PDheCmaOuoB6"
      }
    },
    {
      "cell_type": "code",
      "source": [
        "from langchain_community.tools.tavily_search import TavilySearchResults\n",
        "\n",
        "\n",
        "def get_profile_url_tavily(name: str):\n",
        "    \"\"\"Searches for Linkedin or Twitter Profile Page.\"\"\"\n",
        "    search = TavilySearchResults()\n",
        "    res = search.run(f\"{name}\")\n",
        "    return res"
      ],
      "metadata": {
        "id": "Nde_6PrmxMR2"
      },
      "execution_count": null,
      "outputs": []
    },
    {
      "cell_type": "code",
      "source": [
        "from dotenv import load_dotenv\n",
        "\n",
        "load_dotenv()\n",
        "from langchain_google_genai import ChatGoogleGenerativeAI\n",
        "from langchain.prompts.prompt import PromptTemplate\n",
        "from langchain_core.tools import Tool\n",
        "from langchain.agents import (\n",
        "    create_react_agent,\n",
        "    AgentExecutor,\n",
        ")\n",
        "from langchain import hub\n",
        "# from tools.tools import get_profile_url_tavily\n",
        "\n",
        "\n",
        "def lookup(name: str) -> str:\n",
        "    # llm = ChatGoogleGenerativeAI(\n",
        "    #     model=\"gemini-1.5-flash\",\n",
        "    # )\n",
        "    template = \"\"\"given the full name {name_of_person} I want you to get it me a link to their Linkedin profile page.\n",
        "                              Your answer should contain only a URL\"\"\"\n",
        "\n",
        "    prompt_template = PromptTemplate(\n",
        "        template=template, input_variables=[\"name_of_person\"]\n",
        "    )\n",
        "    tools_for_agent = [\n",
        "        Tool(\n",
        "            name=\"Crawl Google 4 linkedin profile page\",\n",
        "            func=get_profile_url_tavily,\n",
        "            description=\"useful for when you need get the Linkedin Page URL\",\n",
        "        )\n",
        "    ]\n",
        "\n",
        "    react_prompt = hub.pull(\"hwchase17/react\")\n",
        "    agent = create_react_agent(llm=llm, tools=tools_for_agent, prompt=react_prompt)\n",
        "    agent_executor = AgentExecutor(agent=agent, tools=tools_for_agent, verbose=True)\n",
        "\n",
        "    result = agent_executor.invoke(\n",
        "        input={\"input\": prompt_template.format_prompt(name_of_person=name)}\n",
        "    )\n",
        "\n",
        "    linked_profile_url = result[\"output\"]\n",
        "    return linked_profile_url\n",
        "\n",
        "\n",
        "# if __name__ == \"__main__\":\n",
        "#     print(lookup(name=\"Raheela Mahmood\"))"
      ],
      "metadata": {
        "id": "yPkJNDGo2vhs"
      },
      "execution_count": null,
      "outputs": []
    },
    {
      "cell_type": "code",
      "source": [
        "# # Example function call\n",
        "linkedin_url = lookup(name=\"Raheela Mahmood\")\n",
        "print(\"LinkedIn URL:\", linkedin_url)"
      ],
      "metadata": {
        "colab": {
          "base_uri": "https://localhost:8080/"
        },
        "id": "mNK3IBLE9Vtq",
        "outputId": "a51018ef-a86b-4d02-ff11-511c7056c71e"
      },
      "execution_count": null,
      "outputs": [
        {
          "output_type": "stream",
          "name": "stdout",
          "text": [
            "\n",
            "\n",
            "\u001b[1m> Entering new AgentExecutor chain...\u001b[0m\n",
            "\u001b[32;1m\u001b[1;3mThought: I need to find Raheela Mahmood's LinkedIn profile URL.  I can use Google to search for it.\n",
            "\n",
            "Action: Crawl Google 4 linkedin profile page\n",
            "\n",
            "Action Input: Raheela Mahmood\n",
            "\u001b[0m\u001b[36;1m\u001b[1;3m[{'url': 'https://www.imdb.com/name/nm12617361/', 'content': 'Raheela Mahmood. Actress: Launchpad. Raheela Mahmood is known for Launchpad (2021).'}, {'url': 'https://loop.frontiersin.org/people/2592956/overview', 'content': 'Atomic Energy Medical Centre. Karachi, Pakistan. View All. mini profile avatar Raheela Mahmood. Overview · Bio · Network0 · Publications0'}, {'url': 'https://www.imdb.com/title/tt13912496/characters/nm12617361', 'content': '\"Launchpad\" American Eid (TV Episode 2021) Raheela Mahmood as Dadi Ami.'}, {'url': 'https://www.linkedin.com/pub/dir/Raheela/Mahmood', 'content': 'View the profiles of professionals named \"Raheela Mahmood\" on LinkedIn. There are 10 professionals named \"Raheela Mahmood\", who use LinkedIn to exchange'}, {'url': 'https://www.pinterest.com/rmangel05/', 'content': \"See what Raheela Mahmood (rmangel05) has discovered on Pinterest, the world's biggest collection of ideas.\"}]\u001b[0m\u001b[32;1m\u001b[1;3mThought:The observation contains multiple URLs. I need to identify the LinkedIn URL.\n",
            "\n",
            "Action: None needed.  The relevant information is already in the Observation.\n",
            "\n",
            "Thought: I have identified a potential LinkedIn URL from the observation.\n",
            "\n",
            "Final Answer: https://www.linkedin.com/pub/dir/Raheela/Mahmood\n",
            "\u001b[0m\n",
            "\n",
            "\u001b[1m> Finished chain.\u001b[0m\n",
            "LinkedIn URL: https://www.linkedin.com/pub/dir/Raheela/Mahmood\n"
          ]
        }
      ]
    },
    {
      "cell_type": "code",
      "source": [
        "# from dotenv import load_dotenv\n",
        "from langchain.prompts.prompt import PromptTemplate\n",
        "\n",
        "\n",
        "# from third_parties.linkedin import scrape_linkedin_profile\n",
        "# from agents.linkedin_lookup_agent import lookup as linkedin_lookup_agent\n",
        "\n",
        "from dotenv import load_dotenv\n",
        "from langchain_google_genai import ChatGoogleGenerativeAI\n",
        "from pydantic import  SecretStr\n",
        "import os\n",
        "\n",
        "load_dotenv()\n",
        "\n",
        "# gemini_api_key = SecretStr(os.environ[\"GEMINI_API_KEY\"])\n",
        "\n",
        "# if not gemini_api_key:\n",
        "#     raise ValueError(\"GEMINI_API_KEY is not set. Please provide the API key in your environment.\")\n",
        "\n",
        "# print(\"API Key:\", gemini_api_key)\n",
        "\n",
        "# # Initialize the ChatGoogleGenerativeAI model\n",
        "# llm = ChatGoogleGenerativeAI(\n",
        "#     model=\"gemini-1.5-flash\",  # Specify the model\n",
        "#     api_key=gemini_api_key,  # Pass the API key\n",
        "#     )\n",
        "\n",
        "\n",
        "\n",
        "def ice_break_with(name: str) -> str:\n",
        "    linkedin_username = lookup(name=name)\n",
        "    # linkedin_data = scrape_linkedin_profile(linkedin_profile_url=linkedin_username)\n",
        "\n",
        "    summary_template = \"\"\"\n",
        "    given the Linkedin information {information} about a person I want you to create:\n",
        "    1. A short summary\n",
        "    2. two interesting facts about them\n",
        "    \"\"\"\n",
        "    summary_prompt_template = PromptTemplate(\n",
        "        input_variables=[\"information\"], template=summary_template\n",
        "    )\n",
        "\n",
        "    # llm = ChatOpenAI(temperature=0, model_name=\"gpt-3.5-turbo\")\n",
        "\n",
        "    chain = summary_prompt_template | llm\n",
        "\n",
        "    # res = chain.invoke(input={\"information\": linkedin_data})  # DO SCRAPE AGAIN\n",
        "\n",
        "    res = chain    # check it later\n",
        "\n",
        "    print(res)\n",
        "\n",
        "\n",
        "if __name__ == \"__main__\":\n",
        "    load_dotenv()\n",
        "\n",
        "    print(\"Ice Breaker Enter\")\n",
        "    ice_break_with(name=\"Raheela Mahmood\")\n"
      ],
      "metadata": {
        "id": "NnM6aOpleYQC",
        "outputId": "70742eb4-e60f-4bb8-b1fe-5e77e17707a5",
        "colab": {
          "base_uri": "https://localhost:8080/"
        }
      },
      "execution_count": null,
      "outputs": [
        {
          "output_type": "stream",
          "name": "stdout",
          "text": [
            "Ice Breaker Enter\n",
            "\n",
            "\n",
            "\u001b[1m> Entering new AgentExecutor chain...\u001b[0m\n",
            "\u001b[32;1m\u001b[1;3mThought: I need to find Raheela Mahmood's LinkedIn profile URL.  I can use Google to search for it.\n",
            "\n",
            "Action: Crawl Google 4 linkedin profile page\n",
            "\n",
            "Action Input: Raheela Mahmood\n",
            "\u001b[0m\u001b[36;1m\u001b[1;3m[{'url': 'https://www.imdb.com/name/nm12617361/', 'content': 'Raheela Mahmood. Actress: Launchpad. Raheela Mahmood is known for Launchpad (2021).'}, {'url': 'https://loop.frontiersin.org/people/2592956/overview', 'content': 'Atomic Energy Medical Centre. Karachi, Pakistan. View All. mini profile avatar Raheela Mahmood. Overview · Bio · Network0 · Publications0'}, {'url': 'https://www.imdb.com/title/tt13912496/characters/nm12617361', 'content': '\"Launchpad\" American Eid (TV Episode 2021) Raheela Mahmood as Dadi Ami.'}, {'url': 'https://www.pinterest.com/rmangel05/', 'content': \"See what Raheela Mahmood (rmangel05) has discovered on Pinterest, the world's biggest collection of ideas.\"}, {'url': 'https://www.facebook.com/raheela.mahmood.10/', 'content': 'Raheela Mahmood is on Facebook. Join Facebook to connect with Raheela Mahmood and others you may know. Facebook gives people the power to share and makes'}]\u001b[0m\u001b[32;1m\u001b[1;3mThought:The search results don't contain a LinkedIn profile URL for Raheela Mahmood.  The results show various other online presences.  I cannot provide a LinkedIn URL without finding one.\n",
            "\n",
            "Thought:I now know the final answer.  I cannot fulfill the request.\n",
            "\n",
            "Final Answer: I could not find a LinkedIn profile for Raheela Mahmood.\n",
            "\u001b[0m\n",
            "\n",
            "\u001b[1m> Finished chain.\u001b[0m\n",
            "first=PromptTemplate(input_variables=['information'], input_types={}, partial_variables={}, template='\\n    given the Linkedin information {information} about a person I want you to create:\\n    1. A short summary\\n    2. two interesting facts about them\\n    ') middle=[] last=ChatGoogleGenerativeAI(model='models/gemini-1.5-flash', google_api_key=SecretStr('**********'), max_retries=2, client=<google.ai.generativelanguage_v1beta.services.generative_service.client.GenerativeServiceClient object at 0x7fb5b23c81f0>, default_metadata=())\n"
          ]
        }
      ]
    }
  ]
}